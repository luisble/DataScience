{
 "cells": [
  {
   "cell_type": "code",
   "execution_count": 7,
   "metadata": {
    "id": "C5sjNDMwt9A-"
   },
   "outputs": [],
   "source": [
    "import pandas as pd\n",
    "import numpy as np\n",
    "import matplotlib.pyplot as plt\n",
    "import seaborn as sns\n",
    "import statsmodels.api as sm\n",
    "import scipy.stats as stats\n",
    "import pylab"
   ]
  },
  {
   "cell_type": "code",
   "execution_count": 299,
   "metadata": {
    "colab": {
     "base_uri": "https://localhost:8080/",
     "height": 204
    },
    "id": "-NwIaWS3uQan",
    "outputId": "2e37f670-c7ef-4a4e-d480-7ce690685552"
   },
   "outputs": [
    {
     "data": {
      "text/html": [
       "<div>\n",
       "<style scoped>\n",
       "    .dataframe tbody tr th:only-of-type {\n",
       "        vertical-align: middle;\n",
       "    }\n",
       "\n",
       "    .dataframe tbody tr th {\n",
       "        vertical-align: top;\n",
       "    }\n",
       "\n",
       "    .dataframe thead th {\n",
       "        text-align: right;\n",
       "    }\n",
       "</style>\n",
       "<table border=\"1\" class=\"dataframe\">\n",
       "  <thead>\n",
       "    <tr style=\"text-align: right;\">\n",
       "      <th></th>\n",
       "      <th>Ordem</th>\n",
       "      <th>salario</th>\n",
       "      <th>idade</th>\n",
       "      <th>tempocasa</th>\n",
       "      <th>escolar</th>\n",
       "      <th>qproj_estra</th>\n",
       "      <th>proj_sustent</th>\n",
       "      <th>proj_6sigma</th>\n",
       "      <th>proj_social</th>\n",
       "      <th>notaavalia</th>\n",
       "    </tr>\n",
       "  </thead>\n",
       "  <tbody>\n",
       "    <tr>\n",
       "      <th>0</th>\n",
       "      <td>1</td>\n",
       "      <td>8000.80</td>\n",
       "      <td>25</td>\n",
       "      <td>4</td>\n",
       "      <td>11</td>\n",
       "      <td>1</td>\n",
       "      <td>1</td>\n",
       "      <td>1</td>\n",
       "      <td>0</td>\n",
       "      <td>79.38</td>\n",
       "    </tr>\n",
       "    <tr>\n",
       "      <th>1</th>\n",
       "      <td>2</td>\n",
       "      <td>8500.17</td>\n",
       "      <td>24</td>\n",
       "      <td>5</td>\n",
       "      <td>11</td>\n",
       "      <td>0</td>\n",
       "      <td>0</td>\n",
       "      <td>1</td>\n",
       "      <td>0</td>\n",
       "      <td>84.13</td>\n",
       "    </tr>\n",
       "    <tr>\n",
       "      <th>2</th>\n",
       "      <td>3</td>\n",
       "      <td>3350.59</td>\n",
       "      <td>22</td>\n",
       "      <td>1</td>\n",
       "      <td>12</td>\n",
       "      <td>0</td>\n",
       "      <td>0</td>\n",
       "      <td>0</td>\n",
       "      <td>0</td>\n",
       "      <td>46.15</td>\n",
       "    </tr>\n",
       "    <tr>\n",
       "      <th>3</th>\n",
       "      <td>4</td>\n",
       "      <td>9500.24</td>\n",
       "      <td>28</td>\n",
       "      <td>4</td>\n",
       "      <td>14</td>\n",
       "      <td>1</td>\n",
       "      <td>0</td>\n",
       "      <td>0</td>\n",
       "      <td>1</td>\n",
       "      <td>83.85</td>\n",
       "    </tr>\n",
       "    <tr>\n",
       "      <th>4</th>\n",
       "      <td>5</td>\n",
       "      <td>1500.63</td>\n",
       "      <td>12</td>\n",
       "      <td>2</td>\n",
       "      <td>12</td>\n",
       "      <td>0</td>\n",
       "      <td>0</td>\n",
       "      <td>0</td>\n",
       "      <td>1</td>\n",
       "      <td>73.64</td>\n",
       "    </tr>\n",
       "  </tbody>\n",
       "</table>\n",
       "</div>"
      ],
      "text/plain": [
       "   Ordem  salario  idade  ...  proj_6sigma  proj_social  notaavalia\n",
       "0      1  8000.80     25  ...            1            0       79.38\n",
       "1      2  8500.17     24  ...            1            0       84.13\n",
       "2      3  3350.59     22  ...            0            0       46.15\n",
       "3      4  9500.24     28  ...            0            1       83.85\n",
       "4      5  1500.63     12  ...            0            1       73.64\n",
       "\n",
       "[5 rows x 10 columns]"
      ]
     },
     "execution_count": 299,
     "metadata": {
      "tags": []
     },
     "output_type": "execute_result"
    }
   ],
   "source": [
    "ds = pd.read_csv('/content/Arquivo_Salarios_Colaboradores_2020.csv',sep=';', decimal=',')\n",
    "ds.head()"
   ]
  },
  {
   "cell_type": "code",
   "execution_count": 300,
   "metadata": {
    "colab": {
     "base_uri": "https://localhost:8080/"
    },
    "id": "4_SjCYO1viw6",
    "outputId": "7d5ad752-180a-4288-ce53-5b7680a2fea8"
   },
   "outputs": [
    {
     "data": {
      "text/plain": [
       "(180, 10)"
      ]
     },
     "execution_count": 300,
     "metadata": {
      "tags": []
     },
     "output_type": "execute_result"
    }
   ],
   "source": [
    "ds.shape"
   ]
  },
  {
   "cell_type": "code",
   "execution_count": 301,
   "metadata": {
    "colab": {
     "base_uri": "https://localhost:8080/"
    },
    "id": "6GaTxUwavdxc",
    "outputId": "7731223f-668f-4bda-90f4-60a41cf15976"
   },
   "outputs": [
    {
     "data": {
      "text/plain": [
       "Ordem             int64\n",
       "salario         float64\n",
       "idade             int64\n",
       "tempocasa         int64\n",
       "escolar           int64\n",
       "qproj_estra       int64\n",
       "proj_sustent      int64\n",
       "proj_6sigma       int64\n",
       "proj_social       int64\n",
       "notaavalia      float64\n",
       "dtype: object"
      ]
     },
     "execution_count": 301,
     "metadata": {
      "tags": []
     },
     "output_type": "execute_result"
    }
   ],
   "source": [
    "ds.dtypes"
   ]
  },
  {
   "cell_type": "code",
   "execution_count": 302,
   "metadata": {
    "colab": {
     "base_uri": "https://localhost:8080/",
     "height": 297
    },
    "id": "ljFbhw_bvaoL",
    "outputId": "390deeb2-181e-4a6c-f5a3-f7ffd290efda"
   },
   "outputs": [
    {
     "data": {
      "text/html": [
       "<div>\n",
       "<style scoped>\n",
       "    .dataframe tbody tr th:only-of-type {\n",
       "        vertical-align: middle;\n",
       "    }\n",
       "\n",
       "    .dataframe tbody tr th {\n",
       "        vertical-align: top;\n",
       "    }\n",
       "\n",
       "    .dataframe thead th {\n",
       "        text-align: right;\n",
       "    }\n",
       "</style>\n",
       "<table border=\"1\" class=\"dataframe\">\n",
       "  <thead>\n",
       "    <tr style=\"text-align: right;\">\n",
       "      <th></th>\n",
       "      <th>Ordem</th>\n",
       "      <th>salario</th>\n",
       "      <th>idade</th>\n",
       "      <th>tempocasa</th>\n",
       "      <th>escolar</th>\n",
       "      <th>qproj_estra</th>\n",
       "      <th>proj_sustent</th>\n",
       "      <th>proj_6sigma</th>\n",
       "      <th>proj_social</th>\n",
       "      <th>notaavalia</th>\n",
       "    </tr>\n",
       "  </thead>\n",
       "  <tbody>\n",
       "    <tr>\n",
       "      <th>count</th>\n",
       "      <td>180.000000</td>\n",
       "      <td>180.000000</td>\n",
       "      <td>180.000000</td>\n",
       "      <td>180.000000</td>\n",
       "      <td>180.000000</td>\n",
       "      <td>180.000000</td>\n",
       "      <td>180.000000</td>\n",
       "      <td>180.000000</td>\n",
       "      <td>180.000000</td>\n",
       "      <td>180.000000</td>\n",
       "    </tr>\n",
       "    <tr>\n",
       "      <th>mean</th>\n",
       "      <td>90.500000</td>\n",
       "      <td>8539.490667</td>\n",
       "      <td>31.038889</td>\n",
       "      <td>9.072222</td>\n",
       "      <td>12.583333</td>\n",
       "      <td>1.272222</td>\n",
       "      <td>0.277778</td>\n",
       "      <td>0.550000</td>\n",
       "      <td>0.500000</td>\n",
       "      <td>71.738111</td>\n",
       "    </tr>\n",
       "    <tr>\n",
       "      <th>std</th>\n",
       "      <td>52.105662</td>\n",
       "      <td>4729.507585</td>\n",
       "      <td>9.404245</td>\n",
       "      <td>5.609281</td>\n",
       "      <td>2.569427</td>\n",
       "      <td>1.218253</td>\n",
       "      <td>0.449153</td>\n",
       "      <td>0.498881</td>\n",
       "      <td>0.501395</td>\n",
       "      <td>15.993931</td>\n",
       "    </tr>\n",
       "    <tr>\n",
       "      <th>min</th>\n",
       "      <td>1.000000</td>\n",
       "      <td>1500.630000</td>\n",
       "      <td>12.000000</td>\n",
       "      <td>1.000000</td>\n",
       "      <td>7.000000</td>\n",
       "      <td>0.000000</td>\n",
       "      <td>0.000000</td>\n",
       "      <td>0.000000</td>\n",
       "      <td>0.000000</td>\n",
       "      <td>34.480000</td>\n",
       "    </tr>\n",
       "    <tr>\n",
       "      <th>25%</th>\n",
       "      <td>45.750000</td>\n",
       "      <td>5491.230000</td>\n",
       "      <td>24.000000</td>\n",
       "      <td>5.000000</td>\n",
       "      <td>11.000000</td>\n",
       "      <td>1.000000</td>\n",
       "      <td>0.000000</td>\n",
       "      <td>0.000000</td>\n",
       "      <td>0.000000</td>\n",
       "      <td>60.407500</td>\n",
       "    </tr>\n",
       "    <tr>\n",
       "      <th>50%</th>\n",
       "      <td>90.500000</td>\n",
       "      <td>7551.125000</td>\n",
       "      <td>28.000000</td>\n",
       "      <td>7.000000</td>\n",
       "      <td>13.000000</td>\n",
       "      <td>1.000000</td>\n",
       "      <td>0.000000</td>\n",
       "      <td>1.000000</td>\n",
       "      <td>0.500000</td>\n",
       "      <td>72.080000</td>\n",
       "    </tr>\n",
       "    <tr>\n",
       "      <th>75%</th>\n",
       "      <td>135.250000</td>\n",
       "      <td>10584.685000</td>\n",
       "      <td>36.000000</td>\n",
       "      <td>13.000000</td>\n",
       "      <td>14.000000</td>\n",
       "      <td>1.000000</td>\n",
       "      <td>1.000000</td>\n",
       "      <td>1.000000</td>\n",
       "      <td>1.000000</td>\n",
       "      <td>83.850000</td>\n",
       "    </tr>\n",
       "    <tr>\n",
       "      <th>max</th>\n",
       "      <td>180.000000</td>\n",
       "      <td>25329.910000</td>\n",
       "      <td>65.000000</td>\n",
       "      <td>25.000000</td>\n",
       "      <td>19.000000</td>\n",
       "      <td>7.000000</td>\n",
       "      <td>1.000000</td>\n",
       "      <td>1.000000</td>\n",
       "      <td>1.000000</td>\n",
       "      <td>98.960000</td>\n",
       "    </tr>\n",
       "  </tbody>\n",
       "</table>\n",
       "</div>"
      ],
      "text/plain": [
       "            Ordem       salario  ...  proj_social  notaavalia\n",
       "count  180.000000    180.000000  ...   180.000000  180.000000\n",
       "mean    90.500000   8539.490667  ...     0.500000   71.738111\n",
       "std     52.105662   4729.507585  ...     0.501395   15.993931\n",
       "min      1.000000   1500.630000  ...     0.000000   34.480000\n",
       "25%     45.750000   5491.230000  ...     0.000000   60.407500\n",
       "50%     90.500000   7551.125000  ...     0.500000   72.080000\n",
       "75%    135.250000  10584.685000  ...     1.000000   83.850000\n",
       "max    180.000000  25329.910000  ...     1.000000   98.960000\n",
       "\n",
       "[8 rows x 10 columns]"
      ]
     },
     "execution_count": 302,
     "metadata": {
      "tags": []
     },
     "output_type": "execute_result"
    }
   ],
   "source": [
    "ds.describe()"
   ]
  },
  {
   "cell_type": "markdown",
   "metadata": {
    "id": "BBuyVwSnxzKn"
   },
   "source": [
    "Coeficiente de Variabilidade"
   ]
  },
  {
   "cell_type": "code",
   "execution_count": 303,
   "metadata": {
    "colab": {
     "base_uri": "https://localhost:8080/"
    },
    "id": "YeEcl5oewDii",
    "outputId": "4abbca92-e51e-4c07-92ac-ed03ba08305b"
   },
   "outputs": [
    {
     "name": "stdout",
     "output_type": "stream",
     "text": [
      "0.30298264925880847\n"
     ]
    }
   ],
   "source": [
    "idade_cv = ds.idade.std() / ds.idade.mean()\n",
    "print(idade_cv)"
   ]
  },
  {
   "cell_type": "markdown",
   "metadata": {
    "id": "Q2zhknv7x38w"
   },
   "source": [
    "Correlação Pearson - Indicado para variáveis quantitativas"
   ]
  },
  {
   "cell_type": "code",
   "execution_count": 304,
   "metadata": {
    "colab": {
     "base_uri": "https://localhost:8080/",
     "height": 359
    },
    "id": "OD-veDiLuWFT",
    "outputId": "27ebfc1e-28e9-40ec-8921-9b4f87a8e593"
   },
   "outputs": [
    {
     "data": {
      "text/html": [
       "<div>\n",
       "<style scoped>\n",
       "    .dataframe tbody tr th:only-of-type {\n",
       "        vertical-align: middle;\n",
       "    }\n",
       "\n",
       "    .dataframe tbody tr th {\n",
       "        vertical-align: top;\n",
       "    }\n",
       "\n",
       "    .dataframe thead th {\n",
       "        text-align: right;\n",
       "    }\n",
       "</style>\n",
       "<table border=\"1\" class=\"dataframe\">\n",
       "  <thead>\n",
       "    <tr style=\"text-align: right;\">\n",
       "      <th></th>\n",
       "      <th>Ordem</th>\n",
       "      <th>salario</th>\n",
       "      <th>idade</th>\n",
       "      <th>tempocasa</th>\n",
       "      <th>escolar</th>\n",
       "      <th>qproj_estra</th>\n",
       "      <th>proj_sustent</th>\n",
       "      <th>proj_6sigma</th>\n",
       "      <th>proj_social</th>\n",
       "      <th>notaavalia</th>\n",
       "    </tr>\n",
       "  </thead>\n",
       "  <tbody>\n",
       "    <tr>\n",
       "      <th>Ordem</th>\n",
       "      <td>1.000000</td>\n",
       "      <td>0.190577</td>\n",
       "      <td>0.211800</td>\n",
       "      <td>0.144168</td>\n",
       "      <td>0.372692</td>\n",
       "      <td>0.121232</td>\n",
       "      <td>0.163754</td>\n",
       "      <td>-0.008489</td>\n",
       "      <td>0.134717</td>\n",
       "      <td>-0.015925</td>\n",
       "    </tr>\n",
       "    <tr>\n",
       "      <th>salario</th>\n",
       "      <td>0.190577</td>\n",
       "      <td>1.000000</td>\n",
       "      <td>0.601918</td>\n",
       "      <td>0.332923</td>\n",
       "      <td>0.492168</td>\n",
       "      <td>0.518249</td>\n",
       "      <td>-0.017883</td>\n",
       "      <td>0.359549</td>\n",
       "      <td>0.237473</td>\n",
       "      <td>0.078258</td>\n",
       "    </tr>\n",
       "    <tr>\n",
       "      <th>idade</th>\n",
       "      <td>0.211800</td>\n",
       "      <td>0.601918</td>\n",
       "      <td>1.000000</td>\n",
       "      <td>0.215992</td>\n",
       "      <td>0.298922</td>\n",
       "      <td>0.489621</td>\n",
       "      <td>-0.100444</td>\n",
       "      <td>0.164504</td>\n",
       "      <td>-0.004147</td>\n",
       "      <td>0.038592</td>\n",
       "    </tr>\n",
       "    <tr>\n",
       "      <th>tempocasa</th>\n",
       "      <td>0.144168</td>\n",
       "      <td>0.332923</td>\n",
       "      <td>0.215992</td>\n",
       "      <td>1.000000</td>\n",
       "      <td>-0.058369</td>\n",
       "      <td>0.087035</td>\n",
       "      <td>-0.039051</td>\n",
       "      <td>0.115490</td>\n",
       "      <td>-0.032775</td>\n",
       "      <td>0.069828</td>\n",
       "    </tr>\n",
       "    <tr>\n",
       "      <th>escolar</th>\n",
       "      <td>0.372692</td>\n",
       "      <td>0.492168</td>\n",
       "      <td>0.298922</td>\n",
       "      <td>-0.058369</td>\n",
       "      <td>1.000000</td>\n",
       "      <td>0.297009</td>\n",
       "      <td>-0.102464</td>\n",
       "      <td>0.153629</td>\n",
       "      <td>0.175625</td>\n",
       "      <td>-0.059922</td>\n",
       "    </tr>\n",
       "    <tr>\n",
       "      <th>qproj_estra</th>\n",
       "      <td>0.121232</td>\n",
       "      <td>0.518249</td>\n",
       "      <td>0.489621</td>\n",
       "      <td>0.087035</td>\n",
       "      <td>0.297009</td>\n",
       "      <td>1.000000</td>\n",
       "      <td>-0.057288</td>\n",
       "      <td>0.248645</td>\n",
       "      <td>0.260660</td>\n",
       "      <td>0.093075</td>\n",
       "    </tr>\n",
       "    <tr>\n",
       "      <th>proj_sustent</th>\n",
       "      <td>0.163754</td>\n",
       "      <td>-0.017883</td>\n",
       "      <td>-0.100444</td>\n",
       "      <td>-0.039051</td>\n",
       "      <td>-0.102464</td>\n",
       "      <td>-0.057288</td>\n",
       "      <td>1.000000</td>\n",
       "      <td>-0.062330</td>\n",
       "      <td>0.248069</td>\n",
       "      <td>0.051128</td>\n",
       "    </tr>\n",
       "    <tr>\n",
       "      <th>proj_6sigma</th>\n",
       "      <td>-0.008489</td>\n",
       "      <td>0.359549</td>\n",
       "      <td>0.164504</td>\n",
       "      <td>0.115490</td>\n",
       "      <td>0.153629</td>\n",
       "      <td>0.248645</td>\n",
       "      <td>-0.062330</td>\n",
       "      <td>1.000000</td>\n",
       "      <td>0.055835</td>\n",
       "      <td>0.069299</td>\n",
       "    </tr>\n",
       "    <tr>\n",
       "      <th>proj_social</th>\n",
       "      <td>0.134717</td>\n",
       "      <td>0.237473</td>\n",
       "      <td>-0.004147</td>\n",
       "      <td>-0.032775</td>\n",
       "      <td>0.175625</td>\n",
       "      <td>0.260660</td>\n",
       "      <td>0.248069</td>\n",
       "      <td>0.055835</td>\n",
       "      <td>1.000000</td>\n",
       "      <td>0.115789</td>\n",
       "    </tr>\n",
       "    <tr>\n",
       "      <th>notaavalia</th>\n",
       "      <td>-0.015925</td>\n",
       "      <td>0.078258</td>\n",
       "      <td>0.038592</td>\n",
       "      <td>0.069828</td>\n",
       "      <td>-0.059922</td>\n",
       "      <td>0.093075</td>\n",
       "      <td>0.051128</td>\n",
       "      <td>0.069299</td>\n",
       "      <td>0.115789</td>\n",
       "      <td>1.000000</td>\n",
       "    </tr>\n",
       "  </tbody>\n",
       "</table>\n",
       "</div>"
      ],
      "text/plain": [
       "                 Ordem   salario  ...  proj_social  notaavalia\n",
       "Ordem         1.000000  0.190577  ...     0.134717   -0.015925\n",
       "salario       0.190577  1.000000  ...     0.237473    0.078258\n",
       "idade         0.211800  0.601918  ...    -0.004147    0.038592\n",
       "tempocasa     0.144168  0.332923  ...    -0.032775    0.069828\n",
       "escolar       0.372692  0.492168  ...     0.175625   -0.059922\n",
       "qproj_estra   0.121232  0.518249  ...     0.260660    0.093075\n",
       "proj_sustent  0.163754 -0.017883  ...     0.248069    0.051128\n",
       "proj_6sigma  -0.008489  0.359549  ...     0.055835    0.069299\n",
       "proj_social   0.134717  0.237473  ...     1.000000    0.115789\n",
       "notaavalia   -0.015925  0.078258  ...     0.115789    1.000000\n",
       "\n",
       "[10 rows x 10 columns]"
      ]
     },
     "execution_count": 304,
     "metadata": {
      "tags": []
     },
     "output_type": "execute_result"
    }
   ],
   "source": [
    "ds.corr()"
   ]
  },
  {
   "cell_type": "markdown",
   "metadata": {
    "id": "tun1SjiHyyb9"
   },
   "source": [
    "Correlação de Spearman - Correlação com variáveis não exigindo que elas sejam quantitativas"
   ]
  },
  {
   "cell_type": "code",
   "execution_count": 305,
   "metadata": {
    "colab": {
     "base_uri": "https://localhost:8080/",
     "height": 348
    },
    "id": "KDp_Pnt1yxig",
    "outputId": "a2bf30f1-823e-49c5-871f-31a9ae5ead55"
   },
   "outputs": [
    {
     "data": {
      "text/html": [
       "<div>\n",
       "<style scoped>\n",
       "    .dataframe tbody tr th:only-of-type {\n",
       "        vertical-align: middle;\n",
       "    }\n",
       "\n",
       "    .dataframe tbody tr th {\n",
       "        vertical-align: top;\n",
       "    }\n",
       "\n",
       "    .dataframe thead th {\n",
       "        text-align: right;\n",
       "    }\n",
       "</style>\n",
       "<table border=\"1\" class=\"dataframe\">\n",
       "  <thead>\n",
       "    <tr style=\"text-align: right;\">\n",
       "      <th></th>\n",
       "      <th>Ordem</th>\n",
       "      <th>salario</th>\n",
       "      <th>idade</th>\n",
       "      <th>tempocasa</th>\n",
       "      <th>escolar</th>\n",
       "      <th>qproj_estra</th>\n",
       "      <th>proj_sustent</th>\n",
       "      <th>proj_6sigma</th>\n",
       "      <th>proj_social</th>\n",
       "      <th>notaavalia</th>\n",
       "    </tr>\n",
       "  </thead>\n",
       "  <tbody>\n",
       "    <tr>\n",
       "      <th>Ordem</th>\n",
       "      <td>1.000000</td>\n",
       "      <td>0.179837</td>\n",
       "      <td>0.266635</td>\n",
       "      <td>0.197571</td>\n",
       "      <td>0.382644</td>\n",
       "      <td>0.081980</td>\n",
       "      <td>0.163754</td>\n",
       "      <td>-0.008489</td>\n",
       "      <td>0.134717</td>\n",
       "      <td>-0.011477</td>\n",
       "    </tr>\n",
       "    <tr>\n",
       "      <th>salario</th>\n",
       "      <td>0.179837</td>\n",
       "      <td>1.000000</td>\n",
       "      <td>0.493272</td>\n",
       "      <td>0.315730</td>\n",
       "      <td>0.482820</td>\n",
       "      <td>0.440877</td>\n",
       "      <td>-0.021484</td>\n",
       "      <td>0.358799</td>\n",
       "      <td>0.253290</td>\n",
       "      <td>0.060057</td>\n",
       "    </tr>\n",
       "    <tr>\n",
       "      <th>idade</th>\n",
       "      <td>0.266635</td>\n",
       "      <td>0.493272</td>\n",
       "      <td>1.000000</td>\n",
       "      <td>0.142851</td>\n",
       "      <td>0.341025</td>\n",
       "      <td>0.384767</td>\n",
       "      <td>-0.059808</td>\n",
       "      <td>0.111462</td>\n",
       "      <td>-0.013823</td>\n",
       "      <td>0.074060</td>\n",
       "    </tr>\n",
       "    <tr>\n",
       "      <th>tempocasa</th>\n",
       "      <td>0.197571</td>\n",
       "      <td>0.315730</td>\n",
       "      <td>0.142851</td>\n",
       "      <td>1.000000</td>\n",
       "      <td>-0.033843</td>\n",
       "      <td>0.051508</td>\n",
       "      <td>-0.043960</td>\n",
       "      <td>0.135880</td>\n",
       "      <td>-0.066419</td>\n",
       "      <td>0.067998</td>\n",
       "    </tr>\n",
       "    <tr>\n",
       "      <th>escolar</th>\n",
       "      <td>0.382644</td>\n",
       "      <td>0.482820</td>\n",
       "      <td>0.341025</td>\n",
       "      <td>-0.033843</td>\n",
       "      <td>1.000000</td>\n",
       "      <td>0.313162</td>\n",
       "      <td>-0.072782</td>\n",
       "      <td>0.144702</td>\n",
       "      <td>0.201308</td>\n",
       "      <td>-0.029819</td>\n",
       "    </tr>\n",
       "    <tr>\n",
       "      <th>qproj_estra</th>\n",
       "      <td>0.081980</td>\n",
       "      <td>0.440877</td>\n",
       "      <td>0.384767</td>\n",
       "      <td>0.051508</td>\n",
       "      <td>0.313162</td>\n",
       "      <td>1.000000</td>\n",
       "      <td>-0.106189</td>\n",
       "      <td>0.251917</td>\n",
       "      <td>0.198336</td>\n",
       "      <td>0.060825</td>\n",
       "    </tr>\n",
       "    <tr>\n",
       "      <th>proj_sustent</th>\n",
       "      <td>0.163754</td>\n",
       "      <td>-0.021484</td>\n",
       "      <td>-0.059808</td>\n",
       "      <td>-0.043960</td>\n",
       "      <td>-0.072782</td>\n",
       "      <td>-0.106189</td>\n",
       "      <td>1.000000</td>\n",
       "      <td>-0.062330</td>\n",
       "      <td>0.248069</td>\n",
       "      <td>0.043447</td>\n",
       "    </tr>\n",
       "    <tr>\n",
       "      <th>proj_6sigma</th>\n",
       "      <td>-0.008489</td>\n",
       "      <td>0.358799</td>\n",
       "      <td>0.111462</td>\n",
       "      <td>0.135880</td>\n",
       "      <td>0.144702</td>\n",
       "      <td>0.251917</td>\n",
       "      <td>-0.062330</td>\n",
       "      <td>1.000000</td>\n",
       "      <td>0.055835</td>\n",
       "      <td>0.049970</td>\n",
       "    </tr>\n",
       "    <tr>\n",
       "      <th>proj_social</th>\n",
       "      <td>0.134717</td>\n",
       "      <td>0.253290</td>\n",
       "      <td>-0.013823</td>\n",
       "      <td>-0.066419</td>\n",
       "      <td>0.201308</td>\n",
       "      <td>0.198336</td>\n",
       "      <td>0.248069</td>\n",
       "      <td>0.055835</td>\n",
       "      <td>1.000000</td>\n",
       "      <td>0.112483</td>\n",
       "    </tr>\n",
       "    <tr>\n",
       "      <th>notaavalia</th>\n",
       "      <td>-0.011477</td>\n",
       "      <td>0.060057</td>\n",
       "      <td>0.074060</td>\n",
       "      <td>0.067998</td>\n",
       "      <td>-0.029819</td>\n",
       "      <td>0.060825</td>\n",
       "      <td>0.043447</td>\n",
       "      <td>0.049970</td>\n",
       "      <td>0.112483</td>\n",
       "      <td>1.000000</td>\n",
       "    </tr>\n",
       "  </tbody>\n",
       "</table>\n",
       "</div>"
      ],
      "text/plain": [
       "                 Ordem   salario  ...  proj_social  notaavalia\n",
       "Ordem         1.000000  0.179837  ...     0.134717   -0.011477\n",
       "salario       0.179837  1.000000  ...     0.253290    0.060057\n",
       "idade         0.266635  0.493272  ...    -0.013823    0.074060\n",
       "tempocasa     0.197571  0.315730  ...    -0.066419    0.067998\n",
       "escolar       0.382644  0.482820  ...     0.201308   -0.029819\n",
       "qproj_estra   0.081980  0.440877  ...     0.198336    0.060825\n",
       "proj_sustent  0.163754 -0.021484  ...     0.248069    0.043447\n",
       "proj_6sigma  -0.008489  0.358799  ...     0.055835    0.049970\n",
       "proj_social   0.134717  0.253290  ...     1.000000    0.112483\n",
       "notaavalia   -0.011477  0.060057  ...     0.112483    1.000000\n",
       "\n",
       "[10 rows x 10 columns]"
      ]
     },
     "execution_count": 305,
     "metadata": {
      "tags": []
     },
     "output_type": "execute_result"
    }
   ],
   "source": [
    "ds.corr(method=\"spearman\")"
   ]
  },
  {
   "cell_type": "code",
   "execution_count": 306,
   "metadata": {
    "colab": {
     "base_uri": "https://localhost:8080/",
     "height": 341
    },
    "id": "s1AnO8S_zkZK",
    "outputId": "9d3f5d24-03e9-49db-824c-d316397e1abf"
   },
   "outputs": [
    {
     "data": {
      "text/plain": [
       "(array([24., 40., 48., 27., 12., 14.,  8.,  2.,  2.,  3.]),\n",
       " array([ 1500.63 ,  3883.558,  6266.486,  8649.414, 11032.342, 13415.27 ,\n",
       "        15798.198, 18181.126, 20564.054, 22946.982, 25329.91 ]),\n",
       " <a list of 10 Patch objects>)"
      ]
     },
     "execution_count": 306,
     "metadata": {
      "tags": []
     },
     "output_type": "execute_result"
    },
    {
     "data": {
      "image/png": "[encoded data removed]",
      "text/plain": [
       "<Figure size 432x288 with 1 Axes>"
      ]
     },
     "metadata": {
      "needs_background": "light",
      "tags": []
     },
     "output_type": "display_data"
    }
   ],
   "source": [
    "plt.hist(ds.salario)"
   ]
  },
  {
   "cell_type": "code",
   "execution_count": 307,
   "metadata": {
    "colab": {
     "base_uri": "https://localhost:8080/",
     "height": 374
    },
    "id": "tQI_rs5l2eMR",
    "outputId": "8f747b80-16c5-4465-81ac-ea9afec6f280"
   },
   "outputs": [
    {
     "data": {
      "text/plain": [
       "(array([5.59535720e-05, 9.32559533e-05, 1.11907144e-04, 6.29477685e-05,\n",
       "        2.79767860e-05, 3.26395836e-05, 1.86511907e-05, 4.66279766e-06,\n",
       "        4.66279766e-06, 6.99419650e-06]),\n",
       " array([ 1500.63 ,  3883.558,  6266.486,  8649.414, 11032.342, 13415.27 ,\n",
       "        15798.198, 18181.126, 20564.054, 22946.982, 25329.91 ]),\n",
       " <a list of 10 Patch objects>)"
      ]
     },
     "execution_count": 307,
     "metadata": {
      "tags": []
     },
     "output_type": "execute_result"
    },
    {
     "data": {
      "image/png": "[encoded data removed]",
      "text/plain": [
       "<Figure size 432x288 with 1 Axes>"
      ]
     },
     "metadata": {
      "needs_background": "light",
      "tags": []
     },
     "output_type": "display_data"
    }
   ],
   "source": [
    "plt.hist(ds.salario,density=True)"
   ]
  },
  {
   "cell_type": "code",
   "execution_count": 308,
   "metadata": {
    "colab": {
     "base_uri": "https://localhost:8080/",
     "height": 354
    },
    "id": "nkU8K7II0a02",
    "outputId": "bb6d7752-fe6e-4954-a8e1-0653bce7653b"
   },
   "outputs": [
    {
     "name": "stderr",
     "output_type": "stream",
     "text": [
      "/usr/local/lib/python3.7/dist-packages/seaborn/distributions.py:2557: FutureWarning: `distplot` is a deprecated function and will be removed in a future version. Please adapt your code to use either `displot` (a figure-level function with similar flexibility) or `histplot` (an axes-level function for histograms).\n",
      "  warnings.warn(msg, FutureWarning)\n"
     ]
    },
    {
     "data": {
      "text/plain": [
       "<matplotlib.axes._subplots.AxesSubplot at 0x7f5868d23650>"
      ]
     },
     "execution_count": 308,
     "metadata": {
      "tags": []
     },
     "output_type": "execute_result"
    },
    {
     "data": {
      "image/png": "[encoded data removed]",
      "text/plain": [
       "<Figure size 432x288 with 1 Axes>"
      ]
     },
     "metadata": {
      "needs_background": "light",
      "tags": []
     },
     "output_type": "display_data"
    }
   ],
   "source": [
    "sns.distplot(ds.salario, hist=True, kde=True, \n",
    "             bins=int(180/5), color = 'darkblue', \n",
    "             hist_kws={'edgecolor':'black'},\n",
    "             kde_kws={'linewidth': 4})"
   ]
  },
  {
   "cell_type": "code",
   "execution_count": 309,
   "metadata": {
    "colab": {
     "base_uri": "https://localhost:8080/",
     "height": 410
    },
    "id": "53T02_kxvWBE",
    "outputId": "d4f401e6-bf7b-4a35-f912-c663c25f2fec"
   },
   "outputs": [
    {
     "data": {
      "text/plain": [
       "{'boxes': [<matplotlib.lines.Line2D at 0x7f58699d3510>],\n",
       " 'caps': [<matplotlib.lines.Line2D at 0x7f58699d2590>,\n",
       "  <matplotlib.lines.Line2D at 0x7f58699d2ad0>],\n",
       " 'fliers': [<matplotlib.lines.Line2D at 0x7f58699e85d0>],\n",
       " 'means': [],\n",
       " 'medians': [<matplotlib.lines.Line2D at 0x7f58699e8090>],\n",
       " 'whiskers': [<matplotlib.lines.Line2D at 0x7f58699d3ad0>,\n",
       "  <matplotlib.lines.Line2D at 0x7f58699d2050>]}"
      ]
     },
     "execution_count": 309,
     "metadata": {
      "tags": []
     },
     "output_type": "execute_result"
    },
    {
     "data": {
      "image/png": "[encoded data removed]",
      "text/plain": [
       "<Figure size 432x288 with 1 Axes>"
      ]
     },
     "metadata": {
      "needs_background": "light",
      "tags": []
     },
     "output_type": "display_data"
    }
   ],
   "source": [
    "plt.boxplot(ds.salario)"
   ]
  },
  {
   "cell_type": "markdown",
   "metadata": {
    "id": "ipusf6Mx75Qj"
   },
   "source": [
    "Transformando variáveis"
   ]
  },
  {
   "cell_type": "code",
   "execution_count": 310,
   "metadata": {
    "id": "WY1kItr5v8IC"
   },
   "outputs": [],
   "source": [
    "ds['sqrt_salario'] = ds.loc[:,'salario'].apply(lambda x : np.sqrt(x))"
   ]
  },
  {
   "cell_type": "code",
   "execution_count": 311,
   "metadata": {
    "colab": {
     "base_uri": "https://localhost:8080/"
    },
    "id": "l1CB_qIS7Keo",
    "outputId": "9f7d63fc-4e2c-4f96-e18a-70bffb656d38"
   },
   "outputs": [
    {
     "data": {
      "text/plain": [
       "Ordem             int64\n",
       "salario         float64\n",
       "idade             int64\n",
       "tempocasa         int64\n",
       "escolar           int64\n",
       "qproj_estra       int64\n",
       "proj_sustent      int64\n",
       "proj_6sigma       int64\n",
       "proj_social       int64\n",
       "notaavalia      float64\n",
       "sqrt_salario    float64\n",
       "dtype: object"
      ]
     },
     "execution_count": 311,
     "metadata": {
      "tags": []
     },
     "output_type": "execute_result"
    }
   ],
   "source": [
    "ds.dtypes"
   ]
  },
  {
   "cell_type": "code",
   "execution_count": 312,
   "metadata": {
    "colab": {
     "base_uri": "https://localhost:8080/",
     "height": 378
    },
    "id": "exoqW-5q8NQ1",
    "outputId": "4ff511e9-2356-48eb-901b-376c891babe1"
   },
   "outputs": [
    {
     "data": {
      "text/html": [
       "<div>\n",
       "<style scoped>\n",
       "    .dataframe tbody tr th:only-of-type {\n",
       "        vertical-align: middle;\n",
       "    }\n",
       "\n",
       "    .dataframe tbody tr th {\n",
       "        vertical-align: top;\n",
       "    }\n",
       "\n",
       "    .dataframe thead th {\n",
       "        text-align: right;\n",
       "    }\n",
       "</style>\n",
       "<table border=\"1\" class=\"dataframe\">\n",
       "  <thead>\n",
       "    <tr style=\"text-align: right;\">\n",
       "      <th></th>\n",
       "      <th>salario</th>\n",
       "      <th>sqrt_salario</th>\n",
       "    </tr>\n",
       "  </thead>\n",
       "  <tbody>\n",
       "    <tr>\n",
       "      <th>0</th>\n",
       "      <td>8000.80</td>\n",
       "      <td>89.447191</td>\n",
       "    </tr>\n",
       "    <tr>\n",
       "      <th>1</th>\n",
       "      <td>8500.17</td>\n",
       "      <td>92.196367</td>\n",
       "    </tr>\n",
       "    <tr>\n",
       "      <th>2</th>\n",
       "      <td>3350.59</td>\n",
       "      <td>57.884281</td>\n",
       "    </tr>\n",
       "    <tr>\n",
       "      <th>3</th>\n",
       "      <td>9500.24</td>\n",
       "      <td>97.469175</td>\n",
       "    </tr>\n",
       "    <tr>\n",
       "      <th>4</th>\n",
       "      <td>1500.63</td>\n",
       "      <td>38.737966</td>\n",
       "    </tr>\n",
       "    <tr>\n",
       "      <th>5</th>\n",
       "      <td>5500.22</td>\n",
       "      <td>74.163468</td>\n",
       "    </tr>\n",
       "    <tr>\n",
       "      <th>6</th>\n",
       "      <td>3500.06</td>\n",
       "      <td>59.161305</td>\n",
       "    </tr>\n",
       "    <tr>\n",
       "      <th>7</th>\n",
       "      <td>13750.67</td>\n",
       "      <td>117.263251</td>\n",
       "    </tr>\n",
       "    <tr>\n",
       "      <th>8</th>\n",
       "      <td>4750.70</td>\n",
       "      <td>68.925322</td>\n",
       "    </tr>\n",
       "    <tr>\n",
       "      <th>9</th>\n",
       "      <td>6750.83</td>\n",
       "      <td>82.163435</td>\n",
       "    </tr>\n",
       "    <tr>\n",
       "      <th>10</th>\n",
       "      <td>8750.38</td>\n",
       "      <td>93.543466</td>\n",
       "    </tr>\n",
       "  </tbody>\n",
       "</table>\n",
       "</div>"
      ],
      "text/plain": [
       "     salario  sqrt_salario\n",
       "0    8000.80     89.447191\n",
       "1    8500.17     92.196367\n",
       "2    3350.59     57.884281\n",
       "3    9500.24     97.469175\n",
       "4    1500.63     38.737966\n",
       "5    5500.22     74.163468\n",
       "6    3500.06     59.161305\n",
       "7   13750.67    117.263251\n",
       "8    4750.70     68.925322\n",
       "9    6750.83     82.163435\n",
       "10   8750.38     93.543466"
      ]
     },
     "execution_count": 312,
     "metadata": {
      "tags": []
     },
     "output_type": "execute_result"
    }
   ],
   "source": [
    "ds.loc[0:10,['salario','sqrt_salario']]"
   ]
  },
  {
   "cell_type": "code",
   "execution_count": 313,
   "metadata": {
    "id": "RBIrFhLc6A7f"
   },
   "outputs": [],
   "source": [
    "ds['f_salario'] = ds.loc[:,'sqrt_salario'].apply(lambda x : x**2)"
   ]
  },
  {
   "cell_type": "code",
   "execution_count": 314,
   "metadata": {
    "colab": {
     "base_uri": "https://localhost:8080/",
     "height": 378
    },
    "id": "cLLHFzUs6h6a",
    "outputId": "0af3f73f-88fe-41bd-aadd-2dd86a2526a2"
   },
   "outputs": [
    {
     "data": {
      "text/html": [
       "<div>\n",
       "<style scoped>\n",
       "    .dataframe tbody tr th:only-of-type {\n",
       "        vertical-align: middle;\n",
       "    }\n",
       "\n",
       "    .dataframe tbody tr th {\n",
       "        vertical-align: top;\n",
       "    }\n",
       "\n",
       "    .dataframe thead th {\n",
       "        text-align: right;\n",
       "    }\n",
       "</style>\n",
       "<table border=\"1\" class=\"dataframe\">\n",
       "  <thead>\n",
       "    <tr style=\"text-align: right;\">\n",
       "      <th></th>\n",
       "      <th>salario</th>\n",
       "      <th>f_salario</th>\n",
       "    </tr>\n",
       "  </thead>\n",
       "  <tbody>\n",
       "    <tr>\n",
       "      <th>0</th>\n",
       "      <td>8000.80</td>\n",
       "      <td>8000.80</td>\n",
       "    </tr>\n",
       "    <tr>\n",
       "      <th>1</th>\n",
       "      <td>8500.17</td>\n",
       "      <td>8500.17</td>\n",
       "    </tr>\n",
       "    <tr>\n",
       "      <th>2</th>\n",
       "      <td>3350.59</td>\n",
       "      <td>3350.59</td>\n",
       "    </tr>\n",
       "    <tr>\n",
       "      <th>3</th>\n",
       "      <td>9500.24</td>\n",
       "      <td>9500.24</td>\n",
       "    </tr>\n",
       "    <tr>\n",
       "      <th>4</th>\n",
       "      <td>1500.63</td>\n",
       "      <td>1500.63</td>\n",
       "    </tr>\n",
       "    <tr>\n",
       "      <th>5</th>\n",
       "      <td>5500.22</td>\n",
       "      <td>5500.22</td>\n",
       "    </tr>\n",
       "    <tr>\n",
       "      <th>6</th>\n",
       "      <td>3500.06</td>\n",
       "      <td>3500.06</td>\n",
       "    </tr>\n",
       "    <tr>\n",
       "      <th>7</th>\n",
       "      <td>13750.67</td>\n",
       "      <td>13750.67</td>\n",
       "    </tr>\n",
       "    <tr>\n",
       "      <th>8</th>\n",
       "      <td>4750.70</td>\n",
       "      <td>4750.70</td>\n",
       "    </tr>\n",
       "    <tr>\n",
       "      <th>9</th>\n",
       "      <td>6750.83</td>\n",
       "      <td>6750.83</td>\n",
       "    </tr>\n",
       "    <tr>\n",
       "      <th>10</th>\n",
       "      <td>8750.38</td>\n",
       "      <td>8750.38</td>\n",
       "    </tr>\n",
       "  </tbody>\n",
       "</table>\n",
       "</div>"
      ],
      "text/plain": [
       "     salario  f_salario\n",
       "0    8000.80    8000.80\n",
       "1    8500.17    8500.17\n",
       "2    3350.59    3350.59\n",
       "3    9500.24    9500.24\n",
       "4    1500.63    1500.63\n",
       "5    5500.22    5500.22\n",
       "6    3500.06    3500.06\n",
       "7   13750.67   13750.67\n",
       "8    4750.70    4750.70\n",
       "9    6750.83    6750.83\n",
       "10   8750.38    8750.38"
      ]
     },
     "execution_count": 314,
     "metadata": {
      "tags": []
     },
     "output_type": "execute_result"
    }
   ],
   "source": [
    "ds.loc[0:10,['salario','f_salario']]"
   ]
  },
  {
   "cell_type": "code",
   "execution_count": 315,
   "metadata": {
    "colab": {
     "base_uri": "https://localhost:8080/",
     "height": 573
    },
    "id": "AqTIZylg8S-B",
    "outputId": "e8addf54-71a9-4ac1-8e72-1da739bcf3ac"
   },
   "outputs": [
    {
     "data": {
      "image/png": "[encoded data removed]",
      "text/plain": [
       "<Figure size 432x288 with 1 Axes>"
      ]
     },
     "metadata": {
      "needs_background": "light",
      "tags": []
     },
     "output_type": "display_data"
    },
    {
     "data": {
      "image/png": "[encoded data removed]",
      "text/plain": [
       "<Figure size 432x288 with 1 Axes>"
      ]
     },
     "metadata": {
      "needs_background": "light",
      "tags": []
     },
     "output_type": "display_data"
    }
   ],
   "source": [
    "stats.probplot(ds.salario, dist=\"norm\", plot=pylab)\n",
    "pylab.show()\n",
    "stats.probplot(ds.sqrt_salario, dist=\"norm\", plot=pylab)\n",
    "pylab.show()"
   ]
  },
  {
   "cell_type": "code",
   "execution_count": 316,
   "metadata": {
    "colab": {
     "base_uri": "https://localhost:8080/",
     "height": 541
    },
    "id": "ttYUIcOF-96o",
    "outputId": "9594910c-7298-4a4b-85b5-64fdf0b5a4aa"
   },
   "outputs": [
    {
     "data": {
      "image/png": "[encoded data removed]",
      "text/plain": [
       "<Figure size 432x288 with 1 Axes>"
      ]
     },
     "metadata": {
      "needs_background": "light",
      "tags": []
     },
     "output_type": "display_data"
    },
    {
     "data": {
      "image/png": "[encoded data removed]",
      "text/plain": [
       "<Figure size 432x288 with 1 Axes>"
      ]
     },
     "metadata": {
      "needs_background": "light",
      "tags": []
     },
     "output_type": "display_data"
    }
   ],
   "source": [
    "sm.qqplot(ds.salario, line='s')\n",
    "pylab.show()\n",
    "sm.qqplot(ds.sqrt_salario, line='s')\n",
    "pylab.show()"
   ]
  },
  {
   "cell_type": "code",
   "execution_count": 317,
   "metadata": {
    "colab": {
     "base_uri": "https://localhost:8080/",
     "height": 297
    },
    "id": "jKnnHKwM_BpH",
    "outputId": "0ffd8d33-e95c-4acd-872c-51dd22f93708"
   },
   "outputs": [
    {
     "data": {
      "text/plain": [
       "<matplotlib.axes._subplots.AxesSubplot at 0x7f5869343710>"
      ]
     },
     "execution_count": 317,
     "metadata": {
      "tags": []
     },
     "output_type": "execute_result"
    },
    {
     "data": {
      "image/png": "[encoded data removed]",
      "text/plain": [
       "<Figure size 432x288 with 1 Axes>"
      ]
     },
     "metadata": {
      "needs_background": "light",
      "tags": []
     },
     "output_type": "display_data"
    }
   ],
   "source": [
    "sns.regplot(x=ds[\"idade\"], y=ds[\"salario\"])"
   ]
  },
  {
   "cell_type": "code",
   "execution_count": 318,
   "metadata": {
    "colab": {
     "base_uri": "https://localhost:8080/",
     "height": 297
    },
    "id": "9V4LD36VCEzQ",
    "outputId": "1e8a0d58-2e26-4968-f683-fc0f318ba3dd"
   },
   "outputs": [
    {
     "data": {
      "text/plain": [
       "<matplotlib.axes._subplots.AxesSubplot at 0x7f58692861d0>"
      ]
     },
     "execution_count": 318,
     "metadata": {
      "tags": []
     },
     "output_type": "execute_result"
    },
    {
     "data": {
      "image/png": "[encoded data removed]",
      "text/plain": [
       "<Figure size 432x288 with 1 Axes>"
      ]
     },
     "metadata": {
      "needs_background": "light",
      "tags": []
     },
     "output_type": "display_data"
    }
   ],
   "source": [
    "sns.regplot(x=ds[\"tempocasa\"], y=ds[\"salario\"])"
   ]
  },
  {
   "cell_type": "code",
   "execution_count": 319,
   "metadata": {
    "colab": {
     "base_uri": "https://localhost:8080/",
     "height": 297
    },
    "id": "cMCHbpF_CMnx",
    "outputId": "35412e85-ff1a-4b48-8e28-71533b20139e"
   },
   "outputs": [
    {
     "data": {
      "text/plain": [
       "<matplotlib.axes._subplots.AxesSubplot at 0x7f58694616d0>"
      ]
     },
     "execution_count": 319,
     "metadata": {
      "tags": []
     },
     "output_type": "execute_result"
    },
    {
     "data": {
      "image/png": "[encoded data removed]",
      "text/plain": [
       "<Figure size 432x288 with 1 Axes>"
      ]
     },
     "metadata": {
      "needs_background": "light",
      "tags": []
     },
     "output_type": "display_data"
    }
   ],
   "source": [
    "sns.regplot(x=ds[\"notaavalia\"], y=ds[\"salario\"])"
   ]
  },
  {
   "cell_type": "code",
   "execution_count": 320,
   "metadata": {
    "colab": {
     "base_uri": "https://localhost:8080/",
     "height": 297
    },
    "id": "Gs_GDUgnCeOL",
    "outputId": "2f7c340f-3c55-4fe6-98ef-a0f16c2b127b"
   },
   "outputs": [
    {
     "data": {
      "text/plain": [
       "<matplotlib.axes._subplots.AxesSubplot at 0x7f5868df62d0>"
      ]
     },
     "execution_count": 320,
     "metadata": {
      "tags": []
     },
     "output_type": "execute_result"
    },
    {
     "data": {
      "image/png": "[encoded data removed]",
      "text/plain": [
       "<Figure size 432x288 with 1 Axes>"
      ]
     },
     "metadata": {
      "needs_background": "light",
      "tags": []
     },
     "output_type": "display_data"
    }
   ],
   "source": [
    "sns.regplot(x=ds[\"escolar\"], y=ds[\"salario\"])"
   ]
  },
  {
   "cell_type": "code",
   "execution_count": 321,
   "metadata": {
    "colab": {
     "base_uri": "https://localhost:8080/",
     "height": 280
    },
    "id": "pXgWBP6WCe88",
    "outputId": "2de4d047-f0e4-4b39-bd21-de5b595e146e"
   },
   "outputs": [
    {
     "data": {
      "image/png": "[encoded data removed]",
      "text/plain": [
       "<Figure size 432x288 with 1 Axes>"
      ]
     },
     "metadata": {
      "needs_background": "light",
      "tags": []
     },
     "output_type": "display_data"
    }
   ],
   "source": [
    "ax = sns.boxplot(x=\"qproj_estra\", y=\"salario\", data=ds)"
   ]
  },
  {
   "cell_type": "code",
   "execution_count": 322,
   "metadata": {
    "colab": {
     "base_uri": "https://localhost:8080/",
     "height": 280
    },
    "id": "59-BwP44C2jW",
    "outputId": "a02c43cb-a358-480c-e70a-3d3e280427cb"
   },
   "outputs": [
    {
     "data": {
      "image/png": "[encoded data removed]",
      "text/plain": [
       "<Figure size 432x288 with 1 Axes>"
      ]
     },
     "metadata": {
      "needs_background": "light",
      "tags": []
     },
     "output_type": "display_data"
    }
   ],
   "source": [
    "ax = sns.boxplot(x=\"proj_sustent\", y=\"salario\", data=ds, palette={'red','blue'})"
   ]
  },
  {
   "cell_type": "code",
   "execution_count": 323,
   "metadata": {
    "colab": {
     "base_uri": "https://localhost:8080/",
     "height": 280
    },
    "id": "FmwqrPjjEZID",
    "outputId": "124957d9-bf09-4eac-820b-523a2551dc77"
   },
   "outputs": [
    {
     "data": {
      "image/png": "[encoded data removed]",
      "text/plain": [
       "<Figure size 432x288 with 1 Axes>"
      ]
     },
     "metadata": {
      "needs_background": "light",
      "tags": []
     },
     "output_type": "display_data"
    }
   ],
   "source": [
    "ax = sns.boxplot(x=\"proj_6sigma\", y=\"salario\", hue=\"proj_sustent\", data=ds, palette=\"Set3\")"
   ]
  },
  {
   "cell_type": "code",
   "execution_count": 324,
   "metadata": {
    "colab": {
     "base_uri": "https://localhost:8080/",
     "height": 280
    },
    "id": "BMtz2ugYElE1",
    "outputId": "d35c3c39-e78f-48b2-c6e8-5768d643aa9c"
   },
   "outputs": [
    {
     "data": {
      "image/png": "[encoded data removed]",
      "text/plain": [
       "<Figure size 432x288 with 1 Axes>"
      ]
     },
     "metadata": {
      "needs_background": "light",
      "tags": []
     },
     "output_type": "display_data"
    }
   ],
   "source": [
    "ax = sns.boxplot(x=\"proj_social\", y=\"salario\", data=ds, palette=\"Set3\")\n",
    "ax = sns.swarmplot(x=\"proj_social\", y=\"salario\", data=ds, color=\".25\")"
   ]
  },
  {
   "cell_type": "code",
   "execution_count": 324,
   "metadata": {
    "id": "o8V8a5vmGA5Z"
   },
   "outputs": [],
   "source": []
  },
  {
   "cell_type": "code",
   "execution_count": 325,
   "metadata": {
    "colab": {
     "base_uri": "https://localhost:8080/",
     "height": 407
    },
    "id": "V2pul2lhGCfJ",
    "outputId": "dea40679-ccb2-4b89-a5bb-8cef95fdb277"
   },
   "outputs": [
    {
     "data": {
      "text/html": [
       "<div>\n",
       "<style scoped>\n",
       "    .dataframe tbody tr th:only-of-type {\n",
       "        vertical-align: middle;\n",
       "    }\n",
       "\n",
       "    .dataframe tbody tr th {\n",
       "        vertical-align: top;\n",
       "    }\n",
       "\n",
       "    .dataframe thead th {\n",
       "        text-align: right;\n",
       "    }\n",
       "</style>\n",
       "<table border=\"1\" class=\"dataframe\">\n",
       "  <thead>\n",
       "    <tr style=\"text-align: right;\">\n",
       "      <th></th>\n",
       "      <th>salario</th>\n",
       "      <th>idade</th>\n",
       "    </tr>\n",
       "  </thead>\n",
       "  <tbody>\n",
       "    <tr>\n",
       "      <th>0</th>\n",
       "      <td>8000.80</td>\n",
       "      <td>25</td>\n",
       "    </tr>\n",
       "    <tr>\n",
       "      <th>1</th>\n",
       "      <td>8500.17</td>\n",
       "      <td>24</td>\n",
       "    </tr>\n",
       "    <tr>\n",
       "      <th>2</th>\n",
       "      <td>3350.59</td>\n",
       "      <td>22</td>\n",
       "    </tr>\n",
       "    <tr>\n",
       "      <th>3</th>\n",
       "      <td>9500.24</td>\n",
       "      <td>28</td>\n",
       "    </tr>\n",
       "    <tr>\n",
       "      <th>5</th>\n",
       "      <td>5500.22</td>\n",
       "      <td>26</td>\n",
       "    </tr>\n",
       "    <tr>\n",
       "      <th>...</th>\n",
       "      <td>...</td>\n",
       "      <td>...</td>\n",
       "    </tr>\n",
       "    <tr>\n",
       "      <th>175</th>\n",
       "      <td>7896.70</td>\n",
       "      <td>36</td>\n",
       "    </tr>\n",
       "    <tr>\n",
       "      <th>176</th>\n",
       "      <td>10575.13</td>\n",
       "      <td>26</td>\n",
       "    </tr>\n",
       "    <tr>\n",
       "      <th>177</th>\n",
       "      <td>6309.66</td>\n",
       "      <td>36</td>\n",
       "    </tr>\n",
       "    <tr>\n",
       "      <th>178</th>\n",
       "      <td>2100.68</td>\n",
       "      <td>28</td>\n",
       "    </tr>\n",
       "    <tr>\n",
       "      <th>179</th>\n",
       "      <td>4059.13</td>\n",
       "      <td>21</td>\n",
       "    </tr>\n",
       "  </tbody>\n",
       "</table>\n",
       "<p>179 rows × 2 columns</p>\n",
       "</div>"
      ],
      "text/plain": [
       "      salario  idade\n",
       "0     8000.80     25\n",
       "1     8500.17     24\n",
       "2     3350.59     22\n",
       "3     9500.24     28\n",
       "5     5500.22     26\n",
       "..        ...    ...\n",
       "175   7896.70     36\n",
       "176  10575.13     26\n",
       "177   6309.66     36\n",
       "178   2100.68     28\n",
       "179   4059.13     21\n",
       "\n",
       "[179 rows x 2 columns]"
      ]
     },
     "execution_count": 325,
     "metadata": {
      "tags": []
     },
     "output_type": "execute_result"
    }
   ],
   "source": [
    " ds.query('idade >= 18')[['salario','idade']]"
   ]
  },
  {
   "cell_type": "code",
   "execution_count": 326,
   "metadata": {
    "id": "8BSCFKdVIJoC"
   },
   "outputs": [],
   "source": [
    "ds = ds.drop(columns=['f_salario','sqrt_salario'])"
   ]
  },
  {
   "cell_type": "code",
   "execution_count": 327,
   "metadata": {
    "id": "F3Aq3p_MIBNr"
   },
   "outputs": [],
   "source": [
    "salario_semout =  ds.query('idade >= 18').copy()"
   ]
  },
  {
   "cell_type": "code",
   "execution_count": 328,
   "metadata": {
    "colab": {
     "base_uri": "https://localhost:8080/"
    },
    "id": "fdhf6TPNIX8s",
    "outputId": "da22e22e-13e5-40fc-defc-bd938eae01b0"
   },
   "outputs": [
    {
     "data": {
      "text/plain": [
       "(179, 10)"
      ]
     },
     "execution_count": 328,
     "metadata": {
      "tags": []
     },
     "output_type": "execute_result"
    }
   ],
   "source": [
    "salario_semout.shape"
   ]
  },
  {
   "cell_type": "code",
   "execution_count": 329,
   "metadata": {
    "colab": {
     "base_uri": "https://localhost:8080/",
     "height": 348
    },
    "id": "znqmissUJUIO",
    "outputId": "a49199f2-11a4-4ee5-f038-0bba778ab148"
   },
   "outputs": [
    {
     "data": {
      "text/html": [
       "<div>\n",
       "<style scoped>\n",
       "    .dataframe tbody tr th:only-of-type {\n",
       "        vertical-align: middle;\n",
       "    }\n",
       "\n",
       "    .dataframe tbody tr th {\n",
       "        vertical-align: top;\n",
       "    }\n",
       "\n",
       "    .dataframe thead th {\n",
       "        text-align: right;\n",
       "    }\n",
       "</style>\n",
       "<table border=\"1\" class=\"dataframe\">\n",
       "  <thead>\n",
       "    <tr style=\"text-align: right;\">\n",
       "      <th></th>\n",
       "      <th>Ordem</th>\n",
       "      <th>salario</th>\n",
       "      <th>idade</th>\n",
       "      <th>tempocasa</th>\n",
       "      <th>escolar</th>\n",
       "      <th>qproj_estra</th>\n",
       "      <th>proj_sustent</th>\n",
       "      <th>proj_6sigma</th>\n",
       "      <th>proj_social</th>\n",
       "      <th>notaavalia</th>\n",
       "    </tr>\n",
       "  </thead>\n",
       "  <tbody>\n",
       "    <tr>\n",
       "      <th>Ordem</th>\n",
       "      <td>1.000000</td>\n",
       "      <td>0.179330</td>\n",
       "      <td>0.196895</td>\n",
       "      <td>0.134160</td>\n",
       "      <td>0.373488</td>\n",
       "      <td>0.112805</td>\n",
       "      <td>0.159434</td>\n",
       "      <td>-0.018859</td>\n",
       "      <td>0.145417</td>\n",
       "      <td>-0.014943</td>\n",
       "    </tr>\n",
       "    <tr>\n",
       "      <th>salario</th>\n",
       "      <td>0.179330</td>\n",
       "      <td>1.000000</td>\n",
       "      <td>0.595562</td>\n",
       "      <td>0.325864</td>\n",
       "      <td>0.493420</td>\n",
       "      <td>0.514295</td>\n",
       "      <td>-0.023224</td>\n",
       "      <td>0.353741</td>\n",
       "      <td>0.248048</td>\n",
       "      <td>0.079753</td>\n",
       "    </tr>\n",
       "    <tr>\n",
       "      <th>idade</th>\n",
       "      <td>0.196895</td>\n",
       "      <td>0.595562</td>\n",
       "      <td>1.000000</td>\n",
       "      <td>0.204932</td>\n",
       "      <td>0.299855</td>\n",
       "      <td>0.484828</td>\n",
       "      <td>-0.108854</td>\n",
       "      <td>0.154273</td>\n",
       "      <td>0.007300</td>\n",
       "      <td>0.040414</td>\n",
       "    </tr>\n",
       "    <tr>\n",
       "      <th>tempocasa</th>\n",
       "      <td>0.134160</td>\n",
       "      <td>0.325864</td>\n",
       "      <td>0.204932</td>\n",
       "      <td>1.000000</td>\n",
       "      <td>-0.060255</td>\n",
       "      <td>0.080242</td>\n",
       "      <td>-0.043674</td>\n",
       "      <td>0.108537</td>\n",
       "      <td>-0.025900</td>\n",
       "      <td>0.070990</td>\n",
       "    </tr>\n",
       "    <tr>\n",
       "      <th>escolar</th>\n",
       "      <td>0.373488</td>\n",
       "      <td>0.493420</td>\n",
       "      <td>0.299855</td>\n",
       "      <td>-0.060255</td>\n",
       "      <td>1.000000</td>\n",
       "      <td>0.296630</td>\n",
       "      <td>-0.103378</td>\n",
       "      <td>0.152767</td>\n",
       "      <td>0.177419</td>\n",
       "      <td>-0.059782</td>\n",
       "    </tr>\n",
       "    <tr>\n",
       "      <th>qproj_estra</th>\n",
       "      <td>0.112805</td>\n",
       "      <td>0.514295</td>\n",
       "      <td>0.484828</td>\n",
       "      <td>0.080242</td>\n",
       "      <td>0.296630</td>\n",
       "      <td>1.000000</td>\n",
       "      <td>-0.061170</td>\n",
       "      <td>0.243756</td>\n",
       "      <td>0.268081</td>\n",
       "      <td>0.094065</td>\n",
       "    </tr>\n",
       "    <tr>\n",
       "      <th>proj_sustent</th>\n",
       "      <td>0.159434</td>\n",
       "      <td>-0.023224</td>\n",
       "      <td>-0.108854</td>\n",
       "      <td>-0.043674</td>\n",
       "      <td>-0.103378</td>\n",
       "      <td>-0.061170</td>\n",
       "      <td>1.000000</td>\n",
       "      <td>-0.066459</td>\n",
       "      <td>0.252511</td>\n",
       "      <td>0.051598</td>\n",
       "    </tr>\n",
       "    <tr>\n",
       "      <th>proj_6sigma</th>\n",
       "      <td>-0.018859</td>\n",
       "      <td>0.353741</td>\n",
       "      <td>0.154273</td>\n",
       "      <td>0.108537</td>\n",
       "      <td>0.152767</td>\n",
       "      <td>0.243756</td>\n",
       "      <td>-0.066459</td>\n",
       "      <td>1.000000</td>\n",
       "      <td>0.062399</td>\n",
       "      <td>0.070279</td>\n",
       "    </tr>\n",
       "    <tr>\n",
       "      <th>proj_social</th>\n",
       "      <td>0.145417</td>\n",
       "      <td>0.248048</td>\n",
       "      <td>0.007300</td>\n",
       "      <td>-0.025900</td>\n",
       "      <td>0.177419</td>\n",
       "      <td>0.268081</td>\n",
       "      <td>0.252511</td>\n",
       "      <td>0.062399</td>\n",
       "      <td>1.000000</td>\n",
       "      <td>0.115451</td>\n",
       "    </tr>\n",
       "    <tr>\n",
       "      <th>notaavalia</th>\n",
       "      <td>-0.014943</td>\n",
       "      <td>0.079753</td>\n",
       "      <td>0.040414</td>\n",
       "      <td>0.070990</td>\n",
       "      <td>-0.059782</td>\n",
       "      <td>0.094065</td>\n",
       "      <td>0.051598</td>\n",
       "      <td>0.070279</td>\n",
       "      <td>0.115451</td>\n",
       "      <td>1.000000</td>\n",
       "    </tr>\n",
       "  </tbody>\n",
       "</table>\n",
       "</div>"
      ],
      "text/plain": [
       "                 Ordem   salario  ...  proj_social  notaavalia\n",
       "Ordem         1.000000  0.179330  ...     0.145417   -0.014943\n",
       "salario       0.179330  1.000000  ...     0.248048    0.079753\n",
       "idade         0.196895  0.595562  ...     0.007300    0.040414\n",
       "tempocasa     0.134160  0.325864  ...    -0.025900    0.070990\n",
       "escolar       0.373488  0.493420  ...     0.177419   -0.059782\n",
       "qproj_estra   0.112805  0.514295  ...     0.268081    0.094065\n",
       "proj_sustent  0.159434 -0.023224  ...     0.252511    0.051598\n",
       "proj_6sigma  -0.018859  0.353741  ...     0.062399    0.070279\n",
       "proj_social   0.145417  0.248048  ...     1.000000    0.115451\n",
       "notaavalia   -0.014943  0.079753  ...     0.115451    1.000000\n",
       "\n",
       "[10 rows x 10 columns]"
      ]
     },
     "execution_count": 329,
     "metadata": {
      "tags": []
     },
     "output_type": "execute_result"
    }
   ],
   "source": [
    "salario_semout.corr()"
   ]
  },
  {
   "cell_type": "code",
   "execution_count": 330,
   "metadata": {
    "colab": {
     "base_uri": "https://localhost:8080/",
     "height": 249
    },
    "id": "Ta4W_zPCJrFQ",
    "outputId": "30e6a7c9-5c68-4c7d-9af5-16c73dcab451"
   },
   "outputs": [
    {
     "data": {
      "text/html": [
       "<style  type=\"text/css\" >\n",
       "#T_e2b2ce92_b0cf_11eb_adbd_0242ac1c0002row0_col0,#T_e2b2ce92_b0cf_11eb_adbd_0242ac1c0002row1_col1,#T_e2b2ce92_b0cf_11eb_adbd_0242ac1c0002row2_col2,#T_e2b2ce92_b0cf_11eb_adbd_0242ac1c0002row3_col3,#T_e2b2ce92_b0cf_11eb_adbd_0242ac1c0002row4_col4,#T_e2b2ce92_b0cf_11eb_adbd_0242ac1c0002row5_col5,#T_e2b2ce92_b0cf_11eb_adbd_0242ac1c0002row6_col6,#T_e2b2ce92_b0cf_11eb_adbd_0242ac1c0002row7_col7,#T_e2b2ce92_b0cf_11eb_adbd_0242ac1c0002row8_col8,#T_e2b2ce92_b0cf_11eb_adbd_0242ac1c0002row9_col9{\n",
       "            background-color:  #b40426;\n",
       "            color:  #f1f1f1;\n",
       "        }#T_e2b2ce92_b0cf_11eb_adbd_0242ac1c0002row0_col1{\n",
       "            background-color:  #799cf8;\n",
       "            color:  #000000;\n",
       "        }#T_e2b2ce92_b0cf_11eb_adbd_0242ac1c0002row0_col2{\n",
       "            background-color:  #80a3fa;\n",
       "            color:  #000000;\n",
       "        }#T_e2b2ce92_b0cf_11eb_adbd_0242ac1c0002row0_col3{\n",
       "            background-color:  #6a8bef;\n",
       "            color:  #000000;\n",
       "        }#T_e2b2ce92_b0cf_11eb_adbd_0242ac1c0002row0_col4{\n",
       "            background-color:  #bbd1f8;\n",
       "            color:  #000000;\n",
       "        }#T_e2b2ce92_b0cf_11eb_adbd_0242ac1c0002row0_col5,#T_e2b2ce92_b0cf_11eb_adbd_0242ac1c0002row3_col5,#T_e2b2ce92_b0cf_11eb_adbd_0242ac1c0002row9_col1{\n",
       "            background-color:  #6384eb;\n",
       "            color:  #000000;\n",
       "        }#T_e2b2ce92_b0cf_11eb_adbd_0242ac1c0002row0_col6{\n",
       "            background-color:  #7295f4;\n",
       "            color:  #000000;\n",
       "        }#T_e2b2ce92_b0cf_11eb_adbd_0242ac1c0002row0_col7,#T_e2b2ce92_b0cf_11eb_adbd_0242ac1c0002row0_col9,#T_e2b2ce92_b0cf_11eb_adbd_0242ac1c0002row1_col6,#T_e2b2ce92_b0cf_11eb_adbd_0242ac1c0002row2_col6,#T_e2b2ce92_b0cf_11eb_adbd_0242ac1c0002row3_col4,#T_e2b2ce92_b0cf_11eb_adbd_0242ac1c0002row4_col6,#T_e2b2ce92_b0cf_11eb_adbd_0242ac1c0002row5_col6,#T_e2b2ce92_b0cf_11eb_adbd_0242ac1c0002row6_col2,#T_e2b2ce92_b0cf_11eb_adbd_0242ac1c0002row7_col6,#T_e2b2ce92_b0cf_11eb_adbd_0242ac1c0002row8_col3,#T_e2b2ce92_b0cf_11eb_adbd_0242ac1c0002row9_col4{\n",
       "            background-color:  #3b4cc0;\n",
       "            color:  #f1f1f1;\n",
       "        }#T_e2b2ce92_b0cf_11eb_adbd_0242ac1c0002row0_col8,#T_e2b2ce92_b0cf_11eb_adbd_0242ac1c0002row5_col0{\n",
       "            background-color:  #6e90f2;\n",
       "            color:  #000000;\n",
       "        }#T_e2b2ce92_b0cf_11eb_adbd_0242ac1c0002row1_col0,#T_e2b2ce92_b0cf_11eb_adbd_0242ac1c0002row8_col4{\n",
       "            background-color:  #7a9df8;\n",
       "            color:  #000000;\n",
       "        }#T_e2b2ce92_b0cf_11eb_adbd_0242ac1c0002row1_col2{\n",
       "            background-color:  #f2cab5;\n",
       "            color:  #000000;\n",
       "        }#T_e2b2ce92_b0cf_11eb_adbd_0242ac1c0002row1_col3{\n",
       "            background-color:  #adc9fd;\n",
       "            color:  #000000;\n",
       "        }#T_e2b2ce92_b0cf_11eb_adbd_0242ac1c0002row1_col4{\n",
       "            background-color:  #dedcdb;\n",
       "            color:  #000000;\n",
       "        }#T_e2b2ce92_b0cf_11eb_adbd_0242ac1c0002row1_col5{\n",
       "            background-color:  #e3d9d3;\n",
       "            color:  #000000;\n",
       "        }#T_e2b2ce92_b0cf_11eb_adbd_0242ac1c0002row1_col7,#T_e2b2ce92_b0cf_11eb_adbd_0242ac1c0002row2_col4{\n",
       "            background-color:  #b6cefa;\n",
       "            color:  #000000;\n",
       "        }#T_e2b2ce92_b0cf_11eb_adbd_0242ac1c0002row1_col8{\n",
       "            background-color:  #92b4fe;\n",
       "            color:  #000000;\n",
       "        }#T_e2b2ce92_b0cf_11eb_adbd_0242ac1c0002row1_col9{\n",
       "            background-color:  #5977e3;\n",
       "            color:  #000000;\n",
       "        }#T_e2b2ce92_b0cf_11eb_adbd_0242ac1c0002row2_col0{\n",
       "            background-color:  #96b7ff;\n",
       "            color:  #000000;\n",
       "        }#T_e2b2ce92_b0cf_11eb_adbd_0242ac1c0002row2_col1{\n",
       "            background-color:  #f5c1a9;\n",
       "            color:  #000000;\n",
       "        }#T_e2b2ce92_b0cf_11eb_adbd_0242ac1c0002row2_col3{\n",
       "            background-color:  #98b9ff;\n",
       "            color:  #000000;\n",
       "        }#T_e2b2ce92_b0cf_11eb_adbd_0242ac1c0002row2_col5{\n",
       "            background-color:  #e6d7cf;\n",
       "            color:  #000000;\n",
       "        }#T_e2b2ce92_b0cf_11eb_adbd_0242ac1c0002row2_col7{\n",
       "            background-color:  #88abfd;\n",
       "            color:  #000000;\n",
       "        }#T_e2b2ce92_b0cf_11eb_adbd_0242ac1c0002row2_col8,#T_e2b2ce92_b0cf_11eb_adbd_0242ac1c0002row9_col6{\n",
       "            background-color:  #5a78e4;\n",
       "            color:  #000000;\n",
       "        }#T_e2b2ce92_b0cf_11eb_adbd_0242ac1c0002row2_col9,#T_e2b2ce92_b0cf_11eb_adbd_0242ac1c0002row5_col3{\n",
       "            background-color:  #6485ec;\n",
       "            color:  #000000;\n",
       "        }#T_e2b2ce92_b0cf_11eb_adbd_0242ac1c0002row3_col0{\n",
       "            background-color:  #7597f6;\n",
       "            color:  #000000;\n",
       "        }#T_e2b2ce92_b0cf_11eb_adbd_0242ac1c0002row3_col1,#T_e2b2ce92_b0cf_11eb_adbd_0242ac1c0002row4_col2{\n",
       "            background-color:  #b5cdfa;\n",
       "            color:  #000000;\n",
       "        }#T_e2b2ce92_b0cf_11eb_adbd_0242ac1c0002row3_col2{\n",
       "            background-color:  #8db0fe;\n",
       "            color:  #000000;\n",
       "        }#T_e2b2ce92_b0cf_11eb_adbd_0242ac1c0002row3_col6{\n",
       "            background-color:  #3f53c6;\n",
       "            color:  #f1f1f1;\n",
       "        }#T_e2b2ce92_b0cf_11eb_adbd_0242ac1c0002row3_col7{\n",
       "            background-color:  #6c8ff1;\n",
       "            color:  #000000;\n",
       "        }#T_e2b2ce92_b0cf_11eb_adbd_0242ac1c0002row3_col8,#T_e2b2ce92_b0cf_11eb_adbd_0242ac1c0002row8_col2{\n",
       "            background-color:  #445acc;\n",
       "            color:  #f1f1f1;\n",
       "        }#T_e2b2ce92_b0cf_11eb_adbd_0242ac1c0002row3_col9,#T_e2b2ce92_b0cf_11eb_adbd_0242ac1c0002row9_col3,#T_e2b2ce92_b0cf_11eb_adbd_0242ac1c0002row9_col7{\n",
       "            background-color:  #6180e9;\n",
       "            color:  #000000;\n",
       "        }#T_e2b2ce92_b0cf_11eb_adbd_0242ac1c0002row4_col0{\n",
       "            background-color:  #cad8ef;\n",
       "            color:  #000000;\n",
       "        }#T_e2b2ce92_b0cf_11eb_adbd_0242ac1c0002row4_col1,#T_e2b2ce92_b0cf_11eb_adbd_0242ac1c0002row5_col1{\n",
       "            background-color:  #e7d7ce;\n",
       "            color:  #000000;\n",
       "        }#T_e2b2ce92_b0cf_11eb_adbd_0242ac1c0002row4_col3,#T_e2b2ce92_b0cf_11eb_adbd_0242ac1c0002row4_col9,#T_e2b2ce92_b0cf_11eb_adbd_0242ac1c0002row9_col0{\n",
       "            background-color:  #465ecf;\n",
       "            color:  #f1f1f1;\n",
       "        }#T_e2b2ce92_b0cf_11eb_adbd_0242ac1c0002row4_col5{\n",
       "            background-color:  #b3cdfb;\n",
       "            color:  #000000;\n",
       "        }#T_e2b2ce92_b0cf_11eb_adbd_0242ac1c0002row4_col7{\n",
       "            background-color:  #86a9fc;\n",
       "            color:  #000000;\n",
       "        }#T_e2b2ce92_b0cf_11eb_adbd_0242ac1c0002row4_col8{\n",
       "            background-color:  #8fb1fe;\n",
       "            color:  #000000;\n",
       "        }#T_e2b2ce92_b0cf_11eb_adbd_0242ac1c0002row5_col2{\n",
       "            background-color:  #e0dbd8;\n",
       "            color:  #000000;\n",
       "        }#T_e2b2ce92_b0cf_11eb_adbd_0242ac1c0002row5_col4{\n",
       "            background-color:  #abc8fd;\n",
       "            color:  #000000;\n",
       "        }#T_e2b2ce92_b0cf_11eb_adbd_0242ac1c0002row5_col7,#T_e2b2ce92_b0cf_11eb_adbd_0242ac1c0002row8_col5{\n",
       "            background-color:  #9abbff;\n",
       "            color:  #000000;\n",
       "        }#T_e2b2ce92_b0cf_11eb_adbd_0242ac1c0002row5_col8{\n",
       "            background-color:  #a2c1ff;\n",
       "            color:  #000000;\n",
       "        }#T_e2b2ce92_b0cf_11eb_adbd_0242ac1c0002row5_col9,#T_e2b2ce92_b0cf_11eb_adbd_0242ac1c0002row6_col9,#T_e2b2ce92_b0cf_11eb_adbd_0242ac1c0002row9_col5{\n",
       "            background-color:  #688aef;\n",
       "            color:  #000000;\n",
       "        }#T_e2b2ce92_b0cf_11eb_adbd_0242ac1c0002row6_col0{\n",
       "            background-color:  #89acfd;\n",
       "            color:  #000000;\n",
       "        }#T_e2b2ce92_b0cf_11eb_adbd_0242ac1c0002row6_col1{\n",
       "            background-color:  #516ddb;\n",
       "            color:  #000000;\n",
       "        }#T_e2b2ce92_b0cf_11eb_adbd_0242ac1c0002row6_col3{\n",
       "            background-color:  #4c66d6;\n",
       "            color:  #000000;\n",
       "        }#T_e2b2ce92_b0cf_11eb_adbd_0242ac1c0002row6_col4{\n",
       "            background-color:  #3c4ec2;\n",
       "            color:  #f1f1f1;\n",
       "        }#T_e2b2ce92_b0cf_11eb_adbd_0242ac1c0002row6_col5,#T_e2b2ce92_b0cf_11eb_adbd_0242ac1c0002row7_col0{\n",
       "            background-color:  #485fd1;\n",
       "            color:  #f1f1f1;\n",
       "        }#T_e2b2ce92_b0cf_11eb_adbd_0242ac1c0002row6_col7{\n",
       "            background-color:  #455cce;\n",
       "            color:  #f1f1f1;\n",
       "        }#T_e2b2ce92_b0cf_11eb_adbd_0242ac1c0002row6_col8{\n",
       "            background-color:  #a7c5fe;\n",
       "            color:  #000000;\n",
       "        }#T_e2b2ce92_b0cf_11eb_adbd_0242ac1c0002row7_col1{\n",
       "            background-color:  #bed2f6;\n",
       "            color:  #000000;\n",
       "        }#T_e2b2ce92_b0cf_11eb_adbd_0242ac1c0002row7_col2,#T_e2b2ce92_b0cf_11eb_adbd_0242ac1c0002row7_col4{\n",
       "            background-color:  #7da0f9;\n",
       "            color:  #000000;\n",
       "        }#T_e2b2ce92_b0cf_11eb_adbd_0242ac1c0002row7_col3,#T_e2b2ce92_b0cf_11eb_adbd_0242ac1c0002row8_col0,#T_e2b2ce92_b0cf_11eb_adbd_0242ac1c0002row9_col8{\n",
       "            background-color:  #6f92f3;\n",
       "            color:  #000000;\n",
       "        }#T_e2b2ce92_b0cf_11eb_adbd_0242ac1c0002row7_col5{\n",
       "            background-color:  #9bbcff;\n",
       "            color:  #000000;\n",
       "        }#T_e2b2ce92_b0cf_11eb_adbd_0242ac1c0002row7_col8{\n",
       "            background-color:  #5f7fe8;\n",
       "            color:  #000000;\n",
       "        }#T_e2b2ce92_b0cf_11eb_adbd_0242ac1c0002row7_col9{\n",
       "            background-color:  #6282ea;\n",
       "            color:  #000000;\n",
       "        }#T_e2b2ce92_b0cf_11eb_adbd_0242ac1c0002row8_col1{\n",
       "            background-color:  #93b5fe;\n",
       "            color:  #000000;\n",
       "        }#T_e2b2ce92_b0cf_11eb_adbd_0242ac1c0002row8_col6{\n",
       "            background-color:  #94b6ff;\n",
       "            color:  #000000;\n",
       "        }#T_e2b2ce92_b0cf_11eb_adbd_0242ac1c0002row8_col7{\n",
       "            background-color:  #5572df;\n",
       "            color:  #000000;\n",
       "        }#T_e2b2ce92_b0cf_11eb_adbd_0242ac1c0002row8_col9{\n",
       "            background-color:  #6687ed;\n",
       "            color:  #000000;\n",
       "        }#T_e2b2ce92_b0cf_11eb_adbd_0242ac1c0002row9_col2{\n",
       "            background-color:  #5875e1;\n",
       "            color:  #000000;\n",
       "        }</style><table id=\"T_e2b2ce92_b0cf_11eb_adbd_0242ac1c0002\" ><thead>    <tr>        <th class=\"blank level0\" ></th>        <th class=\"col_heading level0 col0\" >Ordem</th>        <th class=\"col_heading level0 col1\" >salario</th>        <th class=\"col_heading level0 col2\" >idade</th>        <th class=\"col_heading level0 col3\" >tempocasa</th>        <th class=\"col_heading level0 col4\" >escolar</th>        <th class=\"col_heading level0 col5\" >qproj_estra</th>        <th class=\"col_heading level0 col6\" >proj_sustent</th>        <th class=\"col_heading level0 col7\" >proj_6sigma</th>        <th class=\"col_heading level0 col8\" >proj_social</th>        <th class=\"col_heading level0 col9\" >notaavalia</th>    </tr></thead><tbody>\n",
       "                <tr>\n",
       "                        <th id=\"T_e2b2ce92_b0cf_11eb_adbd_0242ac1c0002level0_row0\" class=\"row_heading level0 row0\" >Ordem</th>\n",
       "                        <td id=\"T_e2b2ce92_b0cf_11eb_adbd_0242ac1c0002row0_col0\" class=\"data row0 col0\" >1.0</td>\n",
       "                        <td id=\"T_e2b2ce92_b0cf_11eb_adbd_0242ac1c0002row0_col1\" class=\"data row0 col1\" >0.18</td>\n",
       "                        <td id=\"T_e2b2ce92_b0cf_11eb_adbd_0242ac1c0002row0_col2\" class=\"data row0 col2\" >0.2</td>\n",
       "                        <td id=\"T_e2b2ce92_b0cf_11eb_adbd_0242ac1c0002row0_col3\" class=\"data row0 col3\" >0.13</td>\n",
       "                        <td id=\"T_e2b2ce92_b0cf_11eb_adbd_0242ac1c0002row0_col4\" class=\"data row0 col4\" >0.37</td>\n",
       "                        <td id=\"T_e2b2ce92_b0cf_11eb_adbd_0242ac1c0002row0_col5\" class=\"data row0 col5\" >0.11</td>\n",
       "                        <td id=\"T_e2b2ce92_b0cf_11eb_adbd_0242ac1c0002row0_col6\" class=\"data row0 col6\" >0.16</td>\n",
       "                        <td id=\"T_e2b2ce92_b0cf_11eb_adbd_0242ac1c0002row0_col7\" class=\"data row0 col7\" >-0.019</td>\n",
       "                        <td id=\"T_e2b2ce92_b0cf_11eb_adbd_0242ac1c0002row0_col8\" class=\"data row0 col8\" >0.15</td>\n",
       "                        <td id=\"T_e2b2ce92_b0cf_11eb_adbd_0242ac1c0002row0_col9\" class=\"data row0 col9\" >-0.015</td>\n",
       "            </tr>\n",
       "            <tr>\n",
       "                        <th id=\"T_e2b2ce92_b0cf_11eb_adbd_0242ac1c0002level0_row1\" class=\"row_heading level0 row1\" >salario</th>\n",
       "                        <td id=\"T_e2b2ce92_b0cf_11eb_adbd_0242ac1c0002row1_col0\" class=\"data row1 col0\" >0.18</td>\n",
       "                        <td id=\"T_e2b2ce92_b0cf_11eb_adbd_0242ac1c0002row1_col1\" class=\"data row1 col1\" >1.0</td>\n",
       "                        <td id=\"T_e2b2ce92_b0cf_11eb_adbd_0242ac1c0002row1_col2\" class=\"data row1 col2\" >0.6</td>\n",
       "                        <td id=\"T_e2b2ce92_b0cf_11eb_adbd_0242ac1c0002row1_col3\" class=\"data row1 col3\" >0.33</td>\n",
       "                        <td id=\"T_e2b2ce92_b0cf_11eb_adbd_0242ac1c0002row1_col4\" class=\"data row1 col4\" >0.49</td>\n",
       "                        <td id=\"T_e2b2ce92_b0cf_11eb_adbd_0242ac1c0002row1_col5\" class=\"data row1 col5\" >0.51</td>\n",
       "                        <td id=\"T_e2b2ce92_b0cf_11eb_adbd_0242ac1c0002row1_col6\" class=\"data row1 col6\" >-0.023</td>\n",
       "                        <td id=\"T_e2b2ce92_b0cf_11eb_adbd_0242ac1c0002row1_col7\" class=\"data row1 col7\" >0.35</td>\n",
       "                        <td id=\"T_e2b2ce92_b0cf_11eb_adbd_0242ac1c0002row1_col8\" class=\"data row1 col8\" >0.25</td>\n",
       "                        <td id=\"T_e2b2ce92_b0cf_11eb_adbd_0242ac1c0002row1_col9\" class=\"data row1 col9\" >0.08</td>\n",
       "            </tr>\n",
       "            <tr>\n",
       "                        <th id=\"T_e2b2ce92_b0cf_11eb_adbd_0242ac1c0002level0_row2\" class=\"row_heading level0 row2\" >idade</th>\n",
       "                        <td id=\"T_e2b2ce92_b0cf_11eb_adbd_0242ac1c0002row2_col0\" class=\"data row2 col0\" >0.2</td>\n",
       "                        <td id=\"T_e2b2ce92_b0cf_11eb_adbd_0242ac1c0002row2_col1\" class=\"data row2 col1\" >0.6</td>\n",
       "                        <td id=\"T_e2b2ce92_b0cf_11eb_adbd_0242ac1c0002row2_col2\" class=\"data row2 col2\" >1.0</td>\n",
       "                        <td id=\"T_e2b2ce92_b0cf_11eb_adbd_0242ac1c0002row2_col3\" class=\"data row2 col3\" >0.2</td>\n",
       "                        <td id=\"T_e2b2ce92_b0cf_11eb_adbd_0242ac1c0002row2_col4\" class=\"data row2 col4\" >0.3</td>\n",
       "                        <td id=\"T_e2b2ce92_b0cf_11eb_adbd_0242ac1c0002row2_col5\" class=\"data row2 col5\" >0.48</td>\n",
       "                        <td id=\"T_e2b2ce92_b0cf_11eb_adbd_0242ac1c0002row2_col6\" class=\"data row2 col6\" >-0.11</td>\n",
       "                        <td id=\"T_e2b2ce92_b0cf_11eb_adbd_0242ac1c0002row2_col7\" class=\"data row2 col7\" >0.15</td>\n",
       "                        <td id=\"T_e2b2ce92_b0cf_11eb_adbd_0242ac1c0002row2_col8\" class=\"data row2 col8\" >0.0073</td>\n",
       "                        <td id=\"T_e2b2ce92_b0cf_11eb_adbd_0242ac1c0002row2_col9\" class=\"data row2 col9\" >0.04</td>\n",
       "            </tr>\n",
       "            <tr>\n",
       "                        <th id=\"T_e2b2ce92_b0cf_11eb_adbd_0242ac1c0002level0_row3\" class=\"row_heading level0 row3\" >tempocasa</th>\n",
       "                        <td id=\"T_e2b2ce92_b0cf_11eb_adbd_0242ac1c0002row3_col0\" class=\"data row3 col0\" >0.13</td>\n",
       "                        <td id=\"T_e2b2ce92_b0cf_11eb_adbd_0242ac1c0002row3_col1\" class=\"data row3 col1\" >0.33</td>\n",
       "                        <td id=\"T_e2b2ce92_b0cf_11eb_adbd_0242ac1c0002row3_col2\" class=\"data row3 col2\" >0.2</td>\n",
       "                        <td id=\"T_e2b2ce92_b0cf_11eb_adbd_0242ac1c0002row3_col3\" class=\"data row3 col3\" >1.0</td>\n",
       "                        <td id=\"T_e2b2ce92_b0cf_11eb_adbd_0242ac1c0002row3_col4\" class=\"data row3 col4\" >-0.06</td>\n",
       "                        <td id=\"T_e2b2ce92_b0cf_11eb_adbd_0242ac1c0002row3_col5\" class=\"data row3 col5\" >0.08</td>\n",
       "                        <td id=\"T_e2b2ce92_b0cf_11eb_adbd_0242ac1c0002row3_col6\" class=\"data row3 col6\" >-0.044</td>\n",
       "                        <td id=\"T_e2b2ce92_b0cf_11eb_adbd_0242ac1c0002row3_col7\" class=\"data row3 col7\" >0.11</td>\n",
       "                        <td id=\"T_e2b2ce92_b0cf_11eb_adbd_0242ac1c0002row3_col8\" class=\"data row3 col8\" >-0.026</td>\n",
       "                        <td id=\"T_e2b2ce92_b0cf_11eb_adbd_0242ac1c0002row3_col9\" class=\"data row3 col9\" >0.071</td>\n",
       "            </tr>\n",
       "            <tr>\n",
       "                        <th id=\"T_e2b2ce92_b0cf_11eb_adbd_0242ac1c0002level0_row4\" class=\"row_heading level0 row4\" >escolar</th>\n",
       "                        <td id=\"T_e2b2ce92_b0cf_11eb_adbd_0242ac1c0002row4_col0\" class=\"data row4 col0\" >0.37</td>\n",
       "                        <td id=\"T_e2b2ce92_b0cf_11eb_adbd_0242ac1c0002row4_col1\" class=\"data row4 col1\" >0.49</td>\n",
       "                        <td id=\"T_e2b2ce92_b0cf_11eb_adbd_0242ac1c0002row4_col2\" class=\"data row4 col2\" >0.3</td>\n",
       "                        <td id=\"T_e2b2ce92_b0cf_11eb_adbd_0242ac1c0002row4_col3\" class=\"data row4 col3\" >-0.06</td>\n",
       "                        <td id=\"T_e2b2ce92_b0cf_11eb_adbd_0242ac1c0002row4_col4\" class=\"data row4 col4\" >1.0</td>\n",
       "                        <td id=\"T_e2b2ce92_b0cf_11eb_adbd_0242ac1c0002row4_col5\" class=\"data row4 col5\" >0.3</td>\n",
       "                        <td id=\"T_e2b2ce92_b0cf_11eb_adbd_0242ac1c0002row4_col6\" class=\"data row4 col6\" >-0.1</td>\n",
       "                        <td id=\"T_e2b2ce92_b0cf_11eb_adbd_0242ac1c0002row4_col7\" class=\"data row4 col7\" >0.15</td>\n",
       "                        <td id=\"T_e2b2ce92_b0cf_11eb_adbd_0242ac1c0002row4_col8\" class=\"data row4 col8\" >0.18</td>\n",
       "                        <td id=\"T_e2b2ce92_b0cf_11eb_adbd_0242ac1c0002row4_col9\" class=\"data row4 col9\" >-0.06</td>\n",
       "            </tr>\n",
       "            <tr>\n",
       "                        <th id=\"T_e2b2ce92_b0cf_11eb_adbd_0242ac1c0002level0_row5\" class=\"row_heading level0 row5\" >qproj_estra</th>\n",
       "                        <td id=\"T_e2b2ce92_b0cf_11eb_adbd_0242ac1c0002row5_col0\" class=\"data row5 col0\" >0.11</td>\n",
       "                        <td id=\"T_e2b2ce92_b0cf_11eb_adbd_0242ac1c0002row5_col1\" class=\"data row5 col1\" >0.51</td>\n",
       "                        <td id=\"T_e2b2ce92_b0cf_11eb_adbd_0242ac1c0002row5_col2\" class=\"data row5 col2\" >0.48</td>\n",
       "                        <td id=\"T_e2b2ce92_b0cf_11eb_adbd_0242ac1c0002row5_col3\" class=\"data row5 col3\" >0.08</td>\n",
       "                        <td id=\"T_e2b2ce92_b0cf_11eb_adbd_0242ac1c0002row5_col4\" class=\"data row5 col4\" >0.3</td>\n",
       "                        <td id=\"T_e2b2ce92_b0cf_11eb_adbd_0242ac1c0002row5_col5\" class=\"data row5 col5\" >1.0</td>\n",
       "                        <td id=\"T_e2b2ce92_b0cf_11eb_adbd_0242ac1c0002row5_col6\" class=\"data row5 col6\" >-0.061</td>\n",
       "                        <td id=\"T_e2b2ce92_b0cf_11eb_adbd_0242ac1c0002row5_col7\" class=\"data row5 col7\" >0.24</td>\n",
       "                        <td id=\"T_e2b2ce92_b0cf_11eb_adbd_0242ac1c0002row5_col8\" class=\"data row5 col8\" >0.27</td>\n",
       "                        <td id=\"T_e2b2ce92_b0cf_11eb_adbd_0242ac1c0002row5_col9\" class=\"data row5 col9\" >0.094</td>\n",
       "            </tr>\n",
       "            <tr>\n",
       "                        <th id=\"T_e2b2ce92_b0cf_11eb_adbd_0242ac1c0002level0_row6\" class=\"row_heading level0 row6\" >proj_sustent</th>\n",
       "                        <td id=\"T_e2b2ce92_b0cf_11eb_adbd_0242ac1c0002row6_col0\" class=\"data row6 col0\" >0.16</td>\n",
       "                        <td id=\"T_e2b2ce92_b0cf_11eb_adbd_0242ac1c0002row6_col1\" class=\"data row6 col1\" >-0.023</td>\n",
       "                        <td id=\"T_e2b2ce92_b0cf_11eb_adbd_0242ac1c0002row6_col2\" class=\"data row6 col2\" >-0.11</td>\n",
       "                        <td id=\"T_e2b2ce92_b0cf_11eb_adbd_0242ac1c0002row6_col3\" class=\"data row6 col3\" >-0.044</td>\n",
       "                        <td id=\"T_e2b2ce92_b0cf_11eb_adbd_0242ac1c0002row6_col4\" class=\"data row6 col4\" >-0.1</td>\n",
       "                        <td id=\"T_e2b2ce92_b0cf_11eb_adbd_0242ac1c0002row6_col5\" class=\"data row6 col5\" >-0.061</td>\n",
       "                        <td id=\"T_e2b2ce92_b0cf_11eb_adbd_0242ac1c0002row6_col6\" class=\"data row6 col6\" >1.0</td>\n",
       "                        <td id=\"T_e2b2ce92_b0cf_11eb_adbd_0242ac1c0002row6_col7\" class=\"data row6 col7\" >-0.066</td>\n",
       "                        <td id=\"T_e2b2ce92_b0cf_11eb_adbd_0242ac1c0002row6_col8\" class=\"data row6 col8\" >0.25</td>\n",
       "                        <td id=\"T_e2b2ce92_b0cf_11eb_adbd_0242ac1c0002row6_col9\" class=\"data row6 col9\" >0.052</td>\n",
       "            </tr>\n",
       "            <tr>\n",
       "                        <th id=\"T_e2b2ce92_b0cf_11eb_adbd_0242ac1c0002level0_row7\" class=\"row_heading level0 row7\" >proj_6sigma</th>\n",
       "                        <td id=\"T_e2b2ce92_b0cf_11eb_adbd_0242ac1c0002row7_col0\" class=\"data row7 col0\" >-0.019</td>\n",
       "                        <td id=\"T_e2b2ce92_b0cf_11eb_adbd_0242ac1c0002row7_col1\" class=\"data row7 col1\" >0.35</td>\n",
       "                        <td id=\"T_e2b2ce92_b0cf_11eb_adbd_0242ac1c0002row7_col2\" class=\"data row7 col2\" >0.15</td>\n",
       "                        <td id=\"T_e2b2ce92_b0cf_11eb_adbd_0242ac1c0002row7_col3\" class=\"data row7 col3\" >0.11</td>\n",
       "                        <td id=\"T_e2b2ce92_b0cf_11eb_adbd_0242ac1c0002row7_col4\" class=\"data row7 col4\" >0.15</td>\n",
       "                        <td id=\"T_e2b2ce92_b0cf_11eb_adbd_0242ac1c0002row7_col5\" class=\"data row7 col5\" >0.24</td>\n",
       "                        <td id=\"T_e2b2ce92_b0cf_11eb_adbd_0242ac1c0002row7_col6\" class=\"data row7 col6\" >-0.066</td>\n",
       "                        <td id=\"T_e2b2ce92_b0cf_11eb_adbd_0242ac1c0002row7_col7\" class=\"data row7 col7\" >1.0</td>\n",
       "                        <td id=\"T_e2b2ce92_b0cf_11eb_adbd_0242ac1c0002row7_col8\" class=\"data row7 col8\" >0.062</td>\n",
       "                        <td id=\"T_e2b2ce92_b0cf_11eb_adbd_0242ac1c0002row7_col9\" class=\"data row7 col9\" >0.07</td>\n",
       "            </tr>\n",
       "            <tr>\n",
       "                        <th id=\"T_e2b2ce92_b0cf_11eb_adbd_0242ac1c0002level0_row8\" class=\"row_heading level0 row8\" >proj_social</th>\n",
       "                        <td id=\"T_e2b2ce92_b0cf_11eb_adbd_0242ac1c0002row8_col0\" class=\"data row8 col0\" >0.15</td>\n",
       "                        <td id=\"T_e2b2ce92_b0cf_11eb_adbd_0242ac1c0002row8_col1\" class=\"data row8 col1\" >0.25</td>\n",
       "                        <td id=\"T_e2b2ce92_b0cf_11eb_adbd_0242ac1c0002row8_col2\" class=\"data row8 col2\" >0.0073</td>\n",
       "                        <td id=\"T_e2b2ce92_b0cf_11eb_adbd_0242ac1c0002row8_col3\" class=\"data row8 col3\" >-0.026</td>\n",
       "                        <td id=\"T_e2b2ce92_b0cf_11eb_adbd_0242ac1c0002row8_col4\" class=\"data row8 col4\" >0.18</td>\n",
       "                        <td id=\"T_e2b2ce92_b0cf_11eb_adbd_0242ac1c0002row8_col5\" class=\"data row8 col5\" >0.27</td>\n",
       "                        <td id=\"T_e2b2ce92_b0cf_11eb_adbd_0242ac1c0002row8_col6\" class=\"data row8 col6\" >0.25</td>\n",
       "                        <td id=\"T_e2b2ce92_b0cf_11eb_adbd_0242ac1c0002row8_col7\" class=\"data row8 col7\" >0.062</td>\n",
       "                        <td id=\"T_e2b2ce92_b0cf_11eb_adbd_0242ac1c0002row8_col8\" class=\"data row8 col8\" >1.0</td>\n",
       "                        <td id=\"T_e2b2ce92_b0cf_11eb_adbd_0242ac1c0002row8_col9\" class=\"data row8 col9\" >0.12</td>\n",
       "            </tr>\n",
       "            <tr>\n",
       "                        <th id=\"T_e2b2ce92_b0cf_11eb_adbd_0242ac1c0002level0_row9\" class=\"row_heading level0 row9\" >notaavalia</th>\n",
       "                        <td id=\"T_e2b2ce92_b0cf_11eb_adbd_0242ac1c0002row9_col0\" class=\"data row9 col0\" >-0.015</td>\n",
       "                        <td id=\"T_e2b2ce92_b0cf_11eb_adbd_0242ac1c0002row9_col1\" class=\"data row9 col1\" >0.08</td>\n",
       "                        <td id=\"T_e2b2ce92_b0cf_11eb_adbd_0242ac1c0002row9_col2\" class=\"data row9 col2\" >0.04</td>\n",
       "                        <td id=\"T_e2b2ce92_b0cf_11eb_adbd_0242ac1c0002row9_col3\" class=\"data row9 col3\" >0.071</td>\n",
       "                        <td id=\"T_e2b2ce92_b0cf_11eb_adbd_0242ac1c0002row9_col4\" class=\"data row9 col4\" >-0.06</td>\n",
       "                        <td id=\"T_e2b2ce92_b0cf_11eb_adbd_0242ac1c0002row9_col5\" class=\"data row9 col5\" >0.094</td>\n",
       "                        <td id=\"T_e2b2ce92_b0cf_11eb_adbd_0242ac1c0002row9_col6\" class=\"data row9 col6\" >0.052</td>\n",
       "                        <td id=\"T_e2b2ce92_b0cf_11eb_adbd_0242ac1c0002row9_col7\" class=\"data row9 col7\" >0.07</td>\n",
       "                        <td id=\"T_e2b2ce92_b0cf_11eb_adbd_0242ac1c0002row9_col8\" class=\"data row9 col8\" >0.12</td>\n",
       "                        <td id=\"T_e2b2ce92_b0cf_11eb_adbd_0242ac1c0002row9_col9\" class=\"data row9 col9\" >1.0</td>\n",
       "            </tr>\n",
       "    </tbody></table>"
      ],
      "text/plain": [
       "<pandas.io.formats.style.Styler at 0x7f585d7c7f50>"
      ]
     },
     "execution_count": 330,
     "metadata": {
      "tags": []
     },
     "output_type": "execute_result"
    }
   ],
   "source": [
    "salario_semout.corr().style.format(\"{:.2}\").background_gradient(cmap=plt.get_cmap('coolwarm'),axis=1)"
   ]
  },
  {
   "cell_type": "code",
   "execution_count": 331,
   "metadata": {
    "colab": {
     "base_uri": "https://localhost:8080/",
     "height": 647
    },
    "id": "NocVcnGZKn4n",
    "outputId": "de76f12e-fa83-4004-86a0-187caee982ba"
   },
   "outputs": [
    {
     "data": {
      "image/png": "[encoded data removed]",
      "text/plain": [
       "<Figure size 864x720 with 2 Axes>"
      ]
     },
     "metadata": {
      "needs_background": "light",
      "tags": []
     },
     "output_type": "display_data"
    }
   ],
   "source": [
    "#Using Pearson Correlation\n",
    "plt.figure(figsize=(12,10))\n",
    "cor = salario_semout.corr()\n",
    "sns.heatmap(cor, annot=True, cmap=plt.cm.Reds)\n",
    "plt.show()"
   ]
  },
  {
   "cell_type": "code",
   "execution_count": 332,
   "metadata": {
    "colab": {
     "base_uri": "https://localhost:8080/"
    },
    "id": "qqI3TVYBMDq9",
    "outputId": "91c735b5-6bd1-4103-efe7-014573f1871a"
   },
   "outputs": [
    {
     "data": {
      "text/plain": [
       "salario        1.000000\n",
       "idade          0.595562\n",
       "tempocasa      0.325864\n",
       "escolar        0.493420\n",
       "qproj_estra    0.514295\n",
       "proj_6sigma    0.353741\n",
       "proj_social    0.248048\n",
       "Name: salario, dtype: float64"
      ]
     },
     "execution_count": 332,
     "metadata": {
      "tags": []
     },
     "output_type": "execute_result"
    }
   ],
   "source": [
    "salario_semout.corr()\n",
    "cor_target = abs(cor[\"salario\"])\n",
    "#Selecting highly correlated features\n",
    "relevant_features = cor_target[cor_target>0.2]\n",
    "relevant_features"
   ]
  },
  {
   "cell_type": "markdown",
   "metadata": {
    "id": "iBIYQB5DOAmt"
   },
   "source": [
    "#Alguns algorítmos precisam que as variáveis sejam padronizadas ou normalizadas\n",
    "\n",
    "As duas técnicas tem o mesmo objetivo: transformar todas as variáveis na mesma ordem de grandeza. E a diferença básica é que padronizar as variáveis irá resultar em uma média igual a 0 e um desvio padrão igual a 1. Já normalizar tem como objetivo colocar as variáveis dentro do intervalo de 0 e 1, caso tenha resultado negativo -1 e 1.\n",
    "\n",
    "\n",
    "**Normatizando / Normalizando uma variável - Transforme recursos dimensionando cada recurso para um determinado intervalo.**\n",
    "\n",
    "Este estimador dimensiona e traduz cada característica individualmente, de modo que esteja no intervalo dado no conjunto de treinamento, por exemplo, entre zero e um.\n",
    "\n",
    "A transformação é dada por:\n",
    "\n",
    "X_std = (X - X.min(axis=0)) / (X.max(axis=0) - X.min(axis=0))\n",
    "X_scaled = X_std * (max - min) + min\n",
    "onde min, max = feature_range.\n",
    "\n",
    "Essa transformação é freqüentemente usada como uma alternativa para a escala de variação de unidade de média zero."
   ]
  },
  {
   "cell_type": "code",
   "execution_count": 333,
   "metadata": {
    "id": "b7nct97lMcIZ"
   },
   "outputs": [],
   "source": [
    "from sklearn.preprocessing import MinMaxScaler\n",
    "scaler = MinMaxScaler(feature_range=(0,1))\n",
    "salario_semout['sal_normal'] = scaler.fit_transform(salario_semout[['salario']])"
   ]
  },
  {
   "cell_type": "code",
   "execution_count": 334,
   "metadata": {
    "colab": {
     "base_uri": "https://localhost:8080/",
     "height": 288
    },
    "id": "60tFgI-0VGk8",
    "outputId": "910cc118-bc00-4431-8ead-ecdad74eee16"
   },
   "outputs": [
    {
     "data": {
      "text/html": [
       "<div>\n",
       "<style scoped>\n",
       "    .dataframe tbody tr th:only-of-type {\n",
       "        vertical-align: middle;\n",
       "    }\n",
       "\n",
       "    .dataframe tbody tr th {\n",
       "        vertical-align: top;\n",
       "    }\n",
       "\n",
       "    .dataframe thead th {\n",
       "        text-align: right;\n",
       "    }\n",
       "</style>\n",
       "<table border=\"1\" class=\"dataframe\">\n",
       "  <thead>\n",
       "    <tr style=\"text-align: right;\">\n",
       "      <th></th>\n",
       "      <th>Ordem</th>\n",
       "      <th>salario</th>\n",
       "      <th>idade</th>\n",
       "      <th>tempocasa</th>\n",
       "      <th>escolar</th>\n",
       "      <th>qproj_estra</th>\n",
       "      <th>proj_sustent</th>\n",
       "      <th>proj_6sigma</th>\n",
       "      <th>proj_social</th>\n",
       "      <th>notaavalia</th>\n",
       "      <th>sal_normal</th>\n",
       "    </tr>\n",
       "  </thead>\n",
       "  <tbody>\n",
       "    <tr>\n",
       "      <th>count</th>\n",
       "      <td>179.000000</td>\n",
       "      <td>179.000000</td>\n",
       "      <td>179.000000</td>\n",
       "      <td>179.000000</td>\n",
       "      <td>179.000000</td>\n",
       "      <td>179.000000</td>\n",
       "      <td>179.000000</td>\n",
       "      <td>179.000000</td>\n",
       "      <td>179.000000</td>\n",
       "      <td>179.000000</td>\n",
       "      <td>179.000000</td>\n",
       "    </tr>\n",
       "    <tr>\n",
       "      <th>mean</th>\n",
       "      <td>90.977654</td>\n",
       "      <td>8578.813911</td>\n",
       "      <td>31.145251</td>\n",
       "      <td>9.111732</td>\n",
       "      <td>12.586592</td>\n",
       "      <td>1.279330</td>\n",
       "      <td>0.279330</td>\n",
       "      <td>0.553073</td>\n",
       "      <td>0.497207</td>\n",
       "      <td>71.727486</td>\n",
       "      <td>0.289598</td>\n",
       "    </tr>\n",
       "    <tr>\n",
       "      <th>std</th>\n",
       "      <td>51.855130</td>\n",
       "      <td>4713.173605</td>\n",
       "      <td>9.321421</td>\n",
       "      <td>5.599842</td>\n",
       "      <td>2.576261</td>\n",
       "      <td>1.217922</td>\n",
       "      <td>0.449928</td>\n",
       "      <td>0.498570</td>\n",
       "      <td>0.501395</td>\n",
       "      <td>16.038158</td>\n",
       "      <td>0.199882</td>\n",
       "    </tr>\n",
       "    <tr>\n",
       "      <th>min</th>\n",
       "      <td>1.000000</td>\n",
       "      <td>1750.180000</td>\n",
       "      <td>18.000000</td>\n",
       "      <td>1.000000</td>\n",
       "      <td>7.000000</td>\n",
       "      <td>0.000000</td>\n",
       "      <td>0.000000</td>\n",
       "      <td>0.000000</td>\n",
       "      <td>0.000000</td>\n",
       "      <td>34.480000</td>\n",
       "      <td>0.000000</td>\n",
       "    </tr>\n",
       "    <tr>\n",
       "      <th>25%</th>\n",
       "      <td>46.500000</td>\n",
       "      <td>5500.435000</td>\n",
       "      <td>24.000000</td>\n",
       "      <td>5.000000</td>\n",
       "      <td>11.000000</td>\n",
       "      <td>1.000000</td>\n",
       "      <td>0.000000</td>\n",
       "      <td>0.000000</td>\n",
       "      <td>0.000000</td>\n",
       "      <td>60.395000</td>\n",
       "      <td>0.159046</td>\n",
       "    </tr>\n",
       "    <tr>\n",
       "      <th>50%</th>\n",
       "      <td>91.000000</td>\n",
       "      <td>7600.410000</td>\n",
       "      <td>28.000000</td>\n",
       "      <td>7.000000</td>\n",
       "      <td>13.000000</td>\n",
       "      <td>1.000000</td>\n",
       "      <td>0.000000</td>\n",
       "      <td>1.000000</td>\n",
       "      <td>0.000000</td>\n",
       "      <td>72.080000</td>\n",
       "      <td>0.248104</td>\n",
       "    </tr>\n",
       "    <tr>\n",
       "      <th>75%</th>\n",
       "      <td>135.500000</td>\n",
       "      <td>10594.240000</td>\n",
       "      <td>36.000000</td>\n",
       "      <td>13.000000</td>\n",
       "      <td>14.000000</td>\n",
       "      <td>1.000000</td>\n",
       "      <td>1.000000</td>\n",
       "      <td>1.000000</td>\n",
       "      <td>1.000000</td>\n",
       "      <td>83.850000</td>\n",
       "      <td>0.375070</td>\n",
       "    </tr>\n",
       "    <tr>\n",
       "      <th>max</th>\n",
       "      <td>180.000000</td>\n",
       "      <td>25329.910000</td>\n",
       "      <td>65.000000</td>\n",
       "      <td>25.000000</td>\n",
       "      <td>19.000000</td>\n",
       "      <td>7.000000</td>\n",
       "      <td>1.000000</td>\n",
       "      <td>1.000000</td>\n",
       "      <td>1.000000</td>\n",
       "      <td>98.960000</td>\n",
       "      <td>1.000000</td>\n",
       "    </tr>\n",
       "  </tbody>\n",
       "</table>\n",
       "</div>"
      ],
      "text/plain": [
       "            Ordem       salario  ...  notaavalia  sal_normal\n",
       "count  179.000000    179.000000  ...  179.000000  179.000000\n",
       "mean    90.977654   8578.813911  ...   71.727486    0.289598\n",
       "std     51.855130   4713.173605  ...   16.038158    0.199882\n",
       "min      1.000000   1750.180000  ...   34.480000    0.000000\n",
       "25%     46.500000   5500.435000  ...   60.395000    0.159046\n",
       "50%     91.000000   7600.410000  ...   72.080000    0.248104\n",
       "75%    135.500000  10594.240000  ...   83.850000    0.375070\n",
       "max    180.000000  25329.910000  ...   98.960000    1.000000\n",
       "\n",
       "[8 rows x 11 columns]"
      ]
     },
     "execution_count": 334,
     "metadata": {
      "tags": []
     },
     "output_type": "execute_result"
    }
   ],
   "source": [
    "salario_semout.describe()"
   ]
  },
  {
   "cell_type": "markdown",
   "metadata": {
    "id": "yzFYmgN8aGpD"
   },
   "source": [
    "** Em todo dataset **"
   ]
  },
  {
   "cell_type": "code",
   "execution_count": 335,
   "metadata": {
    "colab": {
     "base_uri": "https://localhost:8080/",
     "height": 288
    },
    "id": "jsvaCYvDaFJn",
    "outputId": "d15d16a5-a0d9-4f0a-eb5f-d8e61ec42aed"
   },
   "outputs": [
    {
     "data": {
      "text/html": [
       "<div>\n",
       "<style scoped>\n",
       "    .dataframe tbody tr th:only-of-type {\n",
       "        vertical-align: middle;\n",
       "    }\n",
       "\n",
       "    .dataframe tbody tr th {\n",
       "        vertical-align: top;\n",
       "    }\n",
       "\n",
       "    .dataframe thead th {\n",
       "        text-align: right;\n",
       "    }\n",
       "</style>\n",
       "<table border=\"1\" class=\"dataframe\">\n",
       "  <thead>\n",
       "    <tr style=\"text-align: right;\">\n",
       "      <th></th>\n",
       "      <th>Ordem</th>\n",
       "      <th>salario</th>\n",
       "      <th>idade</th>\n",
       "      <th>tempocasa</th>\n",
       "      <th>escolar</th>\n",
       "      <th>qproj_estra</th>\n",
       "      <th>proj_sustent</th>\n",
       "      <th>proj_6sigma</th>\n",
       "      <th>proj_social</th>\n",
       "      <th>notaavalia</th>\n",
       "    </tr>\n",
       "  </thead>\n",
       "  <tbody>\n",
       "    <tr>\n",
       "      <th>count</th>\n",
       "      <td>179.000000</td>\n",
       "      <td>179.000000</td>\n",
       "      <td>179.000000</td>\n",
       "      <td>179.000000</td>\n",
       "      <td>179.000000</td>\n",
       "      <td>179.000000</td>\n",
       "      <td>179.000000</td>\n",
       "      <td>179.000000</td>\n",
       "      <td>179.000000</td>\n",
       "      <td>179.000000</td>\n",
       "    </tr>\n",
       "    <tr>\n",
       "      <th>mean</th>\n",
       "      <td>0.502668</td>\n",
       "      <td>0.289598</td>\n",
       "      <td>0.279686</td>\n",
       "      <td>0.337989</td>\n",
       "      <td>0.465549</td>\n",
       "      <td>0.182761</td>\n",
       "      <td>0.279330</td>\n",
       "      <td>0.553073</td>\n",
       "      <td>0.497207</td>\n",
       "      <td>0.577660</td>\n",
       "    </tr>\n",
       "    <tr>\n",
       "      <th>std</th>\n",
       "      <td>0.289693</td>\n",
       "      <td>0.199882</td>\n",
       "      <td>0.198328</td>\n",
       "      <td>0.233327</td>\n",
       "      <td>0.214688</td>\n",
       "      <td>0.173989</td>\n",
       "      <td>0.449928</td>\n",
       "      <td>0.498570</td>\n",
       "      <td>0.501395</td>\n",
       "      <td>0.248731</td>\n",
       "    </tr>\n",
       "    <tr>\n",
       "      <th>min</th>\n",
       "      <td>0.000000</td>\n",
       "      <td>0.000000</td>\n",
       "      <td>0.000000</td>\n",
       "      <td>0.000000</td>\n",
       "      <td>0.000000</td>\n",
       "      <td>0.000000</td>\n",
       "      <td>0.000000</td>\n",
       "      <td>0.000000</td>\n",
       "      <td>0.000000</td>\n",
       "      <td>0.000000</td>\n",
       "    </tr>\n",
       "    <tr>\n",
       "      <th>25%</th>\n",
       "      <td>0.254190</td>\n",
       "      <td>0.159046</td>\n",
       "      <td>0.127660</td>\n",
       "      <td>0.166667</td>\n",
       "      <td>0.333333</td>\n",
       "      <td>0.142857</td>\n",
       "      <td>0.000000</td>\n",
       "      <td>0.000000</td>\n",
       "      <td>0.000000</td>\n",
       "      <td>0.401908</td>\n",
       "    </tr>\n",
       "    <tr>\n",
       "      <th>50%</th>\n",
       "      <td>0.502793</td>\n",
       "      <td>0.248104</td>\n",
       "      <td>0.212766</td>\n",
       "      <td>0.250000</td>\n",
       "      <td>0.500000</td>\n",
       "      <td>0.142857</td>\n",
       "      <td>0.000000</td>\n",
       "      <td>1.000000</td>\n",
       "      <td>0.000000</td>\n",
       "      <td>0.583127</td>\n",
       "    </tr>\n",
       "    <tr>\n",
       "      <th>75%</th>\n",
       "      <td>0.751397</td>\n",
       "      <td>0.375070</td>\n",
       "      <td>0.382979</td>\n",
       "      <td>0.500000</td>\n",
       "      <td>0.583333</td>\n",
       "      <td>0.142857</td>\n",
       "      <td>1.000000</td>\n",
       "      <td>1.000000</td>\n",
       "      <td>1.000000</td>\n",
       "      <td>0.765664</td>\n",
       "    </tr>\n",
       "    <tr>\n",
       "      <th>max</th>\n",
       "      <td>1.000000</td>\n",
       "      <td>1.000000</td>\n",
       "      <td>1.000000</td>\n",
       "      <td>1.000000</td>\n",
       "      <td>1.000000</td>\n",
       "      <td>1.000000</td>\n",
       "      <td>1.000000</td>\n",
       "      <td>1.000000</td>\n",
       "      <td>1.000000</td>\n",
       "      <td>1.000000</td>\n",
       "    </tr>\n",
       "  </tbody>\n",
       "</table>\n",
       "</div>"
      ],
      "text/plain": [
       "            Ordem     salario       idade  ...  proj_6sigma  proj_social  notaavalia\n",
       "count  179.000000  179.000000  179.000000  ...   179.000000   179.000000  179.000000\n",
       "mean     0.502668    0.289598    0.279686  ...     0.553073     0.497207    0.577660\n",
       "std      0.289693    0.199882    0.198328  ...     0.498570     0.501395    0.248731\n",
       "min      0.000000    0.000000    0.000000  ...     0.000000     0.000000    0.000000\n",
       "25%      0.254190    0.159046    0.127660  ...     0.000000     0.000000    0.401908\n",
       "50%      0.502793    0.248104    0.212766  ...     1.000000     0.000000    0.583127\n",
       "75%      0.751397    0.375070    0.382979  ...     1.000000     1.000000    0.765664\n",
       "max      1.000000    1.000000    1.000000  ...     1.000000     1.000000    1.000000\n",
       "\n",
       "[8 rows x 10 columns]"
      ]
     },
     "execution_count": 335,
     "metadata": {
      "tags": []
     },
     "output_type": "execute_result"
    }
   ],
   "source": [
    "sal_normalMinMax = salario_semout.drop(columns=['sal_normal'])\n",
    "from sklearn.preprocessing import MinMaxScaler\n",
    "scaler = MinMaxScaler(feature_range=(0,1))\n",
    "sal_MinMax = pd.DataFrame(scaler.fit_transform(sal_normalMinMax), columns=sal_normalMinMax.columns, index=sal_normalMinMax.index)\n",
    "sal_MinMax.describe()"
   ]
  },
  {
   "cell_type": "markdown",
   "metadata": {
    "id": "7gINyoyRW41k"
   },
   "source": [
    "**Padronize os recursos removendo a média e escalonando para a variância da unidade**\n",
    "\n",
    "A pontuação padrão de uma amostra **x** é calculada como:\n",
    "\n",
    "z = (x - u) / s\n",
    "\n",
    "onde **u** é a média das amostras de treinamento ou zero se with_mean=False, e **s** é o desvio padrão das amostras de treinamento ou um se with_std=False."
   ]
  },
  {
   "cell_type": "code",
   "execution_count": 336,
   "metadata": {
    "id": "KQKZt_VGO98b"
   },
   "outputs": [],
   "source": [
    "from sklearn.preprocessing import StandardScaler\n",
    "sc_sal = StandardScaler()\n",
    "salario_semout['sal_normalstd'] = sc_sal.fit_transform(salario_semout[['salario']])"
   ]
  },
  {
   "cell_type": "code",
   "execution_count": 337,
   "metadata": {
    "colab": {
     "base_uri": "https://localhost:8080/",
     "height": 288
    },
    "id": "NZixG6ObPAs7",
    "outputId": "4eea3847-9782-4223-9f5c-ce11a13dbd80"
   },
   "outputs": [
    {
     "data": {
      "text/html": [
       "<div>\n",
       "<style scoped>\n",
       "    .dataframe tbody tr th:only-of-type {\n",
       "        vertical-align: middle;\n",
       "    }\n",
       "\n",
       "    .dataframe tbody tr th {\n",
       "        vertical-align: top;\n",
       "    }\n",
       "\n",
       "    .dataframe thead th {\n",
       "        text-align: right;\n",
       "    }\n",
       "</style>\n",
       "<table border=\"1\" class=\"dataframe\">\n",
       "  <thead>\n",
       "    <tr style=\"text-align: right;\">\n",
       "      <th></th>\n",
       "      <th>Ordem</th>\n",
       "      <th>salario</th>\n",
       "      <th>idade</th>\n",
       "      <th>tempocasa</th>\n",
       "      <th>escolar</th>\n",
       "      <th>qproj_estra</th>\n",
       "      <th>proj_sustent</th>\n",
       "      <th>proj_6sigma</th>\n",
       "      <th>proj_social</th>\n",
       "      <th>notaavalia</th>\n",
       "      <th>sal_normal</th>\n",
       "      <th>sal_normalstd</th>\n",
       "    </tr>\n",
       "  </thead>\n",
       "  <tbody>\n",
       "    <tr>\n",
       "      <th>count</th>\n",
       "      <td>179.000000</td>\n",
       "      <td>179.000000</td>\n",
       "      <td>179.000000</td>\n",
       "      <td>179.000000</td>\n",
       "      <td>179.000000</td>\n",
       "      <td>179.000000</td>\n",
       "      <td>179.000000</td>\n",
       "      <td>179.000000</td>\n",
       "      <td>179.000000</td>\n",
       "      <td>179.000000</td>\n",
       "      <td>179.000000</td>\n",
       "      <td>1.790000e+02</td>\n",
       "    </tr>\n",
       "    <tr>\n",
       "      <th>mean</th>\n",
       "      <td>90.977654</td>\n",
       "      <td>8578.813911</td>\n",
       "      <td>31.145251</td>\n",
       "      <td>9.111732</td>\n",
       "      <td>12.586592</td>\n",
       "      <td>1.279330</td>\n",
       "      <td>0.279330</td>\n",
       "      <td>0.553073</td>\n",
       "      <td>0.497207</td>\n",
       "      <td>71.727486</td>\n",
       "      <td>0.289598</td>\n",
       "      <td>1.240473e-16</td>\n",
       "    </tr>\n",
       "    <tr>\n",
       "      <th>std</th>\n",
       "      <td>51.855130</td>\n",
       "      <td>4713.173605</td>\n",
       "      <td>9.321421</td>\n",
       "      <td>5.599842</td>\n",
       "      <td>2.576261</td>\n",
       "      <td>1.217922</td>\n",
       "      <td>0.449928</td>\n",
       "      <td>0.498570</td>\n",
       "      <td>0.501395</td>\n",
       "      <td>16.038158</td>\n",
       "      <td>0.199882</td>\n",
       "      <td>1.002805e+00</td>\n",
       "    </tr>\n",
       "    <tr>\n",
       "      <th>min</th>\n",
       "      <td>1.000000</td>\n",
       "      <td>1750.180000</td>\n",
       "      <td>18.000000</td>\n",
       "      <td>1.000000</td>\n",
       "      <td>7.000000</td>\n",
       "      <td>0.000000</td>\n",
       "      <td>0.000000</td>\n",
       "      <td>0.000000</td>\n",
       "      <td>0.000000</td>\n",
       "      <td>34.480000</td>\n",
       "      <td>0.000000</td>\n",
       "      <td>-1.452904e+00</td>\n",
       "    </tr>\n",
       "    <tr>\n",
       "      <th>25%</th>\n",
       "      <td>46.500000</td>\n",
       "      <td>5500.435000</td>\n",
       "      <td>24.000000</td>\n",
       "      <td>5.000000</td>\n",
       "      <td>11.000000</td>\n",
       "      <td>1.000000</td>\n",
       "      <td>0.000000</td>\n",
       "      <td>0.000000</td>\n",
       "      <td>0.000000</td>\n",
       "      <td>60.395000</td>\n",
       "      <td>0.159046</td>\n",
       "      <td>-6.549756e-01</td>\n",
       "    </tr>\n",
       "    <tr>\n",
       "      <th>50%</th>\n",
       "      <td>91.000000</td>\n",
       "      <td>7600.410000</td>\n",
       "      <td>28.000000</td>\n",
       "      <td>7.000000</td>\n",
       "      <td>13.000000</td>\n",
       "      <td>1.000000</td>\n",
       "      <td>0.000000</td>\n",
       "      <td>1.000000</td>\n",
       "      <td>0.000000</td>\n",
       "      <td>72.080000</td>\n",
       "      <td>0.248104</td>\n",
       "      <td>-2.081715e-01</td>\n",
       "    </tr>\n",
       "    <tr>\n",
       "      <th>75%</th>\n",
       "      <td>135.500000</td>\n",
       "      <td>10594.240000</td>\n",
       "      <td>36.000000</td>\n",
       "      <td>13.000000</td>\n",
       "      <td>14.000000</td>\n",
       "      <td>1.000000</td>\n",
       "      <td>1.000000</td>\n",
       "      <td>1.000000</td>\n",
       "      <td>1.000000</td>\n",
       "      <td>83.850000</td>\n",
       "      <td>0.375070</td>\n",
       "      <td>4.288150e-01</td>\n",
       "    </tr>\n",
       "    <tr>\n",
       "      <th>max</th>\n",
       "      <td>180.000000</td>\n",
       "      <td>25329.910000</td>\n",
       "      <td>65.000000</td>\n",
       "      <td>25.000000</td>\n",
       "      <td>19.000000</td>\n",
       "      <td>7.000000</td>\n",
       "      <td>1.000000</td>\n",
       "      <td>1.000000</td>\n",
       "      <td>1.000000</td>\n",
       "      <td>98.960000</td>\n",
       "      <td>1.000000</td>\n",
       "      <td>3.564071e+00</td>\n",
       "    </tr>\n",
       "  </tbody>\n",
       "</table>\n",
       "</div>"
      ],
      "text/plain": [
       "            Ordem       salario  ...  sal_normal  sal_normalstd\n",
       "count  179.000000    179.000000  ...  179.000000   1.790000e+02\n",
       "mean    90.977654   8578.813911  ...    0.289598   1.240473e-16\n",
       "std     51.855130   4713.173605  ...    0.199882   1.002805e+00\n",
       "min      1.000000   1750.180000  ...    0.000000  -1.452904e+00\n",
       "25%     46.500000   5500.435000  ...    0.159046  -6.549756e-01\n",
       "50%     91.000000   7600.410000  ...    0.248104  -2.081715e-01\n",
       "75%    135.500000  10594.240000  ...    0.375070   4.288150e-01\n",
       "max    180.000000  25329.910000  ...    1.000000   3.564071e+00\n",
       "\n",
       "[8 rows x 12 columns]"
      ]
     },
     "execution_count": 337,
     "metadata": {
      "tags": []
     },
     "output_type": "execute_result"
    }
   ],
   "source": [
    "salario_semout.describe()"
   ]
  },
  {
   "cell_type": "code",
   "execution_count": 338,
   "metadata": {
    "colab": {
     "base_uri": "https://localhost:8080/",
     "height": 288
    },
    "id": "mqZOLyT0Q0lj",
    "outputId": "4b8ed946-3e80-4dcf-96db-89612e85d81a"
   },
   "outputs": [
    {
     "data": {
      "text/html": [
       "<div>\n",
       "<style scoped>\n",
       "    .dataframe tbody tr th:only-of-type {\n",
       "        vertical-align: middle;\n",
       "    }\n",
       "\n",
       "    .dataframe tbody tr th {\n",
       "        vertical-align: top;\n",
       "    }\n",
       "\n",
       "    .dataframe thead th {\n",
       "        text-align: right;\n",
       "    }\n",
       "</style>\n",
       "<table border=\"1\" class=\"dataframe\">\n",
       "  <thead>\n",
       "    <tr style=\"text-align: right;\">\n",
       "      <th></th>\n",
       "      <th>Ordem</th>\n",
       "      <th>salario</th>\n",
       "      <th>idade</th>\n",
       "      <th>tempocasa</th>\n",
       "      <th>escolar</th>\n",
       "      <th>qproj_estra</th>\n",
       "      <th>proj_sustent</th>\n",
       "      <th>proj_6sigma</th>\n",
       "      <th>proj_social</th>\n",
       "      <th>notaavalia</th>\n",
       "    </tr>\n",
       "  </thead>\n",
       "  <tbody>\n",
       "    <tr>\n",
       "      <th>count</th>\n",
       "      <td>1.790000e+02</td>\n",
       "      <td>1.790000e+02</td>\n",
       "      <td>1.790000e+02</td>\n",
       "      <td>1.790000e+02</td>\n",
       "      <td>1.790000e+02</td>\n",
       "      <td>1.790000e+02</td>\n",
       "      <td>1.790000e+02</td>\n",
       "      <td>1.790000e+02</td>\n",
       "      <td>1.790000e+02</td>\n",
       "      <td>1.790000e+02</td>\n",
       "    </tr>\n",
       "    <tr>\n",
       "      <th>mean</th>\n",
       "      <td>-9.055450e-17</td>\n",
       "      <td>1.240473e-16</td>\n",
       "      <td>-8.435214e-17</td>\n",
       "      <td>1.910328e-16</td>\n",
       "      <td>-4.155583e-17</td>\n",
       "      <td>8.218131e-18</td>\n",
       "      <td>-6.946647e-17</td>\n",
       "      <td>1.736662e-17</td>\n",
       "      <td>6.946647e-17</td>\n",
       "      <td>-1.200157e-16</td>\n",
       "    </tr>\n",
       "    <tr>\n",
       "      <th>std</th>\n",
       "      <td>1.002805e+00</td>\n",
       "      <td>1.002805e+00</td>\n",
       "      <td>1.002805e+00</td>\n",
       "      <td>1.002805e+00</td>\n",
       "      <td>1.002805e+00</td>\n",
       "      <td>1.002805e+00</td>\n",
       "      <td>1.002805e+00</td>\n",
       "      <td>1.002805e+00</td>\n",
       "      <td>1.002805e+00</td>\n",
       "      <td>1.002805e+00</td>\n",
       "    </tr>\n",
       "    <tr>\n",
       "      <th>min</th>\n",
       "      <td>-1.740041e+00</td>\n",
       "      <td>-1.452904e+00</td>\n",
       "      <td>-1.414175e+00</td>\n",
       "      <td>-1.452628e+00</td>\n",
       "      <td>-2.174571e+00</td>\n",
       "      <td>-1.053366e+00</td>\n",
       "      <td>-6.225728e-01</td>\n",
       "      <td>-1.112430e+00</td>\n",
       "      <td>-9.944289e-01</td>\n",
       "      <td>-2.328944e+00</td>\n",
       "    </tr>\n",
       "    <tr>\n",
       "      <th>25%</th>\n",
       "      <td>-8.601351e-01</td>\n",
       "      <td>-6.549756e-01</td>\n",
       "      <td>-7.686912e-01</td>\n",
       "      <td>-7.363182e-01</td>\n",
       "      <td>-6.175781e-01</td>\n",
       "      <td>-2.299926e-01</td>\n",
       "      <td>-6.225728e-01</td>\n",
       "      <td>-1.112430e+00</td>\n",
       "      <td>-9.944289e-01</td>\n",
       "      <td>-7.085773e-01</td>\n",
       "    </tr>\n",
       "    <tr>\n",
       "      <th>50%</th>\n",
       "      <td>4.321472e-04</td>\n",
       "      <td>-2.081715e-01</td>\n",
       "      <td>-3.383684e-01</td>\n",
       "      <td>-3.781634e-01</td>\n",
       "      <td>1.609182e-01</td>\n",
       "      <td>-2.299926e-01</td>\n",
       "      <td>-6.225728e-01</td>\n",
       "      <td>8.989331e-01</td>\n",
       "      <td>-9.944289e-01</td>\n",
       "      <td>2.204136e-02</td>\n",
       "    </tr>\n",
       "    <tr>\n",
       "      <th>75%</th>\n",
       "      <td>8.609994e-01</td>\n",
       "      <td>4.288150e-01</td>\n",
       "      <td>5.222773e-01</td>\n",
       "      <td>6.963009e-01</td>\n",
       "      <td>5.501664e-01</td>\n",
       "      <td>-2.299926e-01</td>\n",
       "      <td>1.606238e+00</td>\n",
       "      <td>8.989331e-01</td>\n",
       "      <td>1.005602e+00</td>\n",
       "      <td>7.579747e-01</td>\n",
       "    </tr>\n",
       "    <tr>\n",
       "      <th>max</th>\n",
       "      <td>1.721567e+00</td>\n",
       "      <td>3.564071e+00</td>\n",
       "      <td>3.642118e+00</td>\n",
       "      <td>2.845229e+00</td>\n",
       "      <td>2.496407e+00</td>\n",
       "      <td>4.710249e+00</td>\n",
       "      <td>1.606238e+00</td>\n",
       "      <td>8.989331e-01</td>\n",
       "      <td>1.005602e+00</td>\n",
       "      <td>1.702746e+00</td>\n",
       "    </tr>\n",
       "  </tbody>\n",
       "</table>\n",
       "</div>"
      ],
      "text/plain": [
       "              Ordem       salario  ...   proj_social    notaavalia\n",
       "count  1.790000e+02  1.790000e+02  ...  1.790000e+02  1.790000e+02\n",
       "mean  -9.055450e-17  1.240473e-16  ...  6.946647e-17 -1.200157e-16\n",
       "std    1.002805e+00  1.002805e+00  ...  1.002805e+00  1.002805e+00\n",
       "min   -1.740041e+00 -1.452904e+00  ... -9.944289e-01 -2.328944e+00\n",
       "25%   -8.601351e-01 -6.549756e-01  ... -9.944289e-01 -7.085773e-01\n",
       "50%    4.321472e-04 -2.081715e-01  ... -9.944289e-01  2.204136e-02\n",
       "75%    8.609994e-01  4.288150e-01  ...  1.005602e+00  7.579747e-01\n",
       "max    1.721567e+00  3.564071e+00  ...  1.005602e+00  1.702746e+00\n",
       "\n",
       "[8 rows x 10 columns]"
      ]
     },
     "execution_count": 338,
     "metadata": {
      "tags": []
     },
     "output_type": "execute_result"
    }
   ],
   "source": [
    "sal_normalStd = salario_semout.drop(columns=['sal_normal','sal_normalstd'])\n",
    "from sklearn.preprocessing import StandardScaler\n",
    "sc_sal = StandardScaler()\n",
    "sal_Std = pd.DataFrame(sc_sal.fit_transform(sal_normalStd), columns=sal_normalStd.columns, index=sal_normalStd.index)\n",
    "sal_Std.describe()"
   ]
  },
  {
   "cell_type": "code",
   "execution_count": 339,
   "metadata": {
    "colab": {
     "base_uri": "https://localhost:8080/",
     "height": 288
    },
    "id": "dyyRmv4GZB3e",
    "outputId": "5b6b0178-4357-47bd-a525-b17f0d88cf5f"
   },
   "outputs": [
    {
     "data": {
      "text/html": [
       "<div>\n",
       "<style scoped>\n",
       "    .dataframe tbody tr th:only-of-type {\n",
       "        vertical-align: middle;\n",
       "    }\n",
       "\n",
       "    .dataframe tbody tr th {\n",
       "        vertical-align: top;\n",
       "    }\n",
       "\n",
       "    .dataframe thead th {\n",
       "        text-align: right;\n",
       "    }\n",
       "</style>\n",
       "<table border=\"1\" class=\"dataframe\">\n",
       "  <thead>\n",
       "    <tr style=\"text-align: right;\">\n",
       "      <th></th>\n",
       "      <th>Ordem</th>\n",
       "      <th>salario</th>\n",
       "      <th>idade</th>\n",
       "      <th>tempocasa</th>\n",
       "      <th>escolar</th>\n",
       "      <th>qproj_estra</th>\n",
       "      <th>proj_sustent</th>\n",
       "      <th>proj_6sigma</th>\n",
       "      <th>proj_social</th>\n",
       "      <th>notaavalia</th>\n",
       "    </tr>\n",
       "  </thead>\n",
       "  <tbody>\n",
       "    <tr>\n",
       "      <th>count</th>\n",
       "      <td>1.790000e+02</td>\n",
       "      <td>1.790000e+02</td>\n",
       "      <td>1.790000e+02</td>\n",
       "      <td>1.790000e+02</td>\n",
       "      <td>1.790000e+02</td>\n",
       "      <td>1.790000e+02</td>\n",
       "      <td>1.790000e+02</td>\n",
       "      <td>1.790000e+02</td>\n",
       "      <td>1.790000e+02</td>\n",
       "      <td>1.790000e+02</td>\n",
       "    </tr>\n",
       "    <tr>\n",
       "      <th>mean</th>\n",
       "      <td>-1.860709e-16</td>\n",
       "      <td>1.699448e-16</td>\n",
       "      <td>-1.997161e-16</td>\n",
       "      <td>-3.349276e-17</td>\n",
       "      <td>-3.572561e-16</td>\n",
       "      <td>-5.659656e-17</td>\n",
       "      <td>7.939025e-17</td>\n",
       "      <td>-6.202363e-17</td>\n",
       "      <td>7.690930e-17</td>\n",
       "      <td>1.667195e-15</td>\n",
       "    </tr>\n",
       "    <tr>\n",
       "      <th>std</th>\n",
       "      <td>1.000000e+00</td>\n",
       "      <td>1.000000e+00</td>\n",
       "      <td>1.000000e+00</td>\n",
       "      <td>1.000000e+00</td>\n",
       "      <td>1.000000e+00</td>\n",
       "      <td>1.000000e+00</td>\n",
       "      <td>1.000000e+00</td>\n",
       "      <td>1.000000e+00</td>\n",
       "      <td>1.000000e+00</td>\n",
       "      <td>1.000000e+00</td>\n",
       "    </tr>\n",
       "    <tr>\n",
       "      <th>min</th>\n",
       "      <td>-1.735174e+00</td>\n",
       "      <td>-1.448840e+00</td>\n",
       "      <td>-1.410220e+00</td>\n",
       "      <td>-1.448564e+00</td>\n",
       "      <td>-2.168488e+00</td>\n",
       "      <td>-1.050420e+00</td>\n",
       "      <td>-6.208313e-01</td>\n",
       "      <td>-1.109318e+00</td>\n",
       "      <td>-9.916473e-01</td>\n",
       "      <td>-2.322429e+00</td>\n",
       "    </tr>\n",
       "    <tr>\n",
       "      <th>25%</th>\n",
       "      <td>-8.577291e-01</td>\n",
       "      <td>-6.531435e-01</td>\n",
       "      <td>-7.665410e-01</td>\n",
       "      <td>-7.342585e-01</td>\n",
       "      <td>-6.158506e-01</td>\n",
       "      <td>-2.293493e-01</td>\n",
       "      <td>-6.208313e-01</td>\n",
       "      <td>-1.109318e+00</td>\n",
       "      <td>-9.916473e-01</td>\n",
       "      <td>-7.065952e-01</td>\n",
       "    </tr>\n",
       "    <tr>\n",
       "      <th>50%</th>\n",
       "      <td>4.309384e-04</td>\n",
       "      <td>-2.075892e-01</td>\n",
       "      <td>-3.374219e-01</td>\n",
       "      <td>-3.771056e-01</td>\n",
       "      <td>1.604681e-01</td>\n",
       "      <td>-2.293493e-01</td>\n",
       "      <td>-6.208313e-01</td>\n",
       "      <td>8.964186e-01</td>\n",
       "      <td>-9.916473e-01</td>\n",
       "      <td>2.197970e-02</td>\n",
       "    </tr>\n",
       "    <tr>\n",
       "      <th>75%</th>\n",
       "      <td>8.585910e-01</td>\n",
       "      <td>4.276155e-01</td>\n",
       "      <td>5.208163e-01</td>\n",
       "      <td>6.943532e-01</td>\n",
       "      <td>5.486275e-01</td>\n",
       "      <td>-2.293493e-01</td>\n",
       "      <td>1.601745e+00</td>\n",
       "      <td>8.964186e-01</td>\n",
       "      <td>1.002789e+00</td>\n",
       "      <td>7.558545e-01</td>\n",
       "    </tr>\n",
       "    <tr>\n",
       "      <th>max</th>\n",
       "      <td>1.716751e+00</td>\n",
       "      <td>3.554101e+00</td>\n",
       "      <td>3.631930e+00</td>\n",
       "      <td>2.837271e+00</td>\n",
       "      <td>2.489424e+00</td>\n",
       "      <td>4.697074e+00</td>\n",
       "      <td>1.601745e+00</td>\n",
       "      <td>8.964186e-01</td>\n",
       "      <td>1.002789e+00</td>\n",
       "      <td>1.697983e+00</td>\n",
       "    </tr>\n",
       "  </tbody>\n",
       "</table>\n",
       "</div>"
      ],
      "text/plain": [
       "              Ordem       salario  ...   proj_social    notaavalia\n",
       "count  1.790000e+02  1.790000e+02  ...  1.790000e+02  1.790000e+02\n",
       "mean  -1.860709e-16  1.699448e-16  ...  7.690930e-17  1.667195e-15\n",
       "std    1.000000e+00  1.000000e+00  ...  1.000000e+00  1.000000e+00\n",
       "min   -1.735174e+00 -1.448840e+00  ... -9.916473e-01 -2.322429e+00\n",
       "25%   -8.577291e-01 -6.531435e-01  ... -9.916473e-01 -7.065952e-01\n",
       "50%    4.309384e-04 -2.075892e-01  ... -9.916473e-01  2.197970e-02\n",
       "75%    8.585910e-01  4.276155e-01  ...  1.002789e+00  7.558545e-01\n",
       "max    1.716751e+00  3.554101e+00  ...  1.002789e+00  1.697983e+00\n",
       "\n",
       "[8 rows x 10 columns]"
      ]
     },
     "execution_count": 339,
     "metadata": {
      "tags": []
     },
     "output_type": "execute_result"
    }
   ],
   "source": [
    "normalized_Std=(sal_normalStd-sal_normalStd.mean())/sal_normalStd.std()\n",
    "normalized_Std.describe()"
   ]
  },
  {
   "cell_type": "code",
   "execution_count": 340,
   "metadata": {
    "colab": {
     "base_uri": "https://localhost:8080/",
     "height": 288
    },
    "id": "TlGZnSXTcF81",
    "outputId": "496e7f65-c47d-4645-fa64-441e43b88302"
   },
   "outputs": [
    {
     "data": {
      "text/html": [
       "<div>\n",
       "<style scoped>\n",
       "    .dataframe tbody tr th:only-of-type {\n",
       "        vertical-align: middle;\n",
       "    }\n",
       "\n",
       "    .dataframe tbody tr th {\n",
       "        vertical-align: top;\n",
       "    }\n",
       "\n",
       "    .dataframe thead th {\n",
       "        text-align: right;\n",
       "    }\n",
       "</style>\n",
       "<table border=\"1\" class=\"dataframe\">\n",
       "  <thead>\n",
       "    <tr style=\"text-align: right;\">\n",
       "      <th></th>\n",
       "      <th>Ordem</th>\n",
       "      <th>salario</th>\n",
       "      <th>idade</th>\n",
       "      <th>tempocasa</th>\n",
       "      <th>escolar</th>\n",
       "      <th>qproj_estra</th>\n",
       "      <th>proj_sustent</th>\n",
       "      <th>proj_6sigma</th>\n",
       "      <th>proj_social</th>\n",
       "      <th>notaavalia</th>\n",
       "    </tr>\n",
       "  </thead>\n",
       "  <tbody>\n",
       "    <tr>\n",
       "      <th>count</th>\n",
       "      <td>179.000000</td>\n",
       "      <td>179.000000</td>\n",
       "      <td>179.000000</td>\n",
       "      <td>179.000000</td>\n",
       "      <td>179.000000</td>\n",
       "      <td>179.000000</td>\n",
       "      <td>179.000000</td>\n",
       "      <td>179.000000</td>\n",
       "      <td>179.000000</td>\n",
       "      <td>179.000000</td>\n",
       "    </tr>\n",
       "    <tr>\n",
       "      <th>mean</th>\n",
       "      <td>0.502668</td>\n",
       "      <td>0.289598</td>\n",
       "      <td>0.279686</td>\n",
       "      <td>0.337989</td>\n",
       "      <td>0.465549</td>\n",
       "      <td>0.182761</td>\n",
       "      <td>0.279330</td>\n",
       "      <td>0.553073</td>\n",
       "      <td>0.497207</td>\n",
       "      <td>0.577660</td>\n",
       "    </tr>\n",
       "    <tr>\n",
       "      <th>std</th>\n",
       "      <td>0.289693</td>\n",
       "      <td>0.199882</td>\n",
       "      <td>0.198328</td>\n",
       "      <td>0.233327</td>\n",
       "      <td>0.214688</td>\n",
       "      <td>0.173989</td>\n",
       "      <td>0.449928</td>\n",
       "      <td>0.498570</td>\n",
       "      <td>0.501395</td>\n",
       "      <td>0.248731</td>\n",
       "    </tr>\n",
       "    <tr>\n",
       "      <th>min</th>\n",
       "      <td>0.000000</td>\n",
       "      <td>0.000000</td>\n",
       "      <td>0.000000</td>\n",
       "      <td>0.000000</td>\n",
       "      <td>0.000000</td>\n",
       "      <td>0.000000</td>\n",
       "      <td>0.000000</td>\n",
       "      <td>0.000000</td>\n",
       "      <td>0.000000</td>\n",
       "      <td>0.000000</td>\n",
       "    </tr>\n",
       "    <tr>\n",
       "      <th>25%</th>\n",
       "      <td>0.254190</td>\n",
       "      <td>0.159046</td>\n",
       "      <td>0.127660</td>\n",
       "      <td>0.166667</td>\n",
       "      <td>0.333333</td>\n",
       "      <td>0.142857</td>\n",
       "      <td>0.000000</td>\n",
       "      <td>0.000000</td>\n",
       "      <td>0.000000</td>\n",
       "      <td>0.401908</td>\n",
       "    </tr>\n",
       "    <tr>\n",
       "      <th>50%</th>\n",
       "      <td>0.502793</td>\n",
       "      <td>0.248104</td>\n",
       "      <td>0.212766</td>\n",
       "      <td>0.250000</td>\n",
       "      <td>0.500000</td>\n",
       "      <td>0.142857</td>\n",
       "      <td>0.000000</td>\n",
       "      <td>1.000000</td>\n",
       "      <td>0.000000</td>\n",
       "      <td>0.583127</td>\n",
       "    </tr>\n",
       "    <tr>\n",
       "      <th>75%</th>\n",
       "      <td>0.751397</td>\n",
       "      <td>0.375070</td>\n",
       "      <td>0.382979</td>\n",
       "      <td>0.500000</td>\n",
       "      <td>0.583333</td>\n",
       "      <td>0.142857</td>\n",
       "      <td>1.000000</td>\n",
       "      <td>1.000000</td>\n",
       "      <td>1.000000</td>\n",
       "      <td>0.765664</td>\n",
       "    </tr>\n",
       "    <tr>\n",
       "      <th>max</th>\n",
       "      <td>1.000000</td>\n",
       "      <td>1.000000</td>\n",
       "      <td>1.000000</td>\n",
       "      <td>1.000000</td>\n",
       "      <td>1.000000</td>\n",
       "      <td>1.000000</td>\n",
       "      <td>1.000000</td>\n",
       "      <td>1.000000</td>\n",
       "      <td>1.000000</td>\n",
       "      <td>1.000000</td>\n",
       "    </tr>\n",
       "  </tbody>\n",
       "</table>\n",
       "</div>"
      ],
      "text/plain": [
       "            Ordem     salario       idade  ...  proj_6sigma  proj_social  notaavalia\n",
       "count  179.000000  179.000000  179.000000  ...   179.000000   179.000000  179.000000\n",
       "mean     0.502668    0.289598    0.279686  ...     0.553073     0.497207    0.577660\n",
       "std      0.289693    0.199882    0.198328  ...     0.498570     0.501395    0.248731\n",
       "min      0.000000    0.000000    0.000000  ...     0.000000     0.000000    0.000000\n",
       "25%      0.254190    0.159046    0.127660  ...     0.000000     0.000000    0.401908\n",
       "50%      0.502793    0.248104    0.212766  ...     1.000000     0.000000    0.583127\n",
       "75%      0.751397    0.375070    0.382979  ...     1.000000     1.000000    0.765664\n",
       "max      1.000000    1.000000    1.000000  ...     1.000000     1.000000    1.000000\n",
       "\n",
       "[8 rows x 10 columns]"
      ]
     },
     "execution_count": 340,
     "metadata": {
      "tags": []
     },
     "output_type": "execute_result"
    }
   ],
   "source": [
    "normalized_MinMax=(sal_normalMinMax-sal_normalMinMax.min())/(sal_normalMinMax.max()-sal_normalMinMax.min())\n",
    "normalized_MinMax.describe()"
   ]
  },
  {
   "cell_type": "code",
   "execution_count": 341,
   "metadata": {
    "colab": {
     "base_uri": "https://localhost:8080/",
     "height": 288
    },
    "id": "_QHfXUxwcPGz",
    "outputId": "2caea567-7b5d-4471-ae71-bd86364e96e8"
   },
   "outputs": [
    {
     "data": {
      "text/html": [
       "<div>\n",
       "<style scoped>\n",
       "    .dataframe tbody tr th:only-of-type {\n",
       "        vertical-align: middle;\n",
       "    }\n",
       "\n",
       "    .dataframe tbody tr th {\n",
       "        vertical-align: top;\n",
       "    }\n",
       "\n",
       "    .dataframe thead th {\n",
       "        text-align: right;\n",
       "    }\n",
       "</style>\n",
       "<table border=\"1\" class=\"dataframe\">\n",
       "  <thead>\n",
       "    <tr style=\"text-align: right;\">\n",
       "      <th></th>\n",
       "      <th>Ordem</th>\n",
       "      <th>salario</th>\n",
       "      <th>idade</th>\n",
       "      <th>tempocasa</th>\n",
       "      <th>escolar</th>\n",
       "      <th>qproj_estra</th>\n",
       "      <th>proj_sustent</th>\n",
       "      <th>proj_6sigma</th>\n",
       "      <th>proj_social</th>\n",
       "      <th>notaavalia</th>\n",
       "    </tr>\n",
       "  </thead>\n",
       "  <tbody>\n",
       "    <tr>\n",
       "      <th>count</th>\n",
       "      <td>179.000000</td>\n",
       "      <td>179.000000</td>\n",
       "      <td>179.000000</td>\n",
       "      <td>179.000000</td>\n",
       "      <td>179.000000</td>\n",
       "      <td>179.000000</td>\n",
       "      <td>179.000000</td>\n",
       "      <td>179.000000</td>\n",
       "      <td>179.000000</td>\n",
       "      <td>179.000000</td>\n",
       "    </tr>\n",
       "    <tr>\n",
       "      <th>mean</th>\n",
       "      <td>0.502668</td>\n",
       "      <td>0.289598</td>\n",
       "      <td>0.279686</td>\n",
       "      <td>0.337989</td>\n",
       "      <td>0.465549</td>\n",
       "      <td>0.182761</td>\n",
       "      <td>0.279330</td>\n",
       "      <td>0.553073</td>\n",
       "      <td>0.497207</td>\n",
       "      <td>0.577660</td>\n",
       "    </tr>\n",
       "    <tr>\n",
       "      <th>std</th>\n",
       "      <td>0.289693</td>\n",
       "      <td>0.199882</td>\n",
       "      <td>0.198328</td>\n",
       "      <td>0.233327</td>\n",
       "      <td>0.214688</td>\n",
       "      <td>0.173989</td>\n",
       "      <td>0.449928</td>\n",
       "      <td>0.498570</td>\n",
       "      <td>0.501395</td>\n",
       "      <td>0.248731</td>\n",
       "    </tr>\n",
       "    <tr>\n",
       "      <th>min</th>\n",
       "      <td>0.000000</td>\n",
       "      <td>0.000000</td>\n",
       "      <td>0.000000</td>\n",
       "      <td>0.000000</td>\n",
       "      <td>0.000000</td>\n",
       "      <td>0.000000</td>\n",
       "      <td>0.000000</td>\n",
       "      <td>0.000000</td>\n",
       "      <td>0.000000</td>\n",
       "      <td>0.000000</td>\n",
       "    </tr>\n",
       "    <tr>\n",
       "      <th>25%</th>\n",
       "      <td>0.254190</td>\n",
       "      <td>0.159046</td>\n",
       "      <td>0.127660</td>\n",
       "      <td>0.166667</td>\n",
       "      <td>0.333333</td>\n",
       "      <td>0.142857</td>\n",
       "      <td>0.000000</td>\n",
       "      <td>0.000000</td>\n",
       "      <td>0.000000</td>\n",
       "      <td>0.401908</td>\n",
       "    </tr>\n",
       "    <tr>\n",
       "      <th>50%</th>\n",
       "      <td>0.502793</td>\n",
       "      <td>0.248104</td>\n",
       "      <td>0.212766</td>\n",
       "      <td>0.250000</td>\n",
       "      <td>0.500000</td>\n",
       "      <td>0.142857</td>\n",
       "      <td>0.000000</td>\n",
       "      <td>1.000000</td>\n",
       "      <td>0.000000</td>\n",
       "      <td>0.583127</td>\n",
       "    </tr>\n",
       "    <tr>\n",
       "      <th>75%</th>\n",
       "      <td>0.751397</td>\n",
       "      <td>0.375070</td>\n",
       "      <td>0.382979</td>\n",
       "      <td>0.500000</td>\n",
       "      <td>0.583333</td>\n",
       "      <td>0.142857</td>\n",
       "      <td>1.000000</td>\n",
       "      <td>1.000000</td>\n",
       "      <td>1.000000</td>\n",
       "      <td>0.765664</td>\n",
       "    </tr>\n",
       "    <tr>\n",
       "      <th>max</th>\n",
       "      <td>1.000000</td>\n",
       "      <td>1.000000</td>\n",
       "      <td>1.000000</td>\n",
       "      <td>1.000000</td>\n",
       "      <td>1.000000</td>\n",
       "      <td>1.000000</td>\n",
       "      <td>1.000000</td>\n",
       "      <td>1.000000</td>\n",
       "      <td>1.000000</td>\n",
       "      <td>1.000000</td>\n",
       "    </tr>\n",
       "  </tbody>\n",
       "</table>\n",
       "</div>"
      ],
      "text/plain": [
       "            Ordem     salario       idade  ...  proj_6sigma  proj_social  notaavalia\n",
       "count  179.000000  179.000000  179.000000  ...   179.000000   179.000000  179.000000\n",
       "mean     0.502668    0.289598    0.279686  ...     0.553073     0.497207    0.577660\n",
       "std      0.289693    0.199882    0.198328  ...     0.498570     0.501395    0.248731\n",
       "min      0.000000    0.000000    0.000000  ...     0.000000     0.000000    0.000000\n",
       "25%      0.254190    0.159046    0.127660  ...     0.000000     0.000000    0.401908\n",
       "50%      0.502793    0.248104    0.212766  ...     1.000000     0.000000    0.583127\n",
       "75%      0.751397    0.375070    0.382979  ...     1.000000     1.000000    0.765664\n",
       "max      1.000000    1.000000    1.000000  ...     1.000000     1.000000    1.000000\n",
       "\n",
       "[8 rows x 10 columns]"
      ]
     },
     "execution_count": 341,
     "metadata": {
      "tags": []
     },
     "output_type": "execute_result"
    }
   ],
   "source": [
    "sal_MinMax.describe()"
   ]
  },
  {
   "cell_type": "markdown",
   "metadata": {
    "id": "Eh_J-8TmYIGJ"
   },
   "source": [
    "# Transformando as variáveis em Categóricas #"
   ]
  },
  {
   "cell_type": "code",
   "execution_count": null,
   "metadata": {},
   "outputs": [],
   "source": [
    "from sklearn.preprocessing import LabelEncoder \n",
    "\n",
    "var_mod =['Gender','Married','Dependents','Education','Self_Employed','Property_Area','Loan_Status'] \n",
    "\n",
    "le = LabelEncoder() \n",
    "# Transformando as variáveis em Dummies #\n",
    "for i in var_mod: \n",
    "  df[i] = le.fit_transform(df[i]) \n",
    "\n",
    "df.dtypes"
   ]
  },
  {
   "cell_type": "markdown",
   "metadata": {
    "id": "Eh_J-8TmYIGJ"
   },
   "source": [
    "# Transformando as variáveis em Dummies #"
   ]
  },
  {
   "cell_type": "markdown",
   "metadata": {},
   "source": [
    "### Usando Pandas get_dummies ###"
   ]
  },
  {
   "cell_type": "code",
   "execution_count": 8,
   "metadata": {},
   "outputs": [],
   "source": [
    "from sklearn.datasets import load_iris\n",
    "sns.set()\n",
    "%matplotlib inline"
   ]
  },
  {
   "cell_type": "code",
   "execution_count": 25,
   "metadata": {},
   "outputs": [],
   "source": [
    "#Iris Plot\n",
    "iris = load_iris()\n",
    "n_samples, m_features = iris.data.shape"
   ]
  },
  {
   "cell_type": "code",
   "execution_count": 26,
   "metadata": {},
   "outputs": [],
   "source": [
    "#Load Data\n",
    "X, y = iris.data, iris.target\n",
    "D_target_dummy = dict(zip(np.arange(iris.target_names.shape[0]), iris.target_names))"
   ]
  },
  {
   "cell_type": "code",
   "execution_count": 33,
   "metadata": {},
   "outputs": [
    {
     "data": {
      "text/html": [
       "<div>\n",
       "<style scoped>\n",
       "    .dataframe tbody tr th:only-of-type {\n",
       "        vertical-align: middle;\n",
       "    }\n",
       "\n",
       "    .dataframe tbody tr th {\n",
       "        vertical-align: top;\n",
       "    }\n",
       "\n",
       "    .dataframe thead th {\n",
       "        text-align: right;\n",
       "    }\n",
       "</style>\n",
       "<table border=\"1\" class=\"dataframe\">\n",
       "  <thead>\n",
       "    <tr style=\"text-align: right;\">\n",
       "      <th></th>\n",
       "      <th>sepal length (cm)</th>\n",
       "      <th>sepal width (cm)</th>\n",
       "      <th>petal length (cm)</th>\n",
       "      <th>petal width (cm)</th>\n",
       "    </tr>\n",
       "  </thead>\n",
       "  <tbody>\n",
       "    <tr>\n",
       "      <th>0</th>\n",
       "      <td>5.1</td>\n",
       "      <td>3.5</td>\n",
       "      <td>1.4</td>\n",
       "      <td>0.2</td>\n",
       "    </tr>\n",
       "    <tr>\n",
       "      <th>1</th>\n",
       "      <td>4.9</td>\n",
       "      <td>3.0</td>\n",
       "      <td>1.4</td>\n",
       "      <td>0.2</td>\n",
       "    </tr>\n",
       "    <tr>\n",
       "      <th>2</th>\n",
       "      <td>4.7</td>\n",
       "      <td>3.2</td>\n",
       "      <td>1.3</td>\n",
       "      <td>0.2</td>\n",
       "    </tr>\n",
       "    <tr>\n",
       "      <th>3</th>\n",
       "      <td>4.6</td>\n",
       "      <td>3.1</td>\n",
       "      <td>1.5</td>\n",
       "      <td>0.2</td>\n",
       "    </tr>\n",
       "    <tr>\n",
       "      <th>4</th>\n",
       "      <td>5.0</td>\n",
       "      <td>3.6</td>\n",
       "      <td>1.4</td>\n",
       "      <td>0.2</td>\n",
       "    </tr>\n",
       "  </tbody>\n",
       "</table>\n",
       "</div>"
      ],
      "text/plain": [
       "   sepal length (cm)  sepal width (cm)  petal length (cm)  petal width (cm)\n",
       "0                5.1               3.5                1.4               0.2\n",
       "1                4.9               3.0                1.4               0.2\n",
       "2                4.7               3.2                1.3               0.2\n",
       "3                4.6               3.1                1.5               0.2\n",
       "4                5.0               3.6                1.4               0.2"
      ]
     },
     "execution_count": 33,
     "metadata": {},
     "output_type": "execute_result"
    }
   ],
   "source": [
    "DF_data = pd.DataFrame(X,columns=iris.feature_names)\n",
    "DF_data.head()"
   ]
  },
  {
   "cell_type": "code",
   "execution_count": 34,
   "metadata": {},
   "outputs": [
    {
     "data": {
      "text/html": [
       "<div>\n",
       "<style scoped>\n",
       "    .dataframe tbody tr th:only-of-type {\n",
       "        vertical-align: middle;\n",
       "    }\n",
       "\n",
       "    .dataframe tbody tr th {\n",
       "        vertical-align: top;\n",
       "    }\n",
       "\n",
       "    .dataframe thead th {\n",
       "        text-align: right;\n",
       "    }\n",
       "</style>\n",
       "<table border=\"1\" class=\"dataframe\">\n",
       "  <thead>\n",
       "    <tr style=\"text-align: right;\">\n",
       "      <th></th>\n",
       "      <th>sepal length (cm)</th>\n",
       "      <th>sepal width (cm)</th>\n",
       "      <th>petal length (cm)</th>\n",
       "      <th>petal width (cm)</th>\n",
       "      <th>target</th>\n",
       "    </tr>\n",
       "  </thead>\n",
       "  <tbody>\n",
       "    <tr>\n",
       "      <th>0</th>\n",
       "      <td>5.1</td>\n",
       "      <td>3.5</td>\n",
       "      <td>1.4</td>\n",
       "      <td>0.2</td>\n",
       "      <td>setosa</td>\n",
       "    </tr>\n",
       "    <tr>\n",
       "      <th>1</th>\n",
       "      <td>4.9</td>\n",
       "      <td>3.0</td>\n",
       "      <td>1.4</td>\n",
       "      <td>0.2</td>\n",
       "      <td>setosa</td>\n",
       "    </tr>\n",
       "    <tr>\n",
       "      <th>2</th>\n",
       "      <td>4.7</td>\n",
       "      <td>3.2</td>\n",
       "      <td>1.3</td>\n",
       "      <td>0.2</td>\n",
       "      <td>setosa</td>\n",
       "    </tr>\n",
       "    <tr>\n",
       "      <th>3</th>\n",
       "      <td>4.6</td>\n",
       "      <td>3.1</td>\n",
       "      <td>1.5</td>\n",
       "      <td>0.2</td>\n",
       "      <td>setosa</td>\n",
       "    </tr>\n",
       "    <tr>\n",
       "      <th>4</th>\n",
       "      <td>5.0</td>\n",
       "      <td>3.6</td>\n",
       "      <td>1.4</td>\n",
       "      <td>0.2</td>\n",
       "      <td>setosa</td>\n",
       "    </tr>\n",
       "  </tbody>\n",
       "</table>\n",
       "</div>"
      ],
      "text/plain": [
       "   sepal length (cm)  sepal width (cm)  petal length (cm)  petal width (cm)  \\\n",
       "0                5.1               3.5                1.4               0.2   \n",
       "1                4.9               3.0                1.4               0.2   \n",
       "2                4.7               3.2                1.3               0.2   \n",
       "3                4.6               3.1                1.5               0.2   \n",
       "4                5.0               3.6                1.4               0.2   \n",
       "\n",
       "   target  \n",
       "0  setosa  \n",
       "1  setosa  \n",
       "2  setosa  \n",
       "3  setosa  \n",
       "4  setosa  "
      ]
     },
     "execution_count": 34,
     "metadata": {},
     "output_type": "execute_result"
    }
   ],
   "source": [
    "DF_data[\"target\"] = pd.Series(y).map(D_target_dummy)\n",
    "DF_data.head()"
   ]
  },
  {
   "cell_type": "code",
   "execution_count": 38,
   "metadata": {},
   "outputs": [
    {
     "data": {
      "text/html": [
       "<div>\n",
       "<style scoped>\n",
       "    .dataframe tbody tr th:only-of-type {\n",
       "        vertical-align: middle;\n",
       "    }\n",
       "\n",
       "    .dataframe tbody tr th {\n",
       "        vertical-align: top;\n",
       "    }\n",
       "\n",
       "    .dataframe thead th {\n",
       "        text-align: right;\n",
       "    }\n",
       "</style>\n",
       "<table border=\"1\" class=\"dataframe\">\n",
       "  <thead>\n",
       "    <tr style=\"text-align: right;\">\n",
       "      <th></th>\n",
       "      <th>sepal length (cm)</th>\n",
       "      <th>sepal width (cm)</th>\n",
       "      <th>petal length (cm)</th>\n",
       "      <th>petal width (cm)</th>\n",
       "      <th>target_setosa</th>\n",
       "      <th>target_versicolor</th>\n",
       "      <th>target_virginica</th>\n",
       "    </tr>\n",
       "  </thead>\n",
       "  <tbody>\n",
       "    <tr>\n",
       "      <th>0</th>\n",
       "      <td>5.1</td>\n",
       "      <td>3.5</td>\n",
       "      <td>1.4</td>\n",
       "      <td>0.2</td>\n",
       "      <td>1</td>\n",
       "      <td>0</td>\n",
       "      <td>0</td>\n",
       "    </tr>\n",
       "    <tr>\n",
       "      <th>1</th>\n",
       "      <td>4.9</td>\n",
       "      <td>3.0</td>\n",
       "      <td>1.4</td>\n",
       "      <td>0.2</td>\n",
       "      <td>1</td>\n",
       "      <td>0</td>\n",
       "      <td>0</td>\n",
       "    </tr>\n",
       "    <tr>\n",
       "      <th>2</th>\n",
       "      <td>4.7</td>\n",
       "      <td>3.2</td>\n",
       "      <td>1.3</td>\n",
       "      <td>0.2</td>\n",
       "      <td>1</td>\n",
       "      <td>0</td>\n",
       "      <td>0</td>\n",
       "    </tr>\n",
       "    <tr>\n",
       "      <th>3</th>\n",
       "      <td>4.6</td>\n",
       "      <td>3.1</td>\n",
       "      <td>1.5</td>\n",
       "      <td>0.2</td>\n",
       "      <td>1</td>\n",
       "      <td>0</td>\n",
       "      <td>0</td>\n",
       "    </tr>\n",
       "    <tr>\n",
       "      <th>4</th>\n",
       "      <td>5.0</td>\n",
       "      <td>3.6</td>\n",
       "      <td>1.4</td>\n",
       "      <td>0.2</td>\n",
       "      <td>1</td>\n",
       "      <td>0</td>\n",
       "      <td>0</td>\n",
       "    </tr>\n",
       "  </tbody>\n",
       "</table>\n",
       "</div>"
      ],
      "text/plain": [
       "   sepal length (cm)  sepal width (cm)  petal length (cm)  petal width (cm)  \\\n",
       "0                5.1               3.5                1.4               0.2   \n",
       "1                4.9               3.0                1.4               0.2   \n",
       "2                4.7               3.2                1.3               0.2   \n",
       "3                4.6               3.1                1.5               0.2   \n",
       "4                5.0               3.6                1.4               0.2   \n",
       "\n",
       "   target_setosa  target_versicolor  target_virginica  \n",
       "0              1                  0                 0  \n",
       "1              1                  0                 0  \n",
       "2              1                  0                 0  \n",
       "3              1                  0                 0  \n",
       "4              1                  0                 0  "
      ]
     },
     "execution_count": 38,
     "metadata": {},
     "output_type": "execute_result"
    }
   ],
   "source": [
    "DF_data = pd.get_dummies(DF_data, columns=['target'])\n",
    "DF_data.head()"
   ]
  },
  {
   "cell_type": "code",
   "execution_count": 29,
   "metadata": {},
   "outputs": [],
   "source": [
    "df = pd.DataFrame({'P': ['p', 'q', 'p'], 'Q': ['q', 'p', 'r'],\n",
    "                   'R': [2, 3, 4]})"
   ]
  },
  {
   "cell_type": "code",
   "execution_count": 30,
   "metadata": {},
   "outputs": [
    {
     "data": {
      "text/html": [
       "<div>\n",
       "<style scoped>\n",
       "    .dataframe tbody tr th:only-of-type {\n",
       "        vertical-align: middle;\n",
       "    }\n",
       "\n",
       "    .dataframe tbody tr th {\n",
       "        vertical-align: top;\n",
       "    }\n",
       "\n",
       "    .dataframe thead th {\n",
       "        text-align: right;\n",
       "    }\n",
       "</style>\n",
       "<table border=\"1\" class=\"dataframe\">\n",
       "  <thead>\n",
       "    <tr style=\"text-align: right;\">\n",
       "      <th></th>\n",
       "      <th>P</th>\n",
       "      <th>Q</th>\n",
       "      <th>R</th>\n",
       "    </tr>\n",
       "  </thead>\n",
       "  <tbody>\n",
       "    <tr>\n",
       "      <th>0</th>\n",
       "      <td>p</td>\n",
       "      <td>q</td>\n",
       "      <td>2</td>\n",
       "    </tr>\n",
       "    <tr>\n",
       "      <th>1</th>\n",
       "      <td>q</td>\n",
       "      <td>p</td>\n",
       "      <td>3</td>\n",
       "    </tr>\n",
       "    <tr>\n",
       "      <th>2</th>\n",
       "      <td>p</td>\n",
       "      <td>r</td>\n",
       "      <td>4</td>\n",
       "    </tr>\n",
       "  </tbody>\n",
       "</table>\n",
       "</div>"
      ],
      "text/plain": [
       "   P  Q  R\n",
       "0  p  q  2\n",
       "1  q  p  3\n",
       "2  p  r  4"
      ]
     },
     "execution_count": 30,
     "metadata": {},
     "output_type": "execute_result"
    }
   ],
   "source": [
    "df.head()"
   ]
  },
  {
   "cell_type": "markdown",
   "metadata": {},
   "source": [
    "### Usando scikit-learn OneHotEncoder ###"
   ]
  },
  {
   "cell_type": "code",
   "execution_count": 87,
   "metadata": {},
   "outputs": [
    {
     "data": {
      "text/html": [
       "<div>\n",
       "<style scoped>\n",
       "    .dataframe tbody tr th:only-of-type {\n",
       "        vertical-align: middle;\n",
       "    }\n",
       "\n",
       "    .dataframe tbody tr th {\n",
       "        vertical-align: top;\n",
       "    }\n",
       "\n",
       "    .dataframe thead th {\n",
       "        text-align: right;\n",
       "    }\n",
       "</style>\n",
       "<table border=\"1\" class=\"dataframe\">\n",
       "  <thead>\n",
       "    <tr style=\"text-align: right;\">\n",
       "      <th></th>\n",
       "      <th>sepal length (cm)</th>\n",
       "      <th>sepal width (cm)</th>\n",
       "      <th>petal length (cm)</th>\n",
       "      <th>petal width (cm)</th>\n",
       "      <th>target</th>\n",
       "    </tr>\n",
       "  </thead>\n",
       "  <tbody>\n",
       "    <tr>\n",
       "      <th>0</th>\n",
       "      <td>5.1</td>\n",
       "      <td>3.5</td>\n",
       "      <td>1.4</td>\n",
       "      <td>0.2</td>\n",
       "      <td>setosa</td>\n",
       "    </tr>\n",
       "    <tr>\n",
       "      <th>1</th>\n",
       "      <td>4.9</td>\n",
       "      <td>3.0</td>\n",
       "      <td>1.4</td>\n",
       "      <td>0.2</td>\n",
       "      <td>setosa</td>\n",
       "    </tr>\n",
       "    <tr>\n",
       "      <th>2</th>\n",
       "      <td>4.7</td>\n",
       "      <td>3.2</td>\n",
       "      <td>1.3</td>\n",
       "      <td>0.2</td>\n",
       "      <td>setosa</td>\n",
       "    </tr>\n",
       "    <tr>\n",
       "      <th>3</th>\n",
       "      <td>4.6</td>\n",
       "      <td>3.1</td>\n",
       "      <td>1.5</td>\n",
       "      <td>0.2</td>\n",
       "      <td>setosa</td>\n",
       "    </tr>\n",
       "    <tr>\n",
       "      <th>4</th>\n",
       "      <td>5.0</td>\n",
       "      <td>3.6</td>\n",
       "      <td>1.4</td>\n",
       "      <td>0.2</td>\n",
       "      <td>setosa</td>\n",
       "    </tr>\n",
       "  </tbody>\n",
       "</table>\n",
       "</div>"
      ],
      "text/plain": [
       "   sepal length (cm)  sepal width (cm)  petal length (cm)  petal width (cm)  \\\n",
       "0                5.1               3.5                1.4               0.2   \n",
       "1                4.9               3.0                1.4               0.2   \n",
       "2                4.7               3.2                1.3               0.2   \n",
       "3                4.6               3.1                1.5               0.2   \n",
       "4                5.0               3.6                1.4               0.2   \n",
       "\n",
       "   target  \n",
       "0  setosa  \n",
       "1  setosa  \n",
       "2  setosa  \n",
       "3  setosa  \n",
       "4  setosa  "
      ]
     },
     "execution_count": 87,
     "metadata": {},
     "output_type": "execute_result"
    }
   ],
   "source": [
    "from sklearn.preprocessing import OneHotEncoder, LabelEncoder\n",
    "DF_data = pd.DataFrame(X,columns=iris.feature_names)\n",
    "DF_data[\"target\"] = pd.Series(y).map(D_target_dummy)\n",
    "DF_data.head()"
   ]
  },
  {
   "cell_type": "code",
   "execution_count": 88,
   "metadata": {},
   "outputs": [],
   "source": [
    "Enc_ohe, Enc_label = OneHotEncoder(), LabelEncoder()\n",
    "DF_data[\"Dummies\"] = Enc_label.fit_transform(DF_data[\"target\"])"
   ]
  },
  {
   "cell_type": "markdown",
   "metadata": {},
   "source": [
    "### Se quisesse que a variável target ficasse como categórica ###"
   ]
  },
  {
   "cell_type": "code",
   "execution_count": 89,
   "metadata": {},
   "outputs": [
    {
     "data": {
      "text/plain": [
       "2    50\n",
       "1    50\n",
       "0    50\n",
       "Name: Dummies, dtype: int64"
      ]
     },
     "execution_count": 89,
     "metadata": {},
     "output_type": "execute_result"
    }
   ],
   "source": [
    "DF_data.Dummies.value_counts()"
   ]
  },
  {
   "cell_type": "markdown",
   "metadata": {},
   "source": [
    "### Se quisesse que uma variável categórica ficasse como dummy ###"
   ]
  },
  {
   "cell_type": "code",
   "execution_count": 90,
   "metadata": {},
   "outputs": [
    {
     "data": {
      "text/html": [
       "<div>\n",
       "<style scoped>\n",
       "    .dataframe tbody tr th:only-of-type {\n",
       "        vertical-align: middle;\n",
       "    }\n",
       "\n",
       "    .dataframe tbody tr th {\n",
       "        vertical-align: top;\n",
       "    }\n",
       "\n",
       "    .dataframe thead th {\n",
       "        text-align: right;\n",
       "    }\n",
       "</style>\n",
       "<table border=\"1\" class=\"dataframe\">\n",
       "  <thead>\n",
       "    <tr style=\"text-align: right;\">\n",
       "      <th></th>\n",
       "      <th>setosa</th>\n",
       "      <th>versicolor</th>\n",
       "      <th>virginica</th>\n",
       "    </tr>\n",
       "  </thead>\n",
       "  <tbody>\n",
       "    <tr>\n",
       "      <th>0</th>\n",
       "      <td>1.0</td>\n",
       "      <td>0.0</td>\n",
       "      <td>0.0</td>\n",
       "    </tr>\n",
       "    <tr>\n",
       "      <th>1</th>\n",
       "      <td>1.0</td>\n",
       "      <td>0.0</td>\n",
       "      <td>0.0</td>\n",
       "    </tr>\n",
       "    <tr>\n",
       "      <th>2</th>\n",
       "      <td>1.0</td>\n",
       "      <td>0.0</td>\n",
       "      <td>0.0</td>\n",
       "    </tr>\n",
       "    <tr>\n",
       "      <th>3</th>\n",
       "      <td>1.0</td>\n",
       "      <td>0.0</td>\n",
       "      <td>0.0</td>\n",
       "    </tr>\n",
       "    <tr>\n",
       "      <th>4</th>\n",
       "      <td>1.0</td>\n",
       "      <td>0.0</td>\n",
       "      <td>0.0</td>\n",
       "    </tr>\n",
       "  </tbody>\n",
       "</table>\n",
       "</div>"
      ],
      "text/plain": [
       "   setosa  versicolor  virginica\n",
       "0     1.0         0.0        0.0\n",
       "1     1.0         0.0        0.0\n",
       "2     1.0         0.0        0.0\n",
       "3     1.0         0.0        0.0\n",
       "4     1.0         0.0        0.0"
      ]
     },
     "execution_count": 90,
     "metadata": {},
     "output_type": "execute_result"
    }
   ],
   "source": [
    "DF_dummies = pd.DataFrame(Enc_ohe.fit_transform(DF_data[[\"Dummies\"]]).todense(), columns = Enc_label.classes_)\n",
    "DF_dummies.head()"
   ]
  },
  {
   "cell_type": "code",
   "execution_count": 91,
   "metadata": {},
   "outputs": [],
   "source": [
    "DF_data = DF_data.join(DF_dummies)"
   ]
  },
  {
   "cell_type": "code",
   "execution_count": 92,
   "metadata": {},
   "outputs": [
    {
     "data": {
      "text/html": [
       "<div>\n",
       "<style scoped>\n",
       "    .dataframe tbody tr th:only-of-type {\n",
       "        vertical-align: middle;\n",
       "    }\n",
       "\n",
       "    .dataframe tbody tr th {\n",
       "        vertical-align: top;\n",
       "    }\n",
       "\n",
       "    .dataframe thead th {\n",
       "        text-align: right;\n",
       "    }\n",
       "</style>\n",
       "<table border=\"1\" class=\"dataframe\">\n",
       "  <thead>\n",
       "    <tr style=\"text-align: right;\">\n",
       "      <th></th>\n",
       "      <th>sepal length (cm)</th>\n",
       "      <th>sepal width (cm)</th>\n",
       "      <th>petal length (cm)</th>\n",
       "      <th>petal width (cm)</th>\n",
       "      <th>target</th>\n",
       "      <th>Dummies</th>\n",
       "      <th>setosa</th>\n",
       "      <th>versicolor</th>\n",
       "      <th>virginica</th>\n",
       "    </tr>\n",
       "  </thead>\n",
       "  <tbody>\n",
       "    <tr>\n",
       "      <th>0</th>\n",
       "      <td>5.1</td>\n",
       "      <td>3.5</td>\n",
       "      <td>1.4</td>\n",
       "      <td>0.2</td>\n",
       "      <td>setosa</td>\n",
       "      <td>0</td>\n",
       "      <td>1.0</td>\n",
       "      <td>0.0</td>\n",
       "      <td>0.0</td>\n",
       "    </tr>\n",
       "    <tr>\n",
       "      <th>1</th>\n",
       "      <td>4.9</td>\n",
       "      <td>3.0</td>\n",
       "      <td>1.4</td>\n",
       "      <td>0.2</td>\n",
       "      <td>setosa</td>\n",
       "      <td>0</td>\n",
       "      <td>1.0</td>\n",
       "      <td>0.0</td>\n",
       "      <td>0.0</td>\n",
       "    </tr>\n",
       "    <tr>\n",
       "      <th>2</th>\n",
       "      <td>4.7</td>\n",
       "      <td>3.2</td>\n",
       "      <td>1.3</td>\n",
       "      <td>0.2</td>\n",
       "      <td>setosa</td>\n",
       "      <td>0</td>\n",
       "      <td>1.0</td>\n",
       "      <td>0.0</td>\n",
       "      <td>0.0</td>\n",
       "    </tr>\n",
       "    <tr>\n",
       "      <th>3</th>\n",
       "      <td>4.6</td>\n",
       "      <td>3.1</td>\n",
       "      <td>1.5</td>\n",
       "      <td>0.2</td>\n",
       "      <td>setosa</td>\n",
       "      <td>0</td>\n",
       "      <td>1.0</td>\n",
       "      <td>0.0</td>\n",
       "      <td>0.0</td>\n",
       "    </tr>\n",
       "    <tr>\n",
       "      <th>4</th>\n",
       "      <td>5.0</td>\n",
       "      <td>3.6</td>\n",
       "      <td>1.4</td>\n",
       "      <td>0.2</td>\n",
       "      <td>setosa</td>\n",
       "      <td>0</td>\n",
       "      <td>1.0</td>\n",
       "      <td>0.0</td>\n",
       "      <td>0.0</td>\n",
       "    </tr>\n",
       "  </tbody>\n",
       "</table>\n",
       "</div>"
      ],
      "text/plain": [
       "   sepal length (cm)  sepal width (cm)  petal length (cm)  petal width (cm)  \\\n",
       "0                5.1               3.5                1.4               0.2   \n",
       "1                4.9               3.0                1.4               0.2   \n",
       "2                4.7               3.2                1.3               0.2   \n",
       "3                4.6               3.1                1.5               0.2   \n",
       "4                5.0               3.6                1.4               0.2   \n",
       "\n",
       "   target  Dummies  setosa  versicolor  virginica  \n",
       "0  setosa        0     1.0         0.0        0.0  \n",
       "1  setosa        0     1.0         0.0        0.0  \n",
       "2  setosa        0     1.0         0.0        0.0  \n",
       "3  setosa        0     1.0         0.0        0.0  \n",
       "4  setosa        0     1.0         0.0        0.0  "
      ]
     },
     "execution_count": 92,
     "metadata": {},
     "output_type": "execute_result"
    }
   ],
   "source": [
    "DF_data.head()"
   ]
  },
  {
   "cell_type": "code",
   "execution_count": 93,
   "metadata": {},
   "outputs": [],
   "source": [
    "DF_data = DF_data.drop(columns=['Dummies', 'target'])"
   ]
  },
  {
   "cell_type": "code",
   "execution_count": 94,
   "metadata": {},
   "outputs": [
    {
     "data": {
      "text/html": [
       "<div>\n",
       "<style scoped>\n",
       "    .dataframe tbody tr th:only-of-type {\n",
       "        vertical-align: middle;\n",
       "    }\n",
       "\n",
       "    .dataframe tbody tr th {\n",
       "        vertical-align: top;\n",
       "    }\n",
       "\n",
       "    .dataframe thead th {\n",
       "        text-align: right;\n",
       "    }\n",
       "</style>\n",
       "<table border=\"1\" class=\"dataframe\">\n",
       "  <thead>\n",
       "    <tr style=\"text-align: right;\">\n",
       "      <th></th>\n",
       "      <th>sepal length (cm)</th>\n",
       "      <th>sepal width (cm)</th>\n",
       "      <th>petal length (cm)</th>\n",
       "      <th>petal width (cm)</th>\n",
       "      <th>setosa</th>\n",
       "      <th>versicolor</th>\n",
       "      <th>virginica</th>\n",
       "    </tr>\n",
       "  </thead>\n",
       "  <tbody>\n",
       "    <tr>\n",
       "      <th>0</th>\n",
       "      <td>5.1</td>\n",
       "      <td>3.5</td>\n",
       "      <td>1.4</td>\n",
       "      <td>0.2</td>\n",
       "      <td>1.0</td>\n",
       "      <td>0.0</td>\n",
       "      <td>0.0</td>\n",
       "    </tr>\n",
       "    <tr>\n",
       "      <th>1</th>\n",
       "      <td>4.9</td>\n",
       "      <td>3.0</td>\n",
       "      <td>1.4</td>\n",
       "      <td>0.2</td>\n",
       "      <td>1.0</td>\n",
       "      <td>0.0</td>\n",
       "      <td>0.0</td>\n",
       "    </tr>\n",
       "    <tr>\n",
       "      <th>2</th>\n",
       "      <td>4.7</td>\n",
       "      <td>3.2</td>\n",
       "      <td>1.3</td>\n",
       "      <td>0.2</td>\n",
       "      <td>1.0</td>\n",
       "      <td>0.0</td>\n",
       "      <td>0.0</td>\n",
       "    </tr>\n",
       "    <tr>\n",
       "      <th>3</th>\n",
       "      <td>4.6</td>\n",
       "      <td>3.1</td>\n",
       "      <td>1.5</td>\n",
       "      <td>0.2</td>\n",
       "      <td>1.0</td>\n",
       "      <td>0.0</td>\n",
       "      <td>0.0</td>\n",
       "    </tr>\n",
       "    <tr>\n",
       "      <th>4</th>\n",
       "      <td>5.0</td>\n",
       "      <td>3.6</td>\n",
       "      <td>1.4</td>\n",
       "      <td>0.2</td>\n",
       "      <td>1.0</td>\n",
       "      <td>0.0</td>\n",
       "      <td>0.0</td>\n",
       "    </tr>\n",
       "  </tbody>\n",
       "</table>\n",
       "</div>"
      ],
      "text/plain": [
       "   sepal length (cm)  sepal width (cm)  petal length (cm)  petal width (cm)  \\\n",
       "0                5.1               3.5                1.4               0.2   \n",
       "1                4.9               3.0                1.4               0.2   \n",
       "2                4.7               3.2                1.3               0.2   \n",
       "3                4.6               3.1                1.5               0.2   \n",
       "4                5.0               3.6                1.4               0.2   \n",
       "\n",
       "   setosa  versicolor  virginica  \n",
       "0     1.0         0.0        0.0  \n",
       "1     1.0         0.0        0.0  \n",
       "2     1.0         0.0        0.0  \n",
       "3     1.0         0.0        0.0  \n",
       "4     1.0         0.0        0.0  "
      ]
     },
     "execution_count": 94,
     "metadata": {},
     "output_type": "execute_result"
    }
   ],
   "source": [
    "DF_data.head()"
   ]
  },
  {
   "cell_type": "markdown",
   "metadata": {},
   "source": [
    "**Para aprendizado de máquina, é quase certo que você queira usar sklearn.OneHotEncoder. Para outras tarefas, como análises simples, você pode usar pd.get_dummies, o que é um pouco mais conveniente.**\n",
    "\n",
    "Observe que sklearn.OneHotEncoder foi atualizado na versão mais recente para que **aceite strings para variáveis categóricas**, bem como inteiros.\n",
    "\n",
    "O ponto crucial é que o sklearn encoder cria uma função que **persiste** e pode **então ser aplicada a novos conjuntos de dados que usam as mesmas variáveis categóricas, com resultados consistentes.**\n",
    "\n",
    "<code>\n",
    "from sklearn.preprocessing import OneHotEncoder\n",
    "\n",
    "#Create the encoder.\n",
    "encoder = OneHotEncoder(handle_unknown=\"ignore\")\n",
    "encoder.fit(X_train)    # Assume for simplicity all features are categorical.\n",
    "\n",
    "#Apply the encoder.\n",
    "X_train = encoder.transform(X_train)\n",
    "X_test = encoder.transform(X_test)\n",
    "    \n",
    "</code>\n",
    "\n",
    "Observe como aplicamos o mesmo codificador que criamos X_train ao novo conjunto de dados X_test.\n",
    "\n",
    "Considere o que acontece se X_test contiver níveis diferentes de X_train uma de suas variáveis. Por exemplo, digamos que X_train[\"color\"] contém apenas \"red\" e \"green\", mas além desses, X_test[\"color\"] às vezes contém \"blue\".\n",
    "\n",
    "Se usarmos pd.get_dummies, X_test acabará com uma \"color_blue\"coluna adicional que X_train não tem, e a inconsistência provavelmente quebrará nosso código mais tarde, especialmente se estivermos alimentando X_test um sklearnmodel no qual treinamos X_train.\n",
    "\n",
    "E se quisermos processar os dados como este na produção, onde recebemos um único exemplo de cada vez, pd.get_dummies não será útil.\n",
    "\n",
    "OneHotEncoder por outro lado, depois de criar o codificador, podemos reutilizá-lo para produzir a mesma saída todas as vezes, com colunas apenas para \"red\" e \"green\". E podemos controlar explicitamente o que acontece quando ele encontra o novo nível \"blue\": se pensarmos que isso é impossível, podemos dizer para ele lançar um erro com handle_unknown=\"error\"; caso contrário, podemos dizer para continuar e simplesmente definir as colunas vermelha e verde como 0, com handle_unknown=\"ignore\"."
   ]
  },
  {
   "cell_type": "markdown",
   "metadata": {},
   "source": [
    "# Agrupando as variáveis #\n",
    "\n",
    "### O binning (ou bucketing) de dados agrupa os dados em bins (ou buckets), no sentido de que substitui os valores contidos em um pequeno intervalo por um único valor representativo para esse intervalo. Às vezes, binning melhora a precisão em modelos preditivos. ###"
   ]
  },
  {
   "cell_type": "code",
   "execution_count": 148,
   "metadata": {},
   "outputs": [],
   "source": [
    "df = pd.read_csv('C:/Users/USUARIO/Google Drive/DataScience/DataSets/Banco.csv',sep=';')"
   ]
  },
  {
   "cell_type": "code",
   "execution_count": 149,
   "metadata": {},
   "outputs": [
    {
     "data": {
      "text/plain": [
       "Unnamed: 0          int64\n",
       "id                  int64\n",
       "datanasc           object\n",
       "sexo               object\n",
       "estudo              int64\n",
       "catemp             object\n",
       "salario           float64\n",
       "salarin           float64\n",
       "temp_ser            int64\n",
       "cartao_credito      int64\n",
       "Emprestimos        object\n",
       "data_atual         object\n",
       "idade               int64\n",
       "dtype: object"
      ]
     },
     "execution_count": 149,
     "metadata": {},
     "output_type": "execute_result"
    }
   ],
   "source": [
    "df.dtypes"
   ]
  },
  {
   "cell_type": "code",
   "execution_count": 150,
   "metadata": {},
   "outputs": [
    {
     "data": {
      "text/html": [
       "<div>\n",
       "<style scoped>\n",
       "    .dataframe tbody tr th:only-of-type {\n",
       "        vertical-align: middle;\n",
       "    }\n",
       "\n",
       "    .dataframe tbody tr th {\n",
       "        vertical-align: top;\n",
       "    }\n",
       "\n",
       "    .dataframe thead th {\n",
       "        text-align: right;\n",
       "    }\n",
       "</style>\n",
       "<table border=\"1\" class=\"dataframe\">\n",
       "  <thead>\n",
       "    <tr style=\"text-align: right;\">\n",
       "      <th></th>\n",
       "      <th>Unnamed: 0</th>\n",
       "      <th>id</th>\n",
       "      <th>datanasc</th>\n",
       "      <th>sexo</th>\n",
       "      <th>estudo</th>\n",
       "      <th>catemp</th>\n",
       "      <th>salario</th>\n",
       "      <th>salarin</th>\n",
       "      <th>temp_ser</th>\n",
       "      <th>cartao_credito</th>\n",
       "      <th>Emprestimos</th>\n",
       "      <th>data_atual</th>\n",
       "      <th>idade</th>\n",
       "    </tr>\n",
       "  </thead>\n",
       "  <tbody>\n",
       "    <tr>\n",
       "      <th>0</th>\n",
       "      <td>1</td>\n",
       "      <td>474</td>\n",
       "      <td>05/11/1968</td>\n",
       "      <td>Feminino</td>\n",
       "      <td>12</td>\n",
       "      <td>C</td>\n",
       "      <td>29400.0</td>\n",
       "      <td>NaN</td>\n",
       "      <td>63</td>\n",
       "      <td>5880</td>\n",
       "      <td>2940</td>\n",
       "      <td>24/11/2020</td>\n",
       "      <td>52</td>\n",
       "    </tr>\n",
       "    <tr>\n",
       "      <th>1</th>\n",
       "      <td>2</td>\n",
       "      <td>473</td>\n",
       "      <td>25/11/1937</td>\n",
       "      <td>Feminino</td>\n",
       "      <td>12</td>\n",
       "      <td>C</td>\n",
       "      <td>21450.0</td>\n",
       "      <td>12750.0</td>\n",
       "      <td>63</td>\n",
       "      <td>4290</td>\n",
       "      <td>2145</td>\n",
       "      <td>24/11/2020</td>\n",
       "      <td>83</td>\n",
       "    </tr>\n",
       "    <tr>\n",
       "      <th>2</th>\n",
       "      <td>3</td>\n",
       "      <td>472</td>\n",
       "      <td>21/02/1966</td>\n",
       "      <td>Masculino</td>\n",
       "      <td>15</td>\n",
       "      <td>C</td>\n",
       "      <td>39150.0</td>\n",
       "      <td>15750.0</td>\n",
       "      <td>63</td>\n",
       "      <td>7830</td>\n",
       "      <td>3915</td>\n",
       "      <td>24/11/2020</td>\n",
       "      <td>55</td>\n",
       "    </tr>\n",
       "    <tr>\n",
       "      <th>3</th>\n",
       "      <td>4</td>\n",
       "      <td>471</td>\n",
       "      <td>03/08/1966</td>\n",
       "      <td>Masculino</td>\n",
       "      <td>15</td>\n",
       "      <td>C</td>\n",
       "      <td>26400.0</td>\n",
       "      <td>15750.0</td>\n",
       "      <td>64</td>\n",
       "      <td>5280</td>\n",
       "      <td>2640</td>\n",
       "      <td>24/11/2020</td>\n",
       "      <td>54</td>\n",
       "    </tr>\n",
       "    <tr>\n",
       "      <th>4</th>\n",
       "      <td>5</td>\n",
       "      <td>470</td>\n",
       "      <td>22/01/1964</td>\n",
       "      <td>Masculino</td>\n",
       "      <td>12</td>\n",
       "      <td>C</td>\n",
       "      <td>26250.0</td>\n",
       "      <td>15750.0</td>\n",
       "      <td>64</td>\n",
       "      <td>5250</td>\n",
       "      <td>2625</td>\n",
       "      <td>24/11/2020</td>\n",
       "      <td>57</td>\n",
       "    </tr>\n",
       "  </tbody>\n",
       "</table>\n",
       "</div>"
      ],
      "text/plain": [
       "   Unnamed: 0   id    datanasc       sexo  estudo catemp  salario  salarin  \\\n",
       "0           1  474  05/11/1968   Feminino      12      C  29400.0      NaN   \n",
       "1           2  473  25/11/1937   Feminino      12      C  21450.0  12750.0   \n",
       "2           3  472  21/02/1966  Masculino      15      C  39150.0  15750.0   \n",
       "3           4  471  03/08/1966  Masculino      15      C  26400.0  15750.0   \n",
       "4           5  470  22/01/1964  Masculino      12      C  26250.0  15750.0   \n",
       "\n",
       "   temp_ser  cartao_credito Emprestimos  data_atual  idade  \n",
       "0        63            5880        2940  24/11/2020     52  \n",
       "1        63            4290        2145  24/11/2020     83  \n",
       "2        63            7830        3915  24/11/2020     55  \n",
       "3        64            5280        2640  24/11/2020     54  \n",
       "4        64            5250        2625  24/11/2020     57  "
      ]
     },
     "execution_count": 150,
     "metadata": {},
     "output_type": "execute_result"
    }
   ],
   "source": [
    "df.head()"
   ]
  },
  {
   "cell_type": "code",
   "execution_count": 151,
   "metadata": {},
   "outputs": [
    {
     "data": {
      "text/plain": [
       "Unnamed: 0        0\n",
       "id                0\n",
       "datanasc          0\n",
       "sexo              0\n",
       "estudo            0\n",
       "catemp            0\n",
       "salario           0\n",
       "salarin           1\n",
       "temp_ser          0\n",
       "cartao_credito    0\n",
       "Emprestimos       0\n",
       "data_atual        0\n",
       "idade             0\n",
       "dtype: int64"
      ]
     },
     "execution_count": 151,
     "metadata": {},
     "output_type": "execute_result"
    }
   ],
   "source": [
    "df.apply(lambda x: sum(x.isnull()),axis=0)"
   ]
  },
  {
   "cell_type": "code",
   "execution_count": 152,
   "metadata": {},
   "outputs": [
    {
     "data": {
      "text/html": [
       "<div>\n",
       "<style scoped>\n",
       "    .dataframe tbody tr th:only-of-type {\n",
       "        vertical-align: middle;\n",
       "    }\n",
       "\n",
       "    .dataframe tbody tr th {\n",
       "        vertical-align: top;\n",
       "    }\n",
       "\n",
       "    .dataframe thead th {\n",
       "        text-align: right;\n",
       "    }\n",
       "</style>\n",
       "<table border=\"1\" class=\"dataframe\">\n",
       "  <thead>\n",
       "    <tr style=\"text-align: right;\">\n",
       "      <th></th>\n",
       "      <th>Unnamed: 0</th>\n",
       "      <th>id</th>\n",
       "      <th>estudo</th>\n",
       "      <th>salario</th>\n",
       "      <th>salarin</th>\n",
       "      <th>temp_ser</th>\n",
       "      <th>cartao_credito</th>\n",
       "      <th>idade</th>\n",
       "    </tr>\n",
       "  </thead>\n",
       "  <tbody>\n",
       "    <tr>\n",
       "      <th>count</th>\n",
       "      <td>512.000000</td>\n",
       "      <td>512.000000</td>\n",
       "      <td>512.000000</td>\n",
       "      <td>512.000000</td>\n",
       "      <td>511.000000</td>\n",
       "      <td>512.000000</td>\n",
       "      <td>512.000000</td>\n",
       "      <td>512.000000</td>\n",
       "    </tr>\n",
       "    <tr>\n",
       "      <th>mean</th>\n",
       "      <td>256.500000</td>\n",
       "      <td>235.636719</td>\n",
       "      <td>13.552734</td>\n",
       "      <td>34997.089844</td>\n",
       "      <td>17179.559687</td>\n",
       "      <td>81.236328</td>\n",
       "      <td>6999.417969</td>\n",
       "      <td>64.052734</td>\n",
       "    </tr>\n",
       "    <tr>\n",
       "      <th>std</th>\n",
       "      <td>147.945936</td>\n",
       "      <td>144.722127</td>\n",
       "      <td>2.890898</td>\n",
       "      <td>18156.070511</td>\n",
       "      <td>8378.082825</td>\n",
       "      <td>10.627145</td>\n",
       "      <td>3631.214102</td>\n",
       "      <td>11.690026</td>\n",
       "    </tr>\n",
       "    <tr>\n",
       "      <th>min</th>\n",
       "      <td>1.000000</td>\n",
       "      <td>1.000000</td>\n",
       "      <td>8.000000</td>\n",
       "      <td>15750.000000</td>\n",
       "      <td>9000.000000</td>\n",
       "      <td>63.000000</td>\n",
       "      <td>3150.000000</td>\n",
       "      <td>50.000000</td>\n",
       "    </tr>\n",
       "    <tr>\n",
       "      <th>25%</th>\n",
       "      <td>128.750000</td>\n",
       "      <td>106.750000</td>\n",
       "      <td>12.000000</td>\n",
       "      <td>24000.000000</td>\n",
       "      <td>12750.000000</td>\n",
       "      <td>72.000000</td>\n",
       "      <td>4800.000000</td>\n",
       "      <td>55.000000</td>\n",
       "    </tr>\n",
       "    <tr>\n",
       "      <th>50%</th>\n",
       "      <td>256.500000</td>\n",
       "      <td>234.500000</td>\n",
       "      <td>12.000000</td>\n",
       "      <td>29100.000000</td>\n",
       "      <td>15000.000000</td>\n",
       "      <td>81.000000</td>\n",
       "      <td>5820.000000</td>\n",
       "      <td>59.000000</td>\n",
       "    </tr>\n",
       "    <tr>\n",
       "      <th>75%</th>\n",
       "      <td>384.250000</td>\n",
       "      <td>362.250000</td>\n",
       "      <td>15.000000</td>\n",
       "      <td>37950.000000</td>\n",
       "      <td>17745.000000</td>\n",
       "      <td>91.000000</td>\n",
       "      <td>7590.000000</td>\n",
       "      <td>72.000000</td>\n",
       "    </tr>\n",
       "    <tr>\n",
       "      <th>max</th>\n",
       "      <td>512.000000</td>\n",
       "      <td>474.000000</td>\n",
       "      <td>21.000000</td>\n",
       "      <td>135000.000000</td>\n",
       "      <td>79980.000000</td>\n",
       "      <td>98.000000</td>\n",
       "      <td>27000.000000</td>\n",
       "      <td>92.000000</td>\n",
       "    </tr>\n",
       "  </tbody>\n",
       "</table>\n",
       "</div>"
      ],
      "text/plain": [
       "       Unnamed: 0          id      estudo        salario       salarin  \\\n",
       "count  512.000000  512.000000  512.000000     512.000000    511.000000   \n",
       "mean   256.500000  235.636719   13.552734   34997.089844  17179.559687   \n",
       "std    147.945936  144.722127    2.890898   18156.070511   8378.082825   \n",
       "min      1.000000    1.000000    8.000000   15750.000000   9000.000000   \n",
       "25%    128.750000  106.750000   12.000000   24000.000000  12750.000000   \n",
       "50%    256.500000  234.500000   12.000000   29100.000000  15000.000000   \n",
       "75%    384.250000  362.250000   15.000000   37950.000000  17745.000000   \n",
       "max    512.000000  474.000000   21.000000  135000.000000  79980.000000   \n",
       "\n",
       "         temp_ser  cartao_credito       idade  \n",
       "count  512.000000      512.000000  512.000000  \n",
       "mean    81.236328     6999.417969   64.052734  \n",
       "std     10.627145     3631.214102   11.690026  \n",
       "min     63.000000     3150.000000   50.000000  \n",
       "25%     72.000000     4800.000000   55.000000  \n",
       "50%     81.000000     5820.000000   59.000000  \n",
       "75%     91.000000     7590.000000   72.000000  \n",
       "max     98.000000    27000.000000   92.000000  "
      ]
     },
     "execution_count": 152,
     "metadata": {},
     "output_type": "execute_result"
    }
   ],
   "source": [
    "df.describe()"
   ]
  },
  {
   "cell_type": "code",
   "execution_count": 153,
   "metadata": {},
   "outputs": [],
   "source": [
    "df['salarin'].fillna(df['salarin'].min(), inplace=True) # para ajustar o que possui valor nulo, joguei o mínimo\n",
    "\n",
    "# Poderia usar outras formas:\n",
    "# df['LoanAmount'].fillna(df['LoanAmount'].mean(), inplace=True) ### Para valores\n",
    "# df['Self_Employed'].fillna('No',inplace=True) ### Para padronizar dados\n",
    "# df['Gender'].fillna(df['Gender'].mode()[0], inplace=True) ### Para padronizar dados categóricos"
   ]
  },
  {
   "cell_type": "code",
   "execution_count": 154,
   "metadata": {},
   "outputs": [
    {
     "data": {
      "text/plain": [
       "Unnamed: 0        0\n",
       "id                0\n",
       "datanasc          0\n",
       "sexo              0\n",
       "estudo            0\n",
       "catemp            0\n",
       "salario           0\n",
       "salarin           0\n",
       "temp_ser          0\n",
       "cartao_credito    0\n",
       "Emprestimos       0\n",
       "data_atual        0\n",
       "idade             0\n",
       "dtype: int64"
      ]
     },
     "execution_count": 154,
     "metadata": {},
     "output_type": "execute_result"
    }
   ],
   "source": [
    "df.apply(lambda x: sum(x.isnull()),axis=0)"
   ]
  },
  {
   "cell_type": "code",
   "execution_count": 155,
   "metadata": {},
   "outputs": [
    {
     "data": {
      "text/html": [
       "<div>\n",
       "<style scoped>\n",
       "    .dataframe tbody tr th:only-of-type {\n",
       "        vertical-align: middle;\n",
       "    }\n",
       "\n",
       "    .dataframe tbody tr th {\n",
       "        vertical-align: top;\n",
       "    }\n",
       "\n",
       "    .dataframe thead th {\n",
       "        text-align: right;\n",
       "    }\n",
       "</style>\n",
       "<table border=\"1\" class=\"dataframe\">\n",
       "  <thead>\n",
       "    <tr style=\"text-align: right;\">\n",
       "      <th></th>\n",
       "      <th>Unnamed: 0</th>\n",
       "      <th>id</th>\n",
       "      <th>estudo</th>\n",
       "      <th>salario</th>\n",
       "      <th>salarin</th>\n",
       "      <th>temp_ser</th>\n",
       "      <th>cartao_credito</th>\n",
       "      <th>idade</th>\n",
       "    </tr>\n",
       "  </thead>\n",
       "  <tbody>\n",
       "    <tr>\n",
       "      <th>count</th>\n",
       "      <td>512.000000</td>\n",
       "      <td>512.000000</td>\n",
       "      <td>512.000000</td>\n",
       "      <td>512.000000</td>\n",
       "      <td>512.000000</td>\n",
       "      <td>512.000000</td>\n",
       "      <td>512.000000</td>\n",
       "      <td>512.000000</td>\n",
       "    </tr>\n",
       "    <tr>\n",
       "      <th>mean</th>\n",
       "      <td>256.500000</td>\n",
       "      <td>235.636719</td>\n",
       "      <td>13.552734</td>\n",
       "      <td>34997.089844</td>\n",
       "      <td>17163.583984</td>\n",
       "      <td>81.236328</td>\n",
       "      <td>6999.417969</td>\n",
       "      <td>64.052734</td>\n",
       "    </tr>\n",
       "    <tr>\n",
       "      <th>std</th>\n",
       "      <td>147.945936</td>\n",
       "      <td>144.722127</td>\n",
       "      <td>2.890898</td>\n",
       "      <td>18156.070511</td>\n",
       "      <td>8377.683657</td>\n",
       "      <td>10.627145</td>\n",
       "      <td>3631.214102</td>\n",
       "      <td>11.690026</td>\n",
       "    </tr>\n",
       "    <tr>\n",
       "      <th>min</th>\n",
       "      <td>1.000000</td>\n",
       "      <td>1.000000</td>\n",
       "      <td>8.000000</td>\n",
       "      <td>15750.000000</td>\n",
       "      <td>9000.000000</td>\n",
       "      <td>63.000000</td>\n",
       "      <td>3150.000000</td>\n",
       "      <td>50.000000</td>\n",
       "    </tr>\n",
       "    <tr>\n",
       "      <th>25%</th>\n",
       "      <td>128.750000</td>\n",
       "      <td>106.750000</td>\n",
       "      <td>12.000000</td>\n",
       "      <td>24000.000000</td>\n",
       "      <td>12712.500000</td>\n",
       "      <td>72.000000</td>\n",
       "      <td>4800.000000</td>\n",
       "      <td>55.000000</td>\n",
       "    </tr>\n",
       "    <tr>\n",
       "      <th>50%</th>\n",
       "      <td>256.500000</td>\n",
       "      <td>234.500000</td>\n",
       "      <td>12.000000</td>\n",
       "      <td>29100.000000</td>\n",
       "      <td>15000.000000</td>\n",
       "      <td>81.000000</td>\n",
       "      <td>5820.000000</td>\n",
       "      <td>59.000000</td>\n",
       "    </tr>\n",
       "    <tr>\n",
       "      <th>75%</th>\n",
       "      <td>384.250000</td>\n",
       "      <td>362.250000</td>\n",
       "      <td>15.000000</td>\n",
       "      <td>37950.000000</td>\n",
       "      <td>17617.500000</td>\n",
       "      <td>91.000000</td>\n",
       "      <td>7590.000000</td>\n",
       "      <td>72.000000</td>\n",
       "    </tr>\n",
       "    <tr>\n",
       "      <th>max</th>\n",
       "      <td>512.000000</td>\n",
       "      <td>474.000000</td>\n",
       "      <td>21.000000</td>\n",
       "      <td>135000.000000</td>\n",
       "      <td>79980.000000</td>\n",
       "      <td>98.000000</td>\n",
       "      <td>27000.000000</td>\n",
       "      <td>92.000000</td>\n",
       "    </tr>\n",
       "  </tbody>\n",
       "</table>\n",
       "</div>"
      ],
      "text/plain": [
       "       Unnamed: 0          id      estudo        salario       salarin  \\\n",
       "count  512.000000  512.000000  512.000000     512.000000    512.000000   \n",
       "mean   256.500000  235.636719   13.552734   34997.089844  17163.583984   \n",
       "std    147.945936  144.722127    2.890898   18156.070511   8377.683657   \n",
       "min      1.000000    1.000000    8.000000   15750.000000   9000.000000   \n",
       "25%    128.750000  106.750000   12.000000   24000.000000  12712.500000   \n",
       "50%    256.500000  234.500000   12.000000   29100.000000  15000.000000   \n",
       "75%    384.250000  362.250000   15.000000   37950.000000  17617.500000   \n",
       "max    512.000000  474.000000   21.000000  135000.000000  79980.000000   \n",
       "\n",
       "         temp_ser  cartao_credito       idade  \n",
       "count  512.000000      512.000000  512.000000  \n",
       "mean    81.236328     6999.417969   64.052734  \n",
       "std     10.627145     3631.214102   11.690026  \n",
       "min     63.000000     3150.000000   50.000000  \n",
       "25%     72.000000     4800.000000   55.000000  \n",
       "50%     81.000000     5820.000000   59.000000  \n",
       "75%     91.000000     7590.000000   72.000000  \n",
       "max     98.000000    27000.000000   92.000000  "
      ]
     },
     "execution_count": 155,
     "metadata": {},
     "output_type": "execute_result"
    }
   ],
   "source": [
    "df.describe()"
   ]
  },
  {
   "cell_type": "markdown",
   "metadata": {},
   "source": [
    "### Binning por distância ###\n",
    "\n",
    "Nesse caso, definimos as bordas de cada compartimento. Em Python, o pandasbinning por distância é realizado por meio da cut()função."
   ]
  },
  {
   "cell_type": "code",
   "execution_count": 156,
   "metadata": {},
   "outputs": [
    {
     "name": "stdout",
     "output_type": "stream",
     "text": [
      "15750.0\n",
      "135000.0\n"
     ]
    }
   ],
   "source": [
    "min_value = df ['salario'].min() \n",
    "max_value = df ['salario'].max() \n",
    "print (min_value) \n",
    "print (max_value)"
   ]
  },
  {
   "cell_type": "markdown",
   "metadata": {},
   "source": [
    "Agora criamos 3 grupos usando a função **linspace** do Numpy"
   ]
  },
  {
   "cell_type": "code",
   "execution_count": 158,
   "metadata": {},
   "outputs": [
    {
     "data": {
      "text/plain": [
       "array([ 15750.,  55500.,  95250., 135000.])"
      ]
     },
     "execution_count": 158,
     "metadata": {},
     "output_type": "execute_result"
    }
   ],
   "source": [
    "bins = np.linspace (min_value, max_value, 4) \n",
    "bins"
   ]
  },
  {
   "cell_type": "markdown",
   "metadata": {},
   "source": [
    "Definimos os rótulos e usuamos a função cut para quebrar os valores nos grupos"
   ]
  },
  {
   "cell_type": "code",
   "execution_count": 160,
   "metadata": {},
   "outputs": [],
   "source": [
    "labels = ['pequeno', 'medio', 'grande']\n",
    "df['bins'] = pd.cut(df['salario'], bins=bins, labels=labels, include_lowest=True)"
   ]
  },
  {
   "cell_type": "markdown",
   "metadata": {},
   "source": [
    "Agora podemos ver como estão espalhados"
   ]
  },
  {
   "cell_type": "code",
   "execution_count": 162,
   "metadata": {},
   "outputs": [
    {
     "data": {
      "text/plain": [
       "(array([448.,  55.,   9.]),\n",
       " array([0.        , 0.66666667, 1.33333333, 2.        ]),\n",
       " <BarContainer object of 3 artists>)"
      ]
     },
     "execution_count": 162,
     "metadata": {},
     "output_type": "execute_result"
    },
    {
     "data": {
      "image/png": "[encoded data removed]",
      "text/plain": [
       "<Figure size 432x288 with 1 Axes>"
      ]
     },
     "metadata": {
      "needs_background": "light"
     },
     "output_type": "display_data"
    }
   ],
   "source": [
    "plt.hist(df['bins'], bins=3)"
   ]
  },
  {
   "cell_type": "markdown",
   "metadata": {},
   "source": [
    "Você pode definir os grupos manualmente"
   ]
  },
  {
   "cell_type": "code",
   "execution_count": 165,
   "metadata": {},
   "outputs": [
    {
     "data": {
      "image/png": "[encoded data removed]",
      "text/plain": [
       "<Figure size 432x288 with 1 Axes>"
      ]
     },
     "metadata": {
      "needs_background": "light"
     },
     "output_type": "display_data"
    }
   ],
   "source": [
    "bins = [ 0, 30000, 50000, 10000000 ]\n",
    "df['bin_cut_manual'] = pd.cut(df['salario'] , bins=bins, labels=labels, include_lowest=True)\n",
    "plt.hist(df['bin_cut_manual'], bins=3)\n",
    "plt.show()"
   ]
  },
  {
   "cell_type": "markdown",
   "metadata": {},
   "source": [
    "### Binning por frequência ###\n",
    "A categorização por frequência calcula o tamanho de cada caixa de forma que cada caixa contenha o (quase) mesmo número de observações, mas o intervalo da categoria irá variar. Podemos usar a função qcut() do Pandas. Podemos definir a parâmetro de precisão para definir o número de casas decimais."
   ]
  },
  {
   "cell_type": "code",
   "execution_count": 166,
   "metadata": {},
   "outputs": [
    {
     "data": {
      "image/png": "[encoded data removed]",
      "text/plain": [
       "<Figure size 432x288 with 1 Axes>"
      ]
     },
     "metadata": {
      "needs_background": "light"
     },
     "output_type": "display_data"
    }
   ],
   "source": [
    "df['bin_qcut'] = pd.qcut(df['salario'], q=3, precision=1, labels=labels)\n",
    "plt.hist(df['bin_qcut'], bins=3)\n",
    "plt.show()"
   ]
  },
  {
   "cell_type": "markdown",
   "metadata": {},
   "source": [
    "### Binning por Amostragem ###\n",
    "A amostragem é outra técnica de binning de dados. Permite reduzir o número de amostras, agrupando valores semelhantes ou valores contíguos. Existem três abordagens para realizar a amostragem:\n",
    "por bin significa: cada valor em um bin é substituído pelo valor médio do bin.\n",
    "por bin median: cada valor bin é substituído por seu valor bin median.\n",
    "por limite de bin: cada valor de bin é substituído pelo valor de limite mais próximo, ou seja, valor máximo ou mínimo do bin.\n",
    "\n",
    "Para realizar a amostragem, a binned_statistic() função da scipy.statsembalagem pode ser usada. Esta função recebe duas matrizes como entrada, x_data e y_data, assim como as estatísticas a serem usadas (por exemplo, mediana ou média) e o número de bins a serem criados. A função retorna os valores das caixas, bem como as bordas de cada caixa."
   ]
  },
  {
   "cell_type": "code",
   "execution_count": 167,
   "metadata": {},
   "outputs": [],
   "source": [
    "from scipy.stats import binned_statistic \n",
    "x_data = np.arange (0, len (df)) \n",
    "y_data = df ['salario'] \n",
    "x_bins, bin_edges, misc = binned_statistic (y_data, x_data, statistic = \"median\", bins = 2)"
   ]
  },
  {
   "cell_type": "markdown",
   "metadata": {},
   "source": [
    "Agora devemos aproximar cada valor da coluna **df['salario']** ao valor mediano do bin correspondente. Assim, convertemos as bordas do compartimento em um IntervalIndex, que recebe como índice as bordas esquerda e direita de cada intervalo. Em nosso caso, as bordas esquerdas começam no início das bordas da caixa e não contêm o último valor das bordas da caixa. Em vez disso, as bordas direitas começam a partir do segundo valor das bordas do compartimento e duram até o último valor."
   ]
  },
  {
   "cell_type": "code",
   "execution_count": 168,
   "metadata": {},
   "outputs": [],
   "source": [
    "bin_intervals = pd.IntervalIndex.from_arrays (bin_edges [: - 1], bin_edges [1:])"
   ]
  },
  {
   "cell_type": "markdown",
   "metadata": {},
   "source": [
    "Podemos quantizar a coluna Salário definindo uma função set_to_median() que percorre os intervalos e, quando encontra o intervalo correto, retorna o valor médio."
   ]
  },
  {
   "cell_type": "code",
   "execution_count": 174,
   "metadata": {},
   "outputs": [],
   "source": [
    "def set_to_median (x, bin_intervals): \n",
    "    for interval in bin_intervals: \n",
    "        if x in interval: \n",
    "            return interval.mid"
   ]
  },
  {
   "cell_type": "markdown",
   "metadata": {},
   "source": [
    "Usamos a função apply() para aplicar o set_to_median() à coluna Salário."
   ]
  },
  {
   "cell_type": "code",
   "execution_count": 175,
   "metadata": {},
   "outputs": [],
   "source": [
    "df['sampled_salario'] = df['salario'].apply(lambda x: set_to_median (x, bin_intervals))"
   ]
  },
  {
   "cell_type": "code",
   "execution_count": 176,
   "metadata": {},
   "outputs": [
    {
     "data": {
      "image/png": "[encoded data removed]",
      "text/plain": [
       "<Figure size 432x288 with 1 Axes>"
      ]
     },
     "metadata": {
      "needs_background": "light"
     },
     "output_type": "display_data"
    }
   ],
   "source": [
    "plt.plot (df ['salario'], label = 'original') \n",
    "plt.plot (df ['sampled_salario'], color = 'red', label = 'sampled') \n",
    "plt.legend () \n",
    "plt.show ()"
   ]
  },
  {
   "cell_type": "markdown",
   "metadata": {},
   "source": [
    "Finalmente, podemos plotar os valores medianos. Podemos calcular os valores de y(y_bins) correspondentes aos valores categorizados (x_bins) como os valores no centro do intervalo de compartimentos."
   ]
  },
  {
   "cell_type": "code",
   "execution_count": 177,
   "metadata": {},
   "outputs": [
    {
     "data": {
      "text/plain": [
       "array([ 45562.5, 105187.5])"
      ]
     },
     "execution_count": 177,
     "metadata": {},
     "output_type": "execute_result"
    }
   ],
   "source": [
    "y_bins = (bin_edges [: - 1] + bin_edges [1:]) / 2 \n",
    "y_bins"
   ]
  },
  {
   "cell_type": "markdown",
   "metadata": {},
   "source": [
    "Então planejamos:"
   ]
  },
  {
   "cell_type": "code",
   "execution_count": 178,
   "metadata": {},
   "outputs": [
    {
     "data": {
      "image/png": "[encoded data removed]",
      "text/plain": [
       "<Figure size 432x288 with 1 Axes>"
      ]
     },
     "metadata": {
      "needs_background": "light"
     },
     "output_type": "display_data"
    }
   ],
   "source": [
    "plt.plot (x_data, y_data) \n",
    "plt.xlabel (\"X\"); \n",
    "plt.ylabel (\"Y\")\n",
    "plt.scatter (x_bins, y_bins, color = 'red', linewidth = 5) \n",
    "plt.show ()"
   ]
  },
  {
   "cell_type": "markdown",
   "metadata": {},
   "source": [
    "### Calcule as quebras naturais nos dados ###\n",
    "\n",
    "Podemos usar o pacote jenkspy, que contém uma única função, chamada jenks_breaks(), que calcula as quebras naturais de um array, explorando o algoritmo de Fisher-Jenks . Podemos instalar o pacote executando pip install jenkspy."
   ]
  },
  {
   "cell_type": "code",
   "execution_count": 182,
   "metadata": {},
   "outputs": [],
   "source": [
    "import jenkspy \n",
    "breaks = jenkspy.jenks_breaks (df['salario'], nb_class = 3)"
   ]
  },
  {
   "cell_type": "markdown",
   "metadata": {},
   "source": [
    "Agora podemos usar a cut()função para transformar dados em rótulos."
   ]
  },
  {
   "cell_type": "code",
   "execution_count": 185,
   "metadata": {},
   "outputs": [],
   "source": [
    "df ['bin_cut_break'] = pd.cut(df['salario'], bins=breaks, labels = labels, include_lowest = True)"
   ]
  },
  {
   "cell_type": "markdown",
   "metadata": {},
   "source": [
    "Agora podemos plotar o resultado:"
   ]
  },
  {
   "cell_type": "code",
   "execution_count": 186,
   "metadata": {},
   "outputs": [
    {
     "data": {
      "image/png": "[encoded data removed]",
      "text/plain": [
       "<Figure size 432x288 with 1 Axes>"
      ]
     },
     "metadata": {
      "needs_background": "light"
     },
     "output_type": "display_data"
    }
   ],
   "source": [
    "plt.hist(df['bin_cut_break'], bins=3)\n",
    "plt.show()"
   ]
  },
  {
   "cell_type": "code",
   "execution_count": null,
   "metadata": {},
   "outputs": [],
   "source": []
  }
 ],
 "metadata": {
  "colab": {
   "collapsed_sections": [],
   "name": "AnaliseDescritiva.ipynb",
   "provenance": []
  },
  "kernelspec": {
   "display_name": "Python 3",
   "language": "python",
   "name": "python3"
  },
  "language_info": {
   "codemirror_mode": {
    "name": "ipython",
    "version": 3
   },
   "file_extension": ".py",
   "mimetype": "text/x-python",
   "name": "python",
   "nbconvert_exporter": "python",
   "pygments_lexer": "ipython3",
   "version": "3.8.5"
  }
 },
 "nbformat": 4,
 "nbformat_minor": 1
}
